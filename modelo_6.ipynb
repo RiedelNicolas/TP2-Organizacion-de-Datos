{
 "cells": [
  {
   "cell_type": "code",
   "execution_count": 1,
   "metadata": {},
   "outputs": [],
   "source": [
    "import pandas as pd\n",
    "import re\n",
    "import numpy as np\n",
    "import xgboost as xgb\n",
    "import matplotlib.pyplot as plt\n",
    "from sklearn.model_selection import train_test_split,GridSearchCV,cross_val_score\n",
    "from sklearn.ensemble import RandomForestClassifier, VotingClassifier, GradientBoostingClassifier\n",
    "from sklearn.metrics import accuracy_score,recall_score,precision_score,f1_score\n",
    "from sklearn.metrics import mean_squared_error\n",
    "from sklearn.preprocessing import StandardScaler\n",
    "from sklearn.decomposition import PCA\n",
    "import lightgbm as lgb\n",
    "from catboost import CatBoostClassifier\n",
    "%matplotlib inline"
   ]
  },
  {
   "cell_type": "markdown",
   "metadata": {},
   "source": [
    " "
   ]
  },
  {
   "cell_type": "markdown",
   "metadata": {},
   "source": [
    "# Se leen los archivos"
   ]
  },
  {
   "cell_type": "code",
   "execution_count": 2,
   "metadata": {},
   "outputs": [
    {
     "name": "stdout",
     "output_type": "stream",
     "text": [
      "<class 'pandas.core.frame.DataFrame'>\n",
      "RangeIndex: 7613 entries, 0 to 7612\n",
      "Data columns (total 5 columns):\n",
      " #   Column    Non-Null Count  Dtype \n",
      "---  ------    --------------  ----- \n",
      " 0   id        7613 non-null   int64 \n",
      " 1   keyword   7552 non-null   object\n",
      " 2   location  5080 non-null   object\n",
      " 3   text      7613 non-null   object\n",
      " 4   target    7613 non-null   int64 \n",
      "dtypes: int64(2), object(3)\n",
      "memory usage: 297.5+ KB\n"
     ]
    }
   ],
   "source": [
    "train = pd.read_csv('csv/train.csv')\n",
    "train.info()"
   ]
  },
  {
   "cell_type": "code",
   "execution_count": 3,
   "metadata": {},
   "outputs": [
    {
     "data": {
      "text/html": [
       "<div>\n",
       "<style scoped>\n",
       "    .dataframe tbody tr th:only-of-type {\n",
       "        vertical-align: middle;\n",
       "    }\n",
       "\n",
       "    .dataframe tbody tr th {\n",
       "        vertical-align: top;\n",
       "    }\n",
       "\n",
       "    .dataframe thead th {\n",
       "        text-align: right;\n",
       "    }\n",
       "</style>\n",
       "<table border=\"1\" class=\"dataframe\">\n",
       "  <thead>\n",
       "    <tr style=\"text-align: right;\">\n",
       "      <th></th>\n",
       "      <th>id</th>\n",
       "      <th>keyword</th>\n",
       "      <th>location</th>\n",
       "      <th>text</th>\n",
       "      <th>target</th>\n",
       "    </tr>\n",
       "  </thead>\n",
       "  <tbody>\n",
       "    <tr>\n",
       "      <th>0</th>\n",
       "      <td>1</td>\n",
       "      <td>NaN</td>\n",
       "      <td>NaN</td>\n",
       "      <td>Our Deeds are the Reason of this #earthquake M...</td>\n",
       "      <td>1</td>\n",
       "    </tr>\n",
       "    <tr>\n",
       "      <th>1</th>\n",
       "      <td>4</td>\n",
       "      <td>NaN</td>\n",
       "      <td>NaN</td>\n",
       "      <td>Forest fire near La Ronge Sask. Canada</td>\n",
       "      <td>1</td>\n",
       "    </tr>\n",
       "    <tr>\n",
       "      <th>2</th>\n",
       "      <td>5</td>\n",
       "      <td>NaN</td>\n",
       "      <td>NaN</td>\n",
       "      <td>All residents asked to 'shelter in place' are ...</td>\n",
       "      <td>1</td>\n",
       "    </tr>\n",
       "    <tr>\n",
       "      <th>3</th>\n",
       "      <td>6</td>\n",
       "      <td>NaN</td>\n",
       "      <td>NaN</td>\n",
       "      <td>13,000 people receive #wildfires evacuation or...</td>\n",
       "      <td>1</td>\n",
       "    </tr>\n",
       "    <tr>\n",
       "      <th>4</th>\n",
       "      <td>7</td>\n",
       "      <td>NaN</td>\n",
       "      <td>NaN</td>\n",
       "      <td>Just got sent this photo from Ruby #Alaska as ...</td>\n",
       "      <td>1</td>\n",
       "    </tr>\n",
       "  </tbody>\n",
       "</table>\n",
       "</div>"
      ],
      "text/plain": [
       "   id keyword location                                               text  \\\n",
       "0   1     NaN      NaN  Our Deeds are the Reason of this #earthquake M...   \n",
       "1   4     NaN      NaN             Forest fire near La Ronge Sask. Canada   \n",
       "2   5     NaN      NaN  All residents asked to 'shelter in place' are ...   \n",
       "3   6     NaN      NaN  13,000 people receive #wildfires evacuation or...   \n",
       "4   7     NaN      NaN  Just got sent this photo from Ruby #Alaska as ...   \n",
       "\n",
       "   target  \n",
       "0       1  \n",
       "1       1  \n",
       "2       1  \n",
       "3       1  \n",
       "4       1  "
      ]
     },
     "execution_count": 3,
     "metadata": {},
     "output_type": "execute_result"
    }
   ],
   "source": [
    "train.head()"
   ]
  },
  {
   "cell_type": "code",
   "execution_count": 4,
   "metadata": {},
   "outputs": [],
   "source": [
    "test = pd.read_csv('csv/test.csv')"
   ]
  },
  {
   "cell_type": "code",
   "execution_count": 5,
   "metadata": {},
   "outputs": [],
   "source": [
    "elmo_train = np.loadtxt(\"train_embedding_file.txt\").reshape(len(train.index),1024)\n",
    "elmo_test = np.loadtxt(\"test_embedding_file.txt\").reshape(len(test.index),1024)"
   ]
  },
  {
   "cell_type": "code",
   "execution_count": 6,
   "metadata": {},
   "outputs": [],
   "source": [
    "w2v_train = np.loadtxt(\"train_embedding_file_w2v(norm).txt\").reshape(len(train.index),300)\n",
    "w2v_test = np.loadtxt(\"test_embedding_file_w2v(norm).txt\").reshape(len(test.index),300)"
   ]
  },
  {
   "cell_type": "markdown",
   "metadata": {},
   "source": [
    "# Preparación de los features"
   ]
  },
  {
   "cell_type": "markdown",
   "metadata": {},
   "source": [
    "En este caso se aplicará el algoritmo PCA de reducción de dimensiones a los embeddings generados con word2vec y ELMo para luego evaluar los resultados obtenidos con distintos árboles de decisión. "
   ]
  },
  {
   "cell_type": "code",
   "execution_count": 7,
   "metadata": {},
   "outputs": [],
   "source": [
    "def pca_embedding(embedding):\n",
    "    pca = PCA(n_components=40)\n",
    "    aux = StandardScaler().fit_transform(embedding)\n",
    "    return pca.fit_transform(aux)"
   ]
  },
  {
   "cell_type": "code",
   "execution_count": 8,
   "metadata": {},
   "outputs": [
    {
     "data": {
      "text/html": [
       "<div>\n",
       "<style scoped>\n",
       "    .dataframe tbody tr th:only-of-type {\n",
       "        vertical-align: middle;\n",
       "    }\n",
       "\n",
       "    .dataframe tbody tr th {\n",
       "        vertical-align: top;\n",
       "    }\n",
       "\n",
       "    .dataframe thead th {\n",
       "        text-align: right;\n",
       "    }\n",
       "</style>\n",
       "<table border=\"1\" class=\"dataframe\">\n",
       "  <thead>\n",
       "    <tr style=\"text-align: right;\">\n",
       "      <th></th>\n",
       "      <th>0</th>\n",
       "      <th>1</th>\n",
       "      <th>2</th>\n",
       "      <th>3</th>\n",
       "      <th>4</th>\n",
       "      <th>5</th>\n",
       "      <th>6</th>\n",
       "      <th>7</th>\n",
       "      <th>8</th>\n",
       "      <th>9</th>\n",
       "      <th>...</th>\n",
       "      <th>71</th>\n",
       "      <th>72</th>\n",
       "      <th>73</th>\n",
       "      <th>74</th>\n",
       "      <th>75</th>\n",
       "      <th>76</th>\n",
       "      <th>77</th>\n",
       "      <th>78</th>\n",
       "      <th>79</th>\n",
       "      <th>target</th>\n",
       "    </tr>\n",
       "  </thead>\n",
       "  <tbody>\n",
       "    <tr>\n",
       "      <th>0</th>\n",
       "      <td>-13.736309</td>\n",
       "      <td>2.007282</td>\n",
       "      <td>0.144576</td>\n",
       "      <td>3.720196</td>\n",
       "      <td>-4.546878</td>\n",
       "      <td>-0.522302</td>\n",
       "      <td>-0.000929</td>\n",
       "      <td>-2.227781</td>\n",
       "      <td>1.283995</td>\n",
       "      <td>-0.824285</td>\n",
       "      <td>...</td>\n",
       "      <td>1.567848</td>\n",
       "      <td>-1.104088</td>\n",
       "      <td>0.520965</td>\n",
       "      <td>2.001560</td>\n",
       "      <td>2.933543</td>\n",
       "      <td>-0.002646</td>\n",
       "      <td>-0.069838</td>\n",
       "      <td>-0.792198</td>\n",
       "      <td>-0.290750</td>\n",
       "      <td>1</td>\n",
       "    </tr>\n",
       "    <tr>\n",
       "      <th>1</th>\n",
       "      <td>-11.810253</td>\n",
       "      <td>-1.972450</td>\n",
       "      <td>8.758817</td>\n",
       "      <td>0.464498</td>\n",
       "      <td>-1.751047</td>\n",
       "      <td>2.073969</td>\n",
       "      <td>0.467077</td>\n",
       "      <td>-0.397649</td>\n",
       "      <td>-2.411398</td>\n",
       "      <td>-0.810757</td>\n",
       "      <td>...</td>\n",
       "      <td>0.737749</td>\n",
       "      <td>-0.671624</td>\n",
       "      <td>-2.100406</td>\n",
       "      <td>-2.281841</td>\n",
       "      <td>-1.101396</td>\n",
       "      <td>-0.105134</td>\n",
       "      <td>1.687549</td>\n",
       "      <td>0.614608</td>\n",
       "      <td>2.088953</td>\n",
       "      <td>1</td>\n",
       "    </tr>\n",
       "    <tr>\n",
       "      <th>2</th>\n",
       "      <td>-9.389612</td>\n",
       "      <td>-6.768568</td>\n",
       "      <td>-9.392008</td>\n",
       "      <td>-1.860543</td>\n",
       "      <td>-4.532383</td>\n",
       "      <td>-2.499498</td>\n",
       "      <td>7.636814</td>\n",
       "      <td>4.596518</td>\n",
       "      <td>-8.892878</td>\n",
       "      <td>-2.213954</td>\n",
       "      <td>...</td>\n",
       "      <td>0.594961</td>\n",
       "      <td>-0.084156</td>\n",
       "      <td>0.123039</td>\n",
       "      <td>-1.773619</td>\n",
       "      <td>-0.608197</td>\n",
       "      <td>0.435749</td>\n",
       "      <td>-0.324750</td>\n",
       "      <td>-0.118877</td>\n",
       "      <td>0.118378</td>\n",
       "      <td>1</td>\n",
       "    </tr>\n",
       "    <tr>\n",
       "      <th>3</th>\n",
       "      <td>-15.600199</td>\n",
       "      <td>-5.578937</td>\n",
       "      <td>0.688331</td>\n",
       "      <td>1.796353</td>\n",
       "      <td>-3.036748</td>\n",
       "      <td>1.024565</td>\n",
       "      <td>0.980655</td>\n",
       "      <td>0.189601</td>\n",
       "      <td>-3.846012</td>\n",
       "      <td>2.078942</td>\n",
       "      <td>...</td>\n",
       "      <td>1.633815</td>\n",
       "      <td>-0.452019</td>\n",
       "      <td>0.923838</td>\n",
       "      <td>-1.338613</td>\n",
       "      <td>-1.718735</td>\n",
       "      <td>-1.569163</td>\n",
       "      <td>-0.316705</td>\n",
       "      <td>-1.491810</td>\n",
       "      <td>0.163558</td>\n",
       "      <td>1</td>\n",
       "    </tr>\n",
       "    <tr>\n",
       "      <th>4</th>\n",
       "      <td>-8.027637</td>\n",
       "      <td>-2.679847</td>\n",
       "      <td>-2.919748</td>\n",
       "      <td>1.455481</td>\n",
       "      <td>1.920094</td>\n",
       "      <td>4.269371</td>\n",
       "      <td>-1.396675</td>\n",
       "      <td>-0.055702</td>\n",
       "      <td>-1.214513</td>\n",
       "      <td>4.984164</td>\n",
       "      <td>...</td>\n",
       "      <td>-0.101811</td>\n",
       "      <td>-0.690781</td>\n",
       "      <td>0.102939</td>\n",
       "      <td>-0.245875</td>\n",
       "      <td>-0.170754</td>\n",
       "      <td>-1.082677</td>\n",
       "      <td>0.024990</td>\n",
       "      <td>-0.494026</td>\n",
       "      <td>-0.292226</td>\n",
       "      <td>1</td>\n",
       "    </tr>\n",
       "  </tbody>\n",
       "</table>\n",
       "<p>5 rows × 81 columns</p>\n",
       "</div>"
      ],
      "text/plain": [
       "           0         1         2         3         4         5         6  \\\n",
       "0 -13.736309  2.007282  0.144576  3.720196 -4.546878 -0.522302 -0.000929   \n",
       "1 -11.810253 -1.972450  8.758817  0.464498 -1.751047  2.073969  0.467077   \n",
       "2  -9.389612 -6.768568 -9.392008 -1.860543 -4.532383 -2.499498  7.636814   \n",
       "3 -15.600199 -5.578937  0.688331  1.796353 -3.036748  1.024565  0.980655   \n",
       "4  -8.027637 -2.679847 -2.919748  1.455481  1.920094  4.269371 -1.396675   \n",
       "\n",
       "          7         8         9  ...        71        72        73        74  \\\n",
       "0 -2.227781  1.283995 -0.824285  ...  1.567848 -1.104088  0.520965  2.001560   \n",
       "1 -0.397649 -2.411398 -0.810757  ...  0.737749 -0.671624 -2.100406 -2.281841   \n",
       "2  4.596518 -8.892878 -2.213954  ...  0.594961 -0.084156  0.123039 -1.773619   \n",
       "3  0.189601 -3.846012  2.078942  ...  1.633815 -0.452019  0.923838 -1.338613   \n",
       "4 -0.055702 -1.214513  4.984164  ... -0.101811 -0.690781  0.102939 -0.245875   \n",
       "\n",
       "         75        76        77        78        79  target  \n",
       "0  2.933543 -0.002646 -0.069838 -0.792198 -0.290750       1  \n",
       "1 -1.101396 -0.105134  1.687549  0.614608  2.088953       1  \n",
       "2 -0.608197  0.435749 -0.324750 -0.118877  0.118378       1  \n",
       "3 -1.718735 -1.569163 -0.316705 -1.491810  0.163558       1  \n",
       "4 -0.170754 -1.082677  0.024990 -0.494026 -0.292226       1  \n",
       "\n",
       "[5 rows x 81 columns]"
      ]
     },
     "execution_count": 8,
     "metadata": {},
     "output_type": "execute_result"
    }
   ],
   "source": [
    "training_set = pd.DataFrame(np.concatenate([pca_embedding(elmo_train),pca_embedding(w2v_train)], axis=1))\n",
    "training_set['target'] = train['target']\n",
    "training_set.head()"
   ]
  },
  {
   "cell_type": "code",
   "execution_count": 9,
   "metadata": {},
   "outputs": [
    {
     "data": {
      "text/html": [
       "<div>\n",
       "<style scoped>\n",
       "    .dataframe tbody tr th:only-of-type {\n",
       "        vertical-align: middle;\n",
       "    }\n",
       "\n",
       "    .dataframe tbody tr th {\n",
       "        vertical-align: top;\n",
       "    }\n",
       "\n",
       "    .dataframe thead th {\n",
       "        text-align: right;\n",
       "    }\n",
       "</style>\n",
       "<table border=\"1\" class=\"dataframe\">\n",
       "  <thead>\n",
       "    <tr style=\"text-align: right;\">\n",
       "      <th></th>\n",
       "      <th>0</th>\n",
       "      <th>1</th>\n",
       "      <th>2</th>\n",
       "      <th>3</th>\n",
       "      <th>4</th>\n",
       "      <th>5</th>\n",
       "      <th>6</th>\n",
       "      <th>7</th>\n",
       "      <th>8</th>\n",
       "      <th>9</th>\n",
       "      <th>...</th>\n",
       "      <th>70</th>\n",
       "      <th>71</th>\n",
       "      <th>72</th>\n",
       "      <th>73</th>\n",
       "      <th>74</th>\n",
       "      <th>75</th>\n",
       "      <th>76</th>\n",
       "      <th>77</th>\n",
       "      <th>78</th>\n",
       "      <th>79</th>\n",
       "    </tr>\n",
       "  </thead>\n",
       "  <tbody>\n",
       "    <tr>\n",
       "      <th>0</th>\n",
       "      <td>-15.456838</td>\n",
       "      <td>1.844249</td>\n",
       "      <td>-0.764046</td>\n",
       "      <td>1.395083</td>\n",
       "      <td>3.186081</td>\n",
       "      <td>2.001357</td>\n",
       "      <td>0.873796</td>\n",
       "      <td>2.265477</td>\n",
       "      <td>-3.385583</td>\n",
       "      <td>2.247599</td>\n",
       "      <td>...</td>\n",
       "      <td>1.132952</td>\n",
       "      <td>-2.051666</td>\n",
       "      <td>0.216574</td>\n",
       "      <td>1.763921</td>\n",
       "      <td>1.427776</td>\n",
       "      <td>0.371148</td>\n",
       "      <td>1.077794</td>\n",
       "      <td>-0.317192</td>\n",
       "      <td>0.416856</td>\n",
       "      <td>-0.523773</td>\n",
       "    </tr>\n",
       "    <tr>\n",
       "      <th>1</th>\n",
       "      <td>-15.176310</td>\n",
       "      <td>-0.772809</td>\n",
       "      <td>-4.685967</td>\n",
       "      <td>0.477827</td>\n",
       "      <td>-1.863495</td>\n",
       "      <td>3.745633</td>\n",
       "      <td>1.308749</td>\n",
       "      <td>-0.385300</td>\n",
       "      <td>0.347107</td>\n",
       "      <td>-0.840948</td>\n",
       "      <td>...</td>\n",
       "      <td>1.350942</td>\n",
       "      <td>0.364163</td>\n",
       "      <td>-0.193940</td>\n",
       "      <td>-0.511294</td>\n",
       "      <td>0.353892</td>\n",
       "      <td>0.600745</td>\n",
       "      <td>0.707569</td>\n",
       "      <td>-1.080140</td>\n",
       "      <td>0.320960</td>\n",
       "      <td>0.384011</td>\n",
       "    </tr>\n",
       "    <tr>\n",
       "      <th>2</th>\n",
       "      <td>-4.354521</td>\n",
       "      <td>-0.600519</td>\n",
       "      <td>-2.571853</td>\n",
       "      <td>0.981579</td>\n",
       "      <td>1.851692</td>\n",
       "      <td>8.549530</td>\n",
       "      <td>-2.254208</td>\n",
       "      <td>1.173279</td>\n",
       "      <td>6.531805</td>\n",
       "      <td>0.037489</td>\n",
       "      <td>...</td>\n",
       "      <td>0.615997</td>\n",
       "      <td>0.095573</td>\n",
       "      <td>2.618621</td>\n",
       "      <td>0.334979</td>\n",
       "      <td>1.059441</td>\n",
       "      <td>0.137227</td>\n",
       "      <td>-0.603370</td>\n",
       "      <td>-0.706712</td>\n",
       "      <td>0.710091</td>\n",
       "      <td>-1.025594</td>\n",
       "    </tr>\n",
       "    <tr>\n",
       "      <th>3</th>\n",
       "      <td>-14.889525</td>\n",
       "      <td>-3.705396</td>\n",
       "      <td>1.735795</td>\n",
       "      <td>1.814816</td>\n",
       "      <td>0.896484</td>\n",
       "      <td>3.098697</td>\n",
       "      <td>-0.342755</td>\n",
       "      <td>-3.575621</td>\n",
       "      <td>-1.355512</td>\n",
       "      <td>0.730867</td>\n",
       "      <td>...</td>\n",
       "      <td>3.557524</td>\n",
       "      <td>0.031584</td>\n",
       "      <td>0.903291</td>\n",
       "      <td>3.368354</td>\n",
       "      <td>0.047525</td>\n",
       "      <td>0.685191</td>\n",
       "      <td>-2.889472</td>\n",
       "      <td>-3.571731</td>\n",
       "      <td>2.431178</td>\n",
       "      <td>-0.399387</td>\n",
       "    </tr>\n",
       "    <tr>\n",
       "      <th>4</th>\n",
       "      <td>-9.656657</td>\n",
       "      <td>-5.667418</td>\n",
       "      <td>4.433180</td>\n",
       "      <td>3.458590</td>\n",
       "      <td>0.963097</td>\n",
       "      <td>4.513907</td>\n",
       "      <td>-4.159752</td>\n",
       "      <td>-2.056735</td>\n",
       "      <td>1.123739</td>\n",
       "      <td>-0.303383</td>\n",
       "      <td>...</td>\n",
       "      <td>-4.632974</td>\n",
       "      <td>-1.018867</td>\n",
       "      <td>-0.863002</td>\n",
       "      <td>1.741258</td>\n",
       "      <td>2.803662</td>\n",
       "      <td>-0.677797</td>\n",
       "      <td>-1.259002</td>\n",
       "      <td>2.842066</td>\n",
       "      <td>1.170445</td>\n",
       "      <td>2.801125</td>\n",
       "    </tr>\n",
       "  </tbody>\n",
       "</table>\n",
       "<p>5 rows × 80 columns</p>\n",
       "</div>"
      ],
      "text/plain": [
       "          0         1         2         3         4         5         6   \\\n",
       "0 -15.456838  1.844249 -0.764046  1.395083  3.186081  2.001357  0.873796   \n",
       "1 -15.176310 -0.772809 -4.685967  0.477827 -1.863495  3.745633  1.308749   \n",
       "2  -4.354521 -0.600519 -2.571853  0.981579  1.851692  8.549530 -2.254208   \n",
       "3 -14.889525 -3.705396  1.735795  1.814816  0.896484  3.098697 -0.342755   \n",
       "4  -9.656657 -5.667418  4.433180  3.458590  0.963097  4.513907 -4.159752   \n",
       "\n",
       "         7         8         9   ...        70        71        72        73  \\\n",
       "0  2.265477 -3.385583  2.247599  ...  1.132952 -2.051666  0.216574  1.763921   \n",
       "1 -0.385300  0.347107 -0.840948  ...  1.350942  0.364163 -0.193940 -0.511294   \n",
       "2  1.173279  6.531805  0.037489  ...  0.615997  0.095573  2.618621  0.334979   \n",
       "3 -3.575621 -1.355512  0.730867  ...  3.557524  0.031584  0.903291  3.368354   \n",
       "4 -2.056735  1.123739 -0.303383  ... -4.632974 -1.018867 -0.863002  1.741258   \n",
       "\n",
       "         74        75        76        77        78        79  \n",
       "0  1.427776  0.371148  1.077794 -0.317192  0.416856 -0.523773  \n",
       "1  0.353892  0.600745  0.707569 -1.080140  0.320960  0.384011  \n",
       "2  1.059441  0.137227 -0.603370 -0.706712  0.710091 -1.025594  \n",
       "3  0.047525  0.685191 -2.889472 -3.571731  2.431178 -0.399387  \n",
       "4  2.803662 -0.677797 -1.259002  2.842066  1.170445  2.801125  \n",
       "\n",
       "[5 rows x 80 columns]"
      ]
     },
     "execution_count": 9,
     "metadata": {},
     "output_type": "execute_result"
    }
   ],
   "source": [
    "test_set = pd.DataFrame(np.concatenate([pca_embedding(elmo_test),pca_embedding(w2v_test)], axis=1))\n",
    "#test_set.set_index(test['id'],inplace=True)\n",
    "test_set.head()"
   ]
  },
  {
   "cell_type": "markdown",
   "metadata": {},
   "source": [
    "# Se entrena el modelo"
   ]
  },
  {
   "cell_type": "code",
   "execution_count": 10,
   "metadata": {},
   "outputs": [],
   "source": [
    "X, y = training_set.iloc[:,0:-1], training_set.iloc[:,-1].to_frame()\n",
    "X_train, X_test, y_train, y_test = train_test_split(X, y, test_size=0.1, random_state=42)"
   ]
  },
  {
   "cell_type": "code",
   "execution_count": 11,
   "metadata": {},
   "outputs": [
    {
     "name": "stderr",
     "output_type": "stream",
     "text": [
      "/home/gonzams/anaconda3/lib/python3.7/site-packages/sklearn/preprocessing/_label.py:235: DataConversionWarning: A column-vector y was passed when a 1d array was expected. Please change the shape of y to (n_samples, ), for example using ravel().\n",
      "  y = column_or_1d(y, warn=True)\n",
      "/home/gonzams/anaconda3/lib/python3.7/site-packages/sklearn/preprocessing/_label.py:268: DataConversionWarning: A column-vector y was passed when a 1d array was expected. Please change the shape of y to (n_samples, ), for example using ravel().\n",
      "  y = column_or_1d(y, warn=True)\n"
     ]
    },
    {
     "name": "stdout",
     "output_type": "stream",
     "text": [
      "Accuracy Score : 0.7703412073490814\n",
      "Precision Score : 0.8368200836820083\n",
      "Recall Score : 0.5952380952380952\n",
      "F1 Score : 0.6956521739130433\n"
     ]
    }
   ],
   "source": [
    "xg_reg = xgb.XGBClassifier(objective ='binary:logistic', \n",
    "                colsample_bytree = 0.3, learning_rate = 0.1,\n",
    "                max_depth = 20, alpha = 10, n_estimators = 2)\n",
    "\n",
    "xg_reg.fit(X_train,y_train)\n",
    "preds = xg_reg.predict(X_test)\n",
    "print('Accuracy Score : ' + str(accuracy_score(y_test,preds)))\n",
    "print('Precision Score : ' + str(precision_score(y_test,preds)))\n",
    "print('Recall Score : ' + str(recall_score(y_test,preds)))\n",
    "print('F1 Score : ' + str(f1_score(y_test,preds)))"
   ]
  },
  {
   "cell_type": "code",
   "execution_count": 12,
   "metadata": {},
   "outputs": [
    {
     "name": "stderr",
     "output_type": "stream",
     "text": [
      "/home/gonzams/anaconda3/lib/python3.7/site-packages/ipykernel_launcher.py:2: DataConversionWarning: A column-vector y was passed when a 1d array was expected. Please change the shape of y to (n_samples,), for example using ravel().\n",
      "  \n"
     ]
    },
    {
     "name": "stdout",
     "output_type": "stream",
     "text": [
      "Accuracy Score : 0.7729658792650919\n",
      "Precision Score : 0.7859649122807018\n",
      "Recall Score : 0.6666666666666666\n",
      "F1 Score : 0.7214170692431561\n"
     ]
    }
   ],
   "source": [
    "rf_model = RandomForestClassifier(random_state=13, n_estimators=5, max_depth=10)\n",
    "rf_model.fit(X_train, y_train)\n",
    "preds = rf_model.predict(X_test)\n",
    "\n",
    "print('Accuracy Score : ' + str(accuracy_score(y_test,preds)))\n",
    "print('Precision Score : ' + str(precision_score(y_test,preds)))\n",
    "print('Recall Score : ' + str(recall_score(y_test,preds)))\n",
    "print('F1 Score : ' + str(f1_score(y_test,preds)))"
   ]
  },
  {
   "cell_type": "code",
   "execution_count": 13,
   "metadata": {},
   "outputs": [
    {
     "name": "stderr",
     "output_type": "stream",
     "text": [
      "/home/gonzams/anaconda3/lib/python3.7/site-packages/sklearn/preprocessing/_label.py:235: DataConversionWarning: A column-vector y was passed when a 1d array was expected. Please change the shape of y to (n_samples, ), for example using ravel().\n",
      "  y = column_or_1d(y, warn=True)\n",
      "/home/gonzams/anaconda3/lib/python3.7/site-packages/sklearn/preprocessing/_label.py:268: DataConversionWarning: A column-vector y was passed when a 1d array was expected. Please change the shape of y to (n_samples, ), for example using ravel().\n",
      "  y = column_or_1d(y, warn=True)\n"
     ]
    },
    {
     "name": "stdout",
     "output_type": "stream",
     "text": [
      "Accuracy Score : 0.7716535433070866\n",
      "Precision Score : 0.8491379310344828\n",
      "Recall Score : 0.5863095238095238\n",
      "F1 Score : 0.693661971830986\n"
     ]
    }
   ],
   "source": [
    "lgb_class = lgb.LGBMClassifier(learning_rate = 0.1,\n",
    "                max_depth = 10, alpha = 10, n_estimators = 5)\n",
    "lgb_class.fit(X_train, y_train)\n",
    "preds = lgb_class.predict(X_test)\n",
    "\n",
    "print('Accuracy Score : ' + str(accuracy_score(y_test,preds)))\n",
    "print('Precision Score : ' + str(precision_score(y_test,preds)))\n",
    "print('Recall Score : ' + str(recall_score(y_test,preds)))\n",
    "print('F1 Score : ' + str(f1_score(y_test,preds)))"
   ]
  },
  {
   "cell_type": "code",
   "execution_count": 14,
   "metadata": {},
   "outputs": [
    {
     "name": "stdout",
     "output_type": "stream",
     "text": [
      "Learning rate set to 0.5\n",
      "0:\tlearn: 0.5512509\ttotal: 85.6ms\tremaining: 342ms\n",
      "1:\tlearn: 0.5092646\ttotal: 123ms\tremaining: 185ms\n",
      "2:\tlearn: 0.4807054\ttotal: 159ms\tremaining: 106ms\n",
      "3:\tlearn: 0.4649020\ttotal: 204ms\tremaining: 51.1ms\n",
      "4:\tlearn: 0.4512209\ttotal: 240ms\tremaining: 0us\n",
      "Accuracy Score : 0.7979002624671916\n",
      "Precision Score : 0.837037037037037\n",
      "Recall Score : 0.6726190476190477\n",
      "F1 Score : 0.7458745874587459\n"
     ]
    }
   ],
   "source": [
    "catb = CatBoostClassifier(iterations=5)\n",
    "catb.fit(X_train, y_train)\n",
    "preds = catb.predict(X_test)\n",
    "\n",
    "print('Accuracy Score : ' + str(accuracy_score(y_test,preds)))\n",
    "print('Precision Score : ' + str(precision_score(y_test,preds)))\n",
    "print('Recall Score : ' + str(recall_score(y_test,preds)))\n",
    "print('F1 Score : ' + str(f1_score(y_test,preds)))"
   ]
  },
  {
   "cell_type": "code",
   "execution_count": 15,
   "metadata": {},
   "outputs": [
    {
     "name": "stdout",
     "output_type": "stream",
     "text": [
      "Accuracy Score : 0.5616797900262467\n",
      "Precision Score : 0.6\n",
      "Recall Score : 0.017857142857142856\n",
      "F1 Score : 0.03468208092485549\n"
     ]
    },
    {
     "name": "stderr",
     "output_type": "stream",
     "text": [
      "/home/gonzams/anaconda3/lib/python3.7/site-packages/sklearn/ensemble/_gb.py:1454: DataConversionWarning: A column-vector y was passed when a 1d array was expected. Please change the shape of y to (n_samples, ), for example using ravel().\n",
      "  y = column_or_1d(y, warn=True)\n"
     ]
    }
   ],
   "source": [
    "gb = GradientBoostingClassifier(n_estimators=5, learning_rate=0.1, \n",
    "                                max_features=2, max_depth = 2, random_state = 0)\n",
    "gb.fit(X_train, y_train)\n",
    "preds = gb.predict(X_test)\n",
    "\n",
    "print('Accuracy Score : ' + str(accuracy_score(y_test,preds.round())))\n",
    "print('Precision Score : ' + str(precision_score(y_test,preds.round())))\n",
    "print('Recall Score : ' + str(recall_score(y_test,preds.round())))\n",
    "print('F1 Score : ' + str(f1_score(y_test,preds.round())))"
   ]
  },
  {
   "cell_type": "code",
   "execution_count": 21,
   "metadata": {},
   "outputs": [
    {
     "name": "stderr",
     "output_type": "stream",
     "text": [
      "/home/gonzams/anaconda3/lib/python3.7/site-packages/sklearn/preprocessing/_label.py:235: DataConversionWarning: A column-vector y was passed when a 1d array was expected. Please change the shape of y to (n_samples, ), for example using ravel().\n",
      "  y = column_or_1d(y, warn=True)\n",
      "/home/gonzams/anaconda3/lib/python3.7/site-packages/sklearn/preprocessing/_label.py:268: DataConversionWarning: A column-vector y was passed when a 1d array was expected. Please change the shape of y to (n_samples, ), for example using ravel().\n",
      "  y = column_or_1d(y, warn=True)\n"
     ]
    },
    {
     "name": "stdout",
     "output_type": "stream",
     "text": [
      "Learning rate set to 0.5\n",
      "0:\tlearn: 0.5454116\ttotal: 35.7ms\tremaining: 143ms\n",
      "1:\tlearn: 0.5030436\ttotal: 81.2ms\tremaining: 122ms\n",
      "2:\tlearn: 0.4740884\ttotal: 122ms\tremaining: 81.3ms\n",
      "3:\tlearn: 0.4628224\ttotal: 174ms\tremaining: 43.6ms\n",
      "4:\tlearn: 0.4477594\ttotal: 233ms\tremaining: 0us\n",
      "Accuracy Score : 0.8044619422572179\n",
      "Precision Score : 0.9698492462311558\n",
      "Recall Score : 0.5744047619047619\n",
      "F1 Score : 0.7214953271028036\n"
     ]
    }
   ],
   "source": [
    "eclf2 = VotingClassifier(estimators=[\n",
    "         ('rf', rf_model), ('catb', catb), ('gb', gb), ('lgbm',lgb_class)])\n",
    "eclf2 = eclf2.fit(X, y)\n",
    "preds = eclf2.predict(X_test)\n",
    "\n",
    "print('Accuracy Score : ' + str(accuracy_score(y_test,preds)))\n",
    "print('Precision Score : ' + str(precision_score(y_test,preds)))\n",
    "print('Recall Score : ' + str(recall_score(y_test,preds)))\n",
    "print('F1 Score : ' + str(f1_score(y_test,preds)))"
   ]
  },
  {
   "cell_type": "markdown",
   "metadata": {},
   "source": [
    "# Predicciones"
   ]
  },
  {
   "cell_type": "code",
   "execution_count": 23,
   "metadata": {},
   "outputs": [],
   "source": [
    "test['target'] = eclf2.predict(test_set.iloc[:,:-1]).astype(int)"
   ]
  },
  {
   "cell_type": "code",
   "execution_count": 24,
   "metadata": {},
   "outputs": [
    {
     "data": {
      "text/html": [
       "<div>\n",
       "<style scoped>\n",
       "    .dataframe tbody tr th:only-of-type {\n",
       "        vertical-align: middle;\n",
       "    }\n",
       "\n",
       "    .dataframe tbody tr th {\n",
       "        vertical-align: top;\n",
       "    }\n",
       "\n",
       "    .dataframe thead th {\n",
       "        text-align: right;\n",
       "    }\n",
       "</style>\n",
       "<table border=\"1\" class=\"dataframe\">\n",
       "  <thead>\n",
       "    <tr style=\"text-align: right;\">\n",
       "      <th></th>\n",
       "      <th>target</th>\n",
       "    </tr>\n",
       "    <tr>\n",
       "      <th>id</th>\n",
       "      <th></th>\n",
       "    </tr>\n",
       "  </thead>\n",
       "  <tbody>\n",
       "    <tr>\n",
       "      <th>0</th>\n",
       "      <td>0</td>\n",
       "    </tr>\n",
       "    <tr>\n",
       "      <th>2</th>\n",
       "      <td>1</td>\n",
       "    </tr>\n",
       "    <tr>\n",
       "      <th>3</th>\n",
       "      <td>0</td>\n",
       "    </tr>\n",
       "    <tr>\n",
       "      <th>9</th>\n",
       "      <td>1</td>\n",
       "    </tr>\n",
       "    <tr>\n",
       "      <th>11</th>\n",
       "      <td>0</td>\n",
       "    </tr>\n",
       "  </tbody>\n",
       "</table>\n",
       "</div>"
      ],
      "text/plain": [
       "    target\n",
       "id        \n",
       "0        0\n",
       "2        1\n",
       "3        0\n",
       "9        1\n",
       "11       0"
      ]
     },
     "execution_count": 24,
     "metadata": {},
     "output_type": "execute_result"
    }
   ],
   "source": [
    "test.set_index('id', inplace=True)\n",
    "test.drop(columns=['keyword','location','text'], inplace=True)\n",
    "test.head()"
   ]
  },
  {
   "cell_type": "code",
   "execution_count": 25,
   "metadata": {},
   "outputs": [],
   "source": [
    "final = test.to_csv('csv/submission_modelo6(pca40).csv')"
   ]
  }
 ],
 "metadata": {
  "kernelspec": {
   "display_name": "Python 3",
   "language": "python",
   "name": "python3"
  },
  "language_info": {
   "codemirror_mode": {
    "name": "ipython",
    "version": 3
   },
   "file_extension": ".py",
   "mimetype": "text/x-python",
   "name": "python",
   "nbconvert_exporter": "python",
   "pygments_lexer": "ipython3",
   "version": "3.7.6"
  }
 },
 "nbformat": 4,
 "nbformat_minor": 4
}
