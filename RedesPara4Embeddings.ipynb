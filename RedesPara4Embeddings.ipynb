{
 "cells": [
  {
   "cell_type": "code",
   "execution_count": 283,
   "metadata": {},
   "outputs": [],
   "source": [
    "import pandas as pd\n",
    "import re\n",
    "import numpy as np\n",
    "import tensorflow_hub as hub\n",
    "import tensorflow as tf\n",
    "from keras.models import Sequential\n",
    "from keras.layers import Embedding, LSTM,Dense, SpatialDropout1D, Dropout\n",
    "from keras import layers\n",
    "from keras.optimizers import Adam\n",
    "from sklearn.model_selection import train_test_split\n",
    "from sklearn.metrics import accuracy_score"
   ]
  },
  {
   "cell_type": "code",
   "execution_count": 2,
   "metadata": {},
   "outputs": [],
   "source": [
    "np.random.seed(13)"
   ]
  },
  {
   "cell_type": "code",
   "execution_count": 6,
   "metadata": {},
   "outputs": [],
   "source": [
    "len_elmo = 1024\n",
    "len_bert = 768\n",
    "len_w2v = 300\n",
    "len_glove = 200"
   ]
  },
  {
   "cell_type": "markdown",
   "metadata": {},
   "source": [
    "#### Lectura BERT"
   ]
  },
  {
   "cell_type": "code",
   "execution_count": 7,
   "metadata": {},
   "outputs": [
    {
     "data": {
      "text/plain": [
       "(7613, 768)"
      ]
     },
     "execution_count": 7,
     "metadata": {},
     "output_type": "execute_result"
    }
   ],
   "source": [
    "bert_train = np.loadtxt(\"train_embedding_file_bert.txt\").reshape(len(train.index),len_bert)\n",
    "bert_train.shape"
   ]
  },
  {
   "cell_type": "code",
   "execution_count": 8,
   "metadata": {},
   "outputs": [
    {
     "data": {
      "text/plain": [
       "(3263, 768)"
      ]
     },
     "execution_count": 8,
     "metadata": {},
     "output_type": "execute_result"
    }
   ],
   "source": [
    "bert_test = np.loadtxt(\"test_embedding_file_bert.txt\").reshape(len(test.index),len_bert)\n",
    "bert_test.shape"
   ]
  },
  {
   "cell_type": "markdown",
   "metadata": {},
   "source": [
    "#### Lectura ELMo"
   ]
  },
  {
   "cell_type": "code",
   "execution_count": 9,
   "metadata": {},
   "outputs": [
    {
     "data": {
      "text/plain": [
       "(7613, 1024)"
      ]
     },
     "execution_count": 9,
     "metadata": {},
     "output_type": "execute_result"
    }
   ],
   "source": [
    "elmo_train = np.loadtxt(\"train_embedding_file_elmo.txt\").reshape(len(train.index),len_elmo)\n",
    "elmo_train.shape"
   ]
  },
  {
   "cell_type": "code",
   "execution_count": 10,
   "metadata": {},
   "outputs": [
    {
     "data": {
      "text/plain": [
       "(3263, 1024)"
      ]
     },
     "execution_count": 10,
     "metadata": {},
     "output_type": "execute_result"
    }
   ],
   "source": [
    "elmo_test = np.loadtxt(\"test_embedding_file_elmo.txt\").reshape(len(test.index),len_elmo)\n",
    "elmo_test.shape"
   ]
  },
  {
   "cell_type": "markdown",
   "metadata": {},
   "source": [
    "#### Lectura W2V"
   ]
  },
  {
   "cell_type": "code",
   "execution_count": 11,
   "metadata": {},
   "outputs": [
    {
     "data": {
      "text/plain": [
       "(7613, 300)"
      ]
     },
     "execution_count": 11,
     "metadata": {},
     "output_type": "execute_result"
    }
   ],
   "source": [
    "w2v_train = np.loadtxt(\"train_embedding_file_w2v(norm).txt\").reshape(len(train.index),len_w2v)\n",
    "w2v_train.shape"
   ]
  },
  {
   "cell_type": "code",
   "execution_count": 12,
   "metadata": {},
   "outputs": [
    {
     "data": {
      "text/plain": [
       "(3263, 300)"
      ]
     },
     "execution_count": 12,
     "metadata": {},
     "output_type": "execute_result"
    }
   ],
   "source": [
    "w2v_test = np.loadtxt(\"test_embedding_file_w2v(norm).txt\").reshape(len(test.index),len_w2v)\n",
    "w2v_test.shape"
   ]
  },
  {
   "cell_type": "markdown",
   "metadata": {},
   "source": [
    "#### Lectura Glove"
   ]
  },
  {
   "cell_type": "code",
   "execution_count": 13,
   "metadata": {},
   "outputs": [
    {
     "data": {
      "text/plain": [
       "(7613, 200)"
      ]
     },
     "execution_count": 13,
     "metadata": {},
     "output_type": "execute_result"
    }
   ],
   "source": [
    "glove_train = np.loadtxt(\"train_embedding_file_glove.txt\").reshape(len(train.index),len_glove)\n",
    "glove_train.shape"
   ]
  },
  {
   "cell_type": "code",
   "execution_count": 14,
   "metadata": {},
   "outputs": [
    {
     "data": {
      "text/plain": [
       "(3263, 200)"
      ]
     },
     "execution_count": 14,
     "metadata": {},
     "output_type": "execute_result"
    }
   ],
   "source": [
    "glove_test = np.loadtxt(\"test_embedding_file_glove.txt\").reshape(len(test.index),len_glove)\n",
    "glove_test.shape"
   ]
  },
  {
   "cell_type": "markdown",
   "metadata": {},
   "source": [
    "# BERT"
   ]
  },
  {
   "cell_type": "code",
   "execution_count": 429,
   "metadata": {},
   "outputs": [],
   "source": [
    "train = pd.read_csv('csv/train.csv')\n",
    "# ids_with_target_error = [328,443,513,2619,3640,3900,4342,5781,6552,6554,6570,6701,6702,6729,6861,7226]\n",
    "# train.loc[train['id'].isin(ids_with_target_error),'target'] = 0\n",
    "test = pd.read_csv('csv/test.csv')"
   ]
  },
  {
   "cell_type": "code",
   "execution_count": 430,
   "metadata": {},
   "outputs": [],
   "source": [
    "X, y = bert_train, train['target']\n",
    "X_train, X_test, y_train, y_test = train_test_split(X, y, test_size=0.1, random_state=13)"
   ]
  },
  {
   "cell_type": "code",
   "execution_count": 431,
   "metadata": {},
   "outputs": [],
   "source": [
    "model = Sequential()\n",
    "# model.add(layers.Dense(round(len_bert*.75), input_dim=len_bert, activation='relu'))\n",
    "# model.add(Dropout(0.25))\n",
    "# model.add(layers.Dense(round(len_bert/2), input_dim=len_bert, activation='relu'))\n",
    "# model.add(Dropout(0.25))\n",
    "model.add(layers.Dense(1, input_dim=len_bert, activation='sigmoid'))"
   ]
  },
  {
   "cell_type": "code",
   "execution_count": 432,
   "metadata": {},
   "outputs": [
    {
     "name": "stdout",
     "output_type": "stream",
     "text": [
      "Model: \"sequential_42\"\n",
      "_________________________________________________________________\n",
      "Layer (type)                 Output Shape              Param #   \n",
      "=================================================================\n",
      "dense_120 (Dense)            (None, 1)                 769       \n",
      "=================================================================\n",
      "Total params: 769\n",
      "Trainable params: 769\n",
      "Non-trainable params: 0\n",
      "_________________________________________________________________\n"
     ]
    }
   ],
   "source": [
    "optimizer=Adam(learning_rate=5e-5)\n",
    "model.compile(loss='binary_crossentropy', \n",
    "              optimizer='adam', \n",
    "              metrics=['accuracy'])\n",
    "model.summary()"
   ]
  },
  {
   "cell_type": "code",
   "execution_count": 433,
   "metadata": {
    "scrolled": true
   },
   "outputs": [
    {
     "name": "stdout",
     "output_type": "stream",
     "text": [
      "Epoch 1/10\n",
      "686/686 [==============================] - 1s 2ms/step - loss: 0.5098 - accuracy: 0.7656 - val_loss: 0.4553 - val_accuracy: 0.7927\n",
      "Epoch 2/10\n",
      "686/686 [==============================] - 1s 1ms/step - loss: 0.4563 - accuracy: 0.7992 - val_loss: 0.4390 - val_accuracy: 0.8176\n",
      "Epoch 3/10\n",
      "686/686 [==============================] - 1s 1ms/step - loss: 0.4425 - accuracy: 0.8054 - val_loss: 0.4350 - val_accuracy: 0.8228\n",
      "Epoch 4/10\n",
      "686/686 [==============================] - 1s 1ms/step - loss: 0.4354 - accuracy: 0.8083 - val_loss: 0.4322 - val_accuracy: 0.8136\n",
      "Epoch 5/10\n",
      "686/686 [==============================] - 1s 1ms/step - loss: 0.4299 - accuracy: 0.8154 - val_loss: 0.4453 - val_accuracy: 0.8189\n",
      "Epoch 6/10\n",
      "686/686 [==============================] - 1s 1ms/step - loss: 0.4267 - accuracy: 0.8120 - val_loss: 0.4279 - val_accuracy: 0.8150\n",
      "Epoch 7/10\n",
      "686/686 [==============================] - 1s 1ms/step - loss: 0.4238 - accuracy: 0.8156 - val_loss: 0.4288 - val_accuracy: 0.8215\n",
      "Epoch 8/10\n",
      "686/686 [==============================] - 1s 1ms/step - loss: 0.4196 - accuracy: 0.8183 - val_loss: 0.4301 - val_accuracy: 0.8123\n",
      "Epoch 9/10\n",
      "686/686 [==============================] - 1s 1ms/step - loss: 0.4206 - accuracy: 0.8178 - val_loss: 0.4262 - val_accuracy: 0.8294\n",
      "Epoch 10/10\n",
      "686/686 [==============================] - 1s 1ms/step - loss: 0.4170 - accuracy: 0.8178 - val_loss: 0.4375 - val_accuracy: 0.8189\n"
     ]
    }
   ],
   "source": [
    "history = model.fit(X_train, y_train,\n",
    "                    epochs=10,\n",
    "                    verbose=True,\n",
    "                    validation_data=(X_test, y_test),\n",
    "                    batch_size=10)"
   ]
  },
  {
   "cell_type": "code",
   "execution_count": 434,
   "metadata": {},
   "outputs": [],
   "source": [
    "test_pred = model.predict(bert_test)\n",
    "test_pred_int = test_pred.round().astype('int')"
   ]
  },
  {
   "cell_type": "code",
   "execution_count": 435,
   "metadata": {},
   "outputs": [
    {
     "data": {
      "text/html": [
       "<div>\n",
       "<style scoped>\n",
       "    .dataframe tbody tr th:only-of-type {\n",
       "        vertical-align: middle;\n",
       "    }\n",
       "\n",
       "    .dataframe tbody tr th {\n",
       "        vertical-align: top;\n",
       "    }\n",
       "\n",
       "    .dataframe thead th {\n",
       "        text-align: right;\n",
       "    }\n",
       "</style>\n",
       "<table border=\"1\" class=\"dataframe\">\n",
       "  <thead>\n",
       "    <tr style=\"text-align: right;\">\n",
       "      <th></th>\n",
       "      <th>bert_net</th>\n",
       "    </tr>\n",
       "  </thead>\n",
       "  <tbody>\n",
       "    <tr>\n",
       "      <th>0</th>\n",
       "      <td>0.942535</td>\n",
       "    </tr>\n",
       "    <tr>\n",
       "      <th>1</th>\n",
       "      <td>0.976414</td>\n",
       "    </tr>\n",
       "    <tr>\n",
       "      <th>2</th>\n",
       "      <td>0.677062</td>\n",
       "    </tr>\n",
       "    <tr>\n",
       "      <th>3</th>\n",
       "      <td>0.990948</td>\n",
       "    </tr>\n",
       "    <tr>\n",
       "      <th>4</th>\n",
       "      <td>0.947406</td>\n",
       "    </tr>\n",
       "  </tbody>\n",
       "</table>\n",
       "</div>"
      ],
      "text/plain": [
       "   bert_net\n",
       "0  0.942535\n",
       "1  0.976414\n",
       "2  0.677062\n",
       "3  0.990948\n",
       "4  0.947406"
      ]
     },
     "execution_count": 435,
     "metadata": {},
     "output_type": "execute_result"
    }
   ],
   "source": [
    "test['bert_net'] = test_pred\n",
    "test = test['bert_net'].to_frame()\n",
    "test.head()"
   ]
  },
  {
   "cell_type": "code",
   "execution_count": 436,
   "metadata": {},
   "outputs": [],
   "source": [
    "test.to_csv('csv/test_red_bert.csv')"
   ]
  },
  {
   "cell_type": "code",
   "execution_count": 437,
   "metadata": {},
   "outputs": [],
   "source": [
    "train_pred = model.predict(bert_train)\n",
    "train_pred_int = train_pred.round().astype('int')"
   ]
  },
  {
   "cell_type": "code",
   "execution_count": 438,
   "metadata": {},
   "outputs": [],
   "source": [
    "train['bert_net'] = train_pred\n",
    "train = train['bert_net'].to_frame()\n",
    "train.to_csv('csv/train_red_bert.csv')"
   ]
  },
  {
   "cell_type": "markdown",
   "metadata": {},
   "source": [
    "# ELMo"
   ]
  },
  {
   "cell_type": "code",
   "execution_count": 820,
   "metadata": {},
   "outputs": [],
   "source": [
    "train = pd.read_csv('csv/train.csv')\n",
    "# ids_with_target_error = [328,443,513,2619,3640,3900,4342,5781,6552,6554,6570,6701,6702,6729,6861,7226]\n",
    "# train.loc[train['id'].isin(ids_with_target_error),'target'] = 0\n",
    "test = pd.read_csv('csv/test.csv')\n",
    "X, y = elmo_train, train['target']\n",
    "X_train, X_test, y_train, y_test = train_test_split(X, y, test_size=0.1, random_state=13)"
   ]
  },
  {
   "cell_type": "code",
   "execution_count": 821,
   "metadata": {},
   "outputs": [],
   "source": [
    "model = Sequential()\n",
    "model.add(layers.Dense(round(len_elmo/2), input_dim=len_elmo, activation='relu'))\n",
    "model.add(Dropout(0.25))\n",
    "model.add(layers.Dense(1, activation='sigmoid'))"
   ]
  },
  {
   "cell_type": "code",
   "execution_count": 822,
   "metadata": {},
   "outputs": [
    {
     "name": "stdout",
     "output_type": "stream",
     "text": [
      "Model: \"sequential_82\"\n",
      "_________________________________________________________________\n",
      "Layer (type)                 Output Shape              Param #   \n",
      "=================================================================\n",
      "dense_215 (Dense)            (None, 512)               524800    \n",
      "_________________________________________________________________\n",
      "dropout_134 (Dropout)        (None, 512)               0         \n",
      "_________________________________________________________________\n",
      "dense_216 (Dense)            (None, 1)                 513       \n",
      "=================================================================\n",
      "Total params: 525,313\n",
      "Trainable params: 525,313\n",
      "Non-trainable params: 0\n",
      "_________________________________________________________________\n"
     ]
    }
   ],
   "source": [
    "optimizer=Adam(learning_rate=5e-5)\n",
    "model.compile(loss='binary_crossentropy', \n",
    "              optimizer='adam', \n",
    "              metrics=['accuracy'])\n",
    "model.summary()"
   ]
  },
  {
   "cell_type": "code",
   "execution_count": 823,
   "metadata": {},
   "outputs": [
    {
     "name": "stdout",
     "output_type": "stream",
     "text": [
      "Epoch 1/5\n",
      "686/686 [==============================] - 4s 5ms/step - loss: 0.4847 - accuracy: 0.7765 - val_loss: 0.4403 - val_accuracy: 0.7992\n",
      "Epoch 2/5\n",
      "686/686 [==============================] - 4s 6ms/step - loss: 0.4380 - accuracy: 0.8038 - val_loss: 0.4450 - val_accuracy: 0.8045\n",
      "Epoch 3/5\n",
      "686/686 [==============================] - 3s 5ms/step - loss: 0.4179 - accuracy: 0.8120 - val_loss: 0.4278 - val_accuracy: 0.8215\n",
      "Epoch 4/5\n",
      "686/686 [==============================] - 3s 5ms/step - loss: 0.3987 - accuracy: 0.8199 - val_loss: 0.4312 - val_accuracy: 0.8018\n",
      "Epoch 5/5\n",
      "686/686 [==============================] - 4s 5ms/step - loss: 0.3846 - accuracy: 0.8297 - val_loss: 0.4431 - val_accuracy: 0.8136\n"
     ]
    }
   ],
   "source": [
    "history = model.fit(X_train, y_train,\n",
    "                    epochs=5,\n",
    "                    verbose=True,\n",
    "                    validation_data=(X_test, y_test),\n",
    "                    batch_size=10)"
   ]
  },
  {
   "cell_type": "code",
   "execution_count": 824,
   "metadata": {},
   "outputs": [],
   "source": [
    "test_pred = model.predict(elmo_test)\n",
    "test_pred_int = test_pred.round().astype('int')"
   ]
  },
  {
   "cell_type": "code",
   "execution_count": 825,
   "metadata": {},
   "outputs": [
    {
     "data": {
      "text/html": [
       "<div>\n",
       "<style scoped>\n",
       "    .dataframe tbody tr th:only-of-type {\n",
       "        vertical-align: middle;\n",
       "    }\n",
       "\n",
       "    .dataframe tbody tr th {\n",
       "        vertical-align: top;\n",
       "    }\n",
       "\n",
       "    .dataframe thead th {\n",
       "        text-align: right;\n",
       "    }\n",
       "</style>\n",
       "<table border=\"1\" class=\"dataframe\">\n",
       "  <thead>\n",
       "    <tr style=\"text-align: right;\">\n",
       "      <th></th>\n",
       "      <th>elmo_net</th>\n",
       "    </tr>\n",
       "  </thead>\n",
       "  <tbody>\n",
       "    <tr>\n",
       "      <th>0</th>\n",
       "      <td>0.534085</td>\n",
       "    </tr>\n",
       "    <tr>\n",
       "      <th>1</th>\n",
       "      <td>0.828935</td>\n",
       "    </tr>\n",
       "    <tr>\n",
       "      <th>2</th>\n",
       "      <td>0.471799</td>\n",
       "    </tr>\n",
       "    <tr>\n",
       "      <th>3</th>\n",
       "      <td>0.886043</td>\n",
       "    </tr>\n",
       "    <tr>\n",
       "      <th>4</th>\n",
       "      <td>0.887910</td>\n",
       "    </tr>\n",
       "  </tbody>\n",
       "</table>\n",
       "</div>"
      ],
      "text/plain": [
       "   elmo_net\n",
       "0  0.534085\n",
       "1  0.828935\n",
       "2  0.471799\n",
       "3  0.886043\n",
       "4  0.887910"
      ]
     },
     "execution_count": 825,
     "metadata": {},
     "output_type": "execute_result"
    }
   ],
   "source": [
    "test['elmo_net'] = test_pred\n",
    "test = test['elmo_net'].to_frame()\n",
    "test.head()"
   ]
  },
  {
   "cell_type": "code",
   "execution_count": 826,
   "metadata": {},
   "outputs": [],
   "source": [
    "test.to_csv('csv/test_red_elmo.csv')"
   ]
  },
  {
   "cell_type": "code",
   "execution_count": 827,
   "metadata": {},
   "outputs": [],
   "source": [
    "train_pred = model.predict(elmo_train)\n",
    "train_pred_int = train_pred.round().astype('int')"
   ]
  },
  {
   "cell_type": "code",
   "execution_count": 828,
   "metadata": {},
   "outputs": [],
   "source": [
    "train['elmo_net'] = train_pred\n",
    "train = train['elmo_net'].to_frame()\n",
    "train.to_csv('csv/train_red_elmo.csv')"
   ]
  },
  {
   "cell_type": "markdown",
   "metadata": {},
   "source": [
    "# W2V"
   ]
  },
  {
   "cell_type": "code",
   "execution_count": 571,
   "metadata": {},
   "outputs": [],
   "source": [
    "train = pd.read_csv('csv/train.csv')\n",
    "# ids_with_target_error = [328,443,513,2619,3640,3900,4342,5781,6552,6554,6570,6701,6702,6729,6861,7226]\n",
    "# train.loc[train['id'].isin(ids_with_target_error),'target'] = 0\n",
    "test = pd.read_csv('csv/test.csv')\n",
    "X, y = w2v_train, train['target']\n",
    "X_train, X_test, y_train, y_test = train_test_split(X, y, test_size=0.1, random_state=13)"
   ]
  },
  {
   "cell_type": "code",
   "execution_count": 572,
   "metadata": {},
   "outputs": [],
   "source": [
    "model = Sequential()\n",
    "model.add(layers.Dense(round(len_w2v/2), input_dim=len_w2v, activation='relu'))\n",
    "model.add(Dropout(0.25))\n",
    "model.add(layers.Dense(round(len_w2v/4), input_dim=len_w2v, activation='relu'))\n",
    "model.add(Dropout(0.25))\n",
    "model.add(layers.Dense(1, activation='sigmoid'))"
   ]
  },
  {
   "cell_type": "code",
   "execution_count": 573,
   "metadata": {},
   "outputs": [
    {
     "name": "stdout",
     "output_type": "stream",
     "text": [
      "Model: \"sequential_57\"\n",
      "_________________________________________________________________\n",
      "Layer (type)                 Output Shape              Param #   \n",
      "=================================================================\n",
      "dense_156 (Dense)            (None, 150)               45150     \n",
      "_________________________________________________________________\n",
      "dropout_100 (Dropout)        (None, 150)               0         \n",
      "_________________________________________________________________\n",
      "dense_157 (Dense)            (None, 75)                11325     \n",
      "_________________________________________________________________\n",
      "dropout_101 (Dropout)        (None, 75)                0         \n",
      "_________________________________________________________________\n",
      "dense_158 (Dense)            (None, 1)                 76        \n",
      "=================================================================\n",
      "Total params: 56,551\n",
      "Trainable params: 56,551\n",
      "Non-trainable params: 0\n",
      "_________________________________________________________________\n"
     ]
    }
   ],
   "source": [
    "optimizer=Adam(learning_rate=5e-5)\n",
    "model.compile(loss='binary_crossentropy', \n",
    "              optimizer='adam', \n",
    "              metrics=['accuracy'])\n",
    "model.summary()"
   ]
  },
  {
   "cell_type": "code",
   "execution_count": 574,
   "metadata": {
    "scrolled": true
   },
   "outputs": [
    {
     "name": "stdout",
     "output_type": "stream",
     "text": [
      "Epoch 1/10\n",
      "686/686 [==============================] - 2s 2ms/step - loss: 0.4863 - accuracy: 0.7811 - val_loss: 0.4351 - val_accuracy: 0.8176\n",
      "Epoch 2/10\n",
      "686/686 [==============================] - 1s 2ms/step - loss: 0.4339 - accuracy: 0.8092 - val_loss: 0.4361 - val_accuracy: 0.8136\n",
      "Epoch 3/10\n",
      "686/686 [==============================] - 1s 2ms/step - loss: 0.4014 - accuracy: 0.8234 - val_loss: 0.4255 - val_accuracy: 0.8110\n",
      "Epoch 4/10\n",
      "686/686 [==============================] - 1s 2ms/step - loss: 0.3774 - accuracy: 0.8373 - val_loss: 0.4235 - val_accuracy: 0.8163\n",
      "Epoch 5/10\n",
      "686/686 [==============================] - 1s 2ms/step - loss: 0.3496 - accuracy: 0.8540 - val_loss: 0.4396 - val_accuracy: 0.8136\n",
      "Epoch 6/10\n",
      "686/686 [==============================] - 1s 2ms/step - loss: 0.3242 - accuracy: 0.8641 - val_loss: 0.4552 - val_accuracy: 0.8202\n",
      "Epoch 7/10\n",
      "686/686 [==============================] - 1s 2ms/step - loss: 0.2990 - accuracy: 0.8755 - val_loss: 0.4755 - val_accuracy: 0.8202\n",
      "Epoch 8/10\n",
      "686/686 [==============================] - 1s 2ms/step - loss: 0.2752 - accuracy: 0.8870 - val_loss: 0.5121 - val_accuracy: 0.8123\n",
      "Epoch 9/10\n",
      "686/686 [==============================] - 1s 2ms/step - loss: 0.2556 - accuracy: 0.8996 - val_loss: 0.5093 - val_accuracy: 0.8189\n",
      "Epoch 10/10\n",
      "686/686 [==============================] - 1s 2ms/step - loss: 0.2298 - accuracy: 0.9075 - val_loss: 0.5538 - val_accuracy: 0.8189\n"
     ]
    }
   ],
   "source": [
    "history = model.fit(X_train, y_train,\n",
    "                    epochs=10,\n",
    "                    verbose=True,\n",
    "                    validation_data=(X_test, y_test),\n",
    "                    batch_size=10)"
   ]
  },
  {
   "cell_type": "code",
   "execution_count": 575,
   "metadata": {},
   "outputs": [],
   "source": [
    "test_pred = model.predict(w2v_test)\n",
    "test_pred_int = test_pred.round().astype('int')"
   ]
  },
  {
   "cell_type": "code",
   "execution_count": 576,
   "metadata": {},
   "outputs": [
    {
     "data": {
      "text/html": [
       "<div>\n",
       "<style scoped>\n",
       "    .dataframe tbody tr th:only-of-type {\n",
       "        vertical-align: middle;\n",
       "    }\n",
       "\n",
       "    .dataframe tbody tr th {\n",
       "        vertical-align: top;\n",
       "    }\n",
       "\n",
       "    .dataframe thead th {\n",
       "        text-align: right;\n",
       "    }\n",
       "</style>\n",
       "<table border=\"1\" class=\"dataframe\">\n",
       "  <thead>\n",
       "    <tr style=\"text-align: right;\">\n",
       "      <th></th>\n",
       "      <th>w2v_net</th>\n",
       "    </tr>\n",
       "  </thead>\n",
       "  <tbody>\n",
       "    <tr>\n",
       "      <th>0</th>\n",
       "      <td>0.921463</td>\n",
       "    </tr>\n",
       "    <tr>\n",
       "      <th>1</th>\n",
       "      <td>0.970476</td>\n",
       "    </tr>\n",
       "    <tr>\n",
       "      <th>2</th>\n",
       "      <td>0.975260</td>\n",
       "    </tr>\n",
       "    <tr>\n",
       "      <th>3</th>\n",
       "      <td>0.999825</td>\n",
       "    </tr>\n",
       "    <tr>\n",
       "      <th>4</th>\n",
       "      <td>0.999996</td>\n",
       "    </tr>\n",
       "  </tbody>\n",
       "</table>\n",
       "</div>"
      ],
      "text/plain": [
       "    w2v_net\n",
       "0  0.921463\n",
       "1  0.970476\n",
       "2  0.975260\n",
       "3  0.999825\n",
       "4  0.999996"
      ]
     },
     "execution_count": 576,
     "metadata": {},
     "output_type": "execute_result"
    }
   ],
   "source": [
    "test['w2v_net'] = test_pred\n",
    "test = test['w2v_net'].to_frame()\n",
    "test.head()"
   ]
  },
  {
   "cell_type": "code",
   "execution_count": 577,
   "metadata": {},
   "outputs": [],
   "source": [
    "test.to_csv('csv/test_red_w2v.csv')"
   ]
  },
  {
   "cell_type": "code",
   "execution_count": 578,
   "metadata": {},
   "outputs": [],
   "source": [
    "train_pred = model.predict(w2v_train)\n",
    "train_pred_int = train_pred.round().astype('int')"
   ]
  },
  {
   "cell_type": "code",
   "execution_count": 579,
   "metadata": {},
   "outputs": [],
   "source": [
    "train['w2v_net'] = train_pred\n",
    "train = train['w2v_net'].to_frame()\n",
    "train.to_csv('csv/train_red_w2v.csv')"
   ]
  },
  {
   "cell_type": "markdown",
   "metadata": {},
   "source": [
    "# GLOve"
   ]
  },
  {
   "cell_type": "code",
   "execution_count": 730,
   "metadata": {},
   "outputs": [],
   "source": [
    "train = pd.read_csv('csv/train.csv')\n",
    "# ids_with_target_error = [328,443,513,2619,3640,3900,4342,5781,6552,6554,6570,6701,6702,6729,6861,7226]\n",
    "# train.loc[train['id'].isin(ids_with_target_error),'target'] = 0\n",
    "test = pd.read_csv('csv/test.csv')\n",
    "X, y = glove_train, train['target']\n",
    "X_train, X_test, y_train, y_test = train_test_split(X, y, test_size=0.1, random_state=13)"
   ]
  },
  {
   "cell_type": "code",
   "execution_count": 731,
   "metadata": {},
   "outputs": [],
   "source": [
    "model = Sequential()\n",
    "model.add(layers.Dense(round(len_glove/2), input_dim=len_glove, activation='relu'))\n",
    "model.add(Dropout(0.25))\n",
    "model.add(layers.Dense(1, activation='sigmoid'))"
   ]
  },
  {
   "cell_type": "code",
   "execution_count": 732,
   "metadata": {},
   "outputs": [
    {
     "name": "stdout",
     "output_type": "stream",
     "text": [
      "Model: \"sequential_73\"\n",
      "_________________________________________________________________\n",
      "Layer (type)                 Output Shape              Param #   \n",
      "=================================================================\n",
      "dense_195 (Dense)            (None, 100)               20100     \n",
      "_________________________________________________________________\n",
      "dropout_123 (Dropout)        (None, 100)               0         \n",
      "_________________________________________________________________\n",
      "dense_196 (Dense)            (None, 1)                 101       \n",
      "=================================================================\n",
      "Total params: 20,201\n",
      "Trainable params: 20,201\n",
      "Non-trainable params: 0\n",
      "_________________________________________________________________\n"
     ]
    }
   ],
   "source": [
    "optimizer=Adam(learning_rate=5e-5)\n",
    "model.compile(loss='binary_crossentropy', \n",
    "              optimizer='adam', \n",
    "              metrics=['accuracy'])\n",
    "model.summary()"
   ]
  },
  {
   "cell_type": "code",
   "execution_count": 733,
   "metadata": {
    "scrolled": true
   },
   "outputs": [
    {
     "name": "stdout",
     "output_type": "stream",
     "text": [
      "Epoch 1/5\n",
      "686/686 [==============================] - 1s 2ms/step - loss: 0.5759 - accuracy: 0.7561 - val_loss: 0.4378 - val_accuracy: 0.7992\n",
      "Epoch 2/5\n",
      "686/686 [==============================] - 1s 2ms/step - loss: 0.4389 - accuracy: 0.8053 - val_loss: 0.4170 - val_accuracy: 0.8189\n",
      "Epoch 3/5\n",
      "686/686 [==============================] - 1s 2ms/step - loss: 0.4051 - accuracy: 0.8244 - val_loss: 0.4099 - val_accuracy: 0.8110\n",
      "Epoch 4/5\n",
      "686/686 [==============================] - 1s 2ms/step - loss: 0.3790 - accuracy: 0.8356 - val_loss: 0.4022 - val_accuracy: 0.8255\n",
      "Epoch 5/5\n",
      "686/686 [==============================] - 1s 2ms/step - loss: 0.3556 - accuracy: 0.8438 - val_loss: 0.4084 - val_accuracy: 0.8281\n"
     ]
    }
   ],
   "source": [
    "history = model.fit(X_train, y_train,\n",
    "                    epochs=5,\n",
    "                    verbose=True,\n",
    "                    validation_data=(X_test, y_test),\n",
    "                    batch_size=10)"
   ]
  },
  {
   "cell_type": "code",
   "execution_count": 734,
   "metadata": {},
   "outputs": [],
   "source": [
    "test_pred = model.predict(glove_test)\n",
    "test_pred_int = test_pred.round().astype('int')"
   ]
  },
  {
   "cell_type": "code",
   "execution_count": 735,
   "metadata": {},
   "outputs": [
    {
     "data": {
      "text/html": [
       "<div>\n",
       "<style scoped>\n",
       "    .dataframe tbody tr th:only-of-type {\n",
       "        vertical-align: middle;\n",
       "    }\n",
       "\n",
       "    .dataframe tbody tr th {\n",
       "        vertical-align: top;\n",
       "    }\n",
       "\n",
       "    .dataframe thead th {\n",
       "        text-align: right;\n",
       "    }\n",
       "</style>\n",
       "<table border=\"1\" class=\"dataframe\">\n",
       "  <thead>\n",
       "    <tr style=\"text-align: right;\">\n",
       "      <th></th>\n",
       "      <th>glove_net</th>\n",
       "    </tr>\n",
       "  </thead>\n",
       "  <tbody>\n",
       "    <tr>\n",
       "      <th>0</th>\n",
       "      <td>0.743638</td>\n",
       "    </tr>\n",
       "    <tr>\n",
       "      <th>1</th>\n",
       "      <td>0.864992</td>\n",
       "    </tr>\n",
       "    <tr>\n",
       "      <th>2</th>\n",
       "      <td>0.609823</td>\n",
       "    </tr>\n",
       "    <tr>\n",
       "      <th>3</th>\n",
       "      <td>0.909378</td>\n",
       "    </tr>\n",
       "    <tr>\n",
       "      <th>4</th>\n",
       "      <td>0.994435</td>\n",
       "    </tr>\n",
       "  </tbody>\n",
       "</table>\n",
       "</div>"
      ],
      "text/plain": [
       "   glove_net\n",
       "0   0.743638\n",
       "1   0.864992\n",
       "2   0.609823\n",
       "3   0.909378\n",
       "4   0.994435"
      ]
     },
     "execution_count": 735,
     "metadata": {},
     "output_type": "execute_result"
    }
   ],
   "source": [
    "test['glove_net'] = test_pred\n",
    "test = test['glove_net'].to_frame()\n",
    "test.head()"
   ]
  },
  {
   "cell_type": "code",
   "execution_count": 736,
   "metadata": {},
   "outputs": [],
   "source": [
    "test.to_csv('csv/test_red_glove.csv')"
   ]
  },
  {
   "cell_type": "code",
   "execution_count": 737,
   "metadata": {},
   "outputs": [],
   "source": [
    "train_pred = model.predict(glove_train)\n",
    "train_pred_int = train_pred.round().astype('int')"
   ]
  },
  {
   "cell_type": "code",
   "execution_count": 738,
   "metadata": {},
   "outputs": [],
   "source": [
    "train['glove_net'] = train_pred\n",
    "train = train['glove_net'].to_frame()\n",
    "train.to_csv('csv/train_red_glove.csv')"
   ]
  }
 ],
 "metadata": {
  "kernelspec": {
   "display_name": "Python 3",
   "language": "python",
   "name": "python3"
  },
  "language_info": {
   "codemirror_mode": {
    "name": "ipython",
    "version": 3
   },
   "file_extension": ".py",
   "mimetype": "text/x-python",
   "name": "python",
   "nbconvert_exporter": "python",
   "pygments_lexer": "ipython3",
   "version": "3.7.6"
  }
 },
 "nbformat": 4,
 "nbformat_minor": 4
}
