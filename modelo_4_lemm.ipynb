{
 "cells": [
  {
   "cell_type": "markdown",
   "metadata": {},
   "source": [
    "# Se importan las bibliotecas necesarias"
   ]
  },
  {
   "cell_type": "code",
   "execution_count": 1,
   "metadata": {},
   "outputs": [],
   "source": [
    "import pandas as pd\n",
    "import re\n",
    "import numpy as np\n",
    "import pickle\n",
    "import nltk\n",
    "import spacy\n",
    "import xgboost as xgb\n",
    "import matplotlib.pyplot as plt\n",
    "from sklearn.model_selection import train_test_split,GridSearchCV\n",
    "from sklearn.ensemble import RandomForestRegressor, GradientBoostingRegressor, VotingRegressor\n",
    "from sklearn.metrics import accuracy_score,recall_score,precision_score,f1_score\n",
    "from sklearn.metrics import mean_squared_error\n",
    "import lightgbm as lgb\n",
    "from catboost import CatBoostRegressor\n",
    "from gensim.models import KeyedVectors\n",
    "from gensim.parsing.preprocessing import STOPWORDS\n",
    "%matplotlib inline"
   ]
  },
  {
   "cell_type": "markdown",
   "metadata": {},
   "source": [
    " "
   ]
  },
  {
   "cell_type": "markdown",
   "metadata": {},
   "source": [
    "# Se leen los .csv"
   ]
  },
  {
   "cell_type": "code",
   "execution_count": 6,
   "metadata": {},
   "outputs": [
    {
     "name": "stdout",
     "output_type": "stream",
     "text": [
      "<class 'pandas.core.frame.DataFrame'>\n",
      "RangeIndex: 7613 entries, 0 to 7612\n",
      "Data columns (total 5 columns):\n",
      " #   Column    Non-Null Count  Dtype \n",
      "---  ------    --------------  ----- \n",
      " 0   id        7613 non-null   int64 \n",
      " 1   keyword   7552 non-null   object\n",
      " 2   location  5080 non-null   object\n",
      " 3   text      7613 non-null   object\n",
      " 4   target    7613 non-null   int64 \n",
      "dtypes: int64(2), object(3)\n",
      "memory usage: 297.5+ KB\n"
     ]
    }
   ],
   "source": [
    "train = pd.read_csv('csv/train.csv')\n",
    "train.info()"
   ]
  },
  {
   "cell_type": "code",
   "execution_count": 7,
   "metadata": {},
   "outputs": [
    {
     "data": {
      "text/html": [
       "<div>\n",
       "<style scoped>\n",
       "    .dataframe tbody tr th:only-of-type {\n",
       "        vertical-align: middle;\n",
       "    }\n",
       "\n",
       "    .dataframe tbody tr th {\n",
       "        vertical-align: top;\n",
       "    }\n",
       "\n",
       "    .dataframe thead th {\n",
       "        text-align: right;\n",
       "    }\n",
       "</style>\n",
       "<table border=\"1\" class=\"dataframe\">\n",
       "  <thead>\n",
       "    <tr style=\"text-align: right;\">\n",
       "      <th></th>\n",
       "      <th>id</th>\n",
       "      <th>keyword</th>\n",
       "      <th>location</th>\n",
       "      <th>text</th>\n",
       "      <th>target</th>\n",
       "    </tr>\n",
       "  </thead>\n",
       "  <tbody>\n",
       "    <tr>\n",
       "      <th>0</th>\n",
       "      <td>1</td>\n",
       "      <td>NaN</td>\n",
       "      <td>NaN</td>\n",
       "      <td>Our Deeds are the Reason of this #earthquake M...</td>\n",
       "      <td>1</td>\n",
       "    </tr>\n",
       "    <tr>\n",
       "      <th>1</th>\n",
       "      <td>4</td>\n",
       "      <td>NaN</td>\n",
       "      <td>NaN</td>\n",
       "      <td>Forest fire near La Ronge Sask. Canada</td>\n",
       "      <td>1</td>\n",
       "    </tr>\n",
       "    <tr>\n",
       "      <th>2</th>\n",
       "      <td>5</td>\n",
       "      <td>NaN</td>\n",
       "      <td>NaN</td>\n",
       "      <td>All residents asked to 'shelter in place' are ...</td>\n",
       "      <td>1</td>\n",
       "    </tr>\n",
       "    <tr>\n",
       "      <th>3</th>\n",
       "      <td>6</td>\n",
       "      <td>NaN</td>\n",
       "      <td>NaN</td>\n",
       "      <td>13,000 people receive #wildfires evacuation or...</td>\n",
       "      <td>1</td>\n",
       "    </tr>\n",
       "    <tr>\n",
       "      <th>4</th>\n",
       "      <td>7</td>\n",
       "      <td>NaN</td>\n",
       "      <td>NaN</td>\n",
       "      <td>Just got sent this photo from Ruby #Alaska as ...</td>\n",
       "      <td>1</td>\n",
       "    </tr>\n",
       "  </tbody>\n",
       "</table>\n",
       "</div>"
      ],
      "text/plain": [
       "   id keyword location                                               text  \\\n",
       "0   1     NaN      NaN  Our Deeds are the Reason of this #earthquake M...   \n",
       "1   4     NaN      NaN             Forest fire near La Ronge Sask. Canada   \n",
       "2   5     NaN      NaN  All residents asked to 'shelter in place' are ...   \n",
       "3   6     NaN      NaN  13,000 people receive #wildfires evacuation or...   \n",
       "4   7     NaN      NaN  Just got sent this photo from Ruby #Alaska as ...   \n",
       "\n",
       "   target  \n",
       "0       1  \n",
       "1       1  \n",
       "2       1  \n",
       "3       1  \n",
       "4       1  "
      ]
     },
     "execution_count": 7,
     "metadata": {},
     "output_type": "execute_result"
    }
   ],
   "source": [
    "train.head()"
   ]
  },
  {
   "cell_type": "code",
   "execution_count": 8,
   "metadata": {},
   "outputs": [],
   "source": [
    "ids_with_target_error = [328,443,513,2619,3640,3900,4342,5781,6552,6554,6570,6701,6702,6729,6861,7226]\n",
    "train.loc[train['id'].isin(ids_with_target_error),'target'] = 0"
   ]
  },
  {
   "cell_type": "code",
   "execution_count": 9,
   "metadata": {},
   "outputs": [],
   "source": [
    "test = pd.read_csv('csv/test.csv')"
   ]
  },
  {
   "cell_type": "code",
   "execution_count": 10,
   "metadata": {},
   "outputs": [
    {
     "data": {
      "text/html": [
       "<div>\n",
       "<style scoped>\n",
       "    .dataframe tbody tr th:only-of-type {\n",
       "        vertical-align: middle;\n",
       "    }\n",
       "\n",
       "    .dataframe tbody tr th {\n",
       "        vertical-align: top;\n",
       "    }\n",
       "\n",
       "    .dataframe thead th {\n",
       "        text-align: right;\n",
       "    }\n",
       "</style>\n",
       "<table border=\"1\" class=\"dataframe\">\n",
       "  <thead>\n",
       "    <tr style=\"text-align: right;\">\n",
       "      <th></th>\n",
       "      <th>id</th>\n",
       "      <th>keyword</th>\n",
       "      <th>location</th>\n",
       "      <th>text</th>\n",
       "    </tr>\n",
       "  </thead>\n",
       "  <tbody>\n",
       "    <tr>\n",
       "      <th>0</th>\n",
       "      <td>0</td>\n",
       "      <td>NaN</td>\n",
       "      <td>NaN</td>\n",
       "      <td>Just happened a terrible car crash</td>\n",
       "    </tr>\n",
       "    <tr>\n",
       "      <th>1</th>\n",
       "      <td>2</td>\n",
       "      <td>NaN</td>\n",
       "      <td>NaN</td>\n",
       "      <td>Heard about #earthquake is different cities, s...</td>\n",
       "    </tr>\n",
       "    <tr>\n",
       "      <th>2</th>\n",
       "      <td>3</td>\n",
       "      <td>NaN</td>\n",
       "      <td>NaN</td>\n",
       "      <td>there is a forest fire at spot pond, geese are...</td>\n",
       "    </tr>\n",
       "    <tr>\n",
       "      <th>3</th>\n",
       "      <td>9</td>\n",
       "      <td>NaN</td>\n",
       "      <td>NaN</td>\n",
       "      <td>Apocalypse lighting. #Spokane #wildfires</td>\n",
       "    </tr>\n",
       "    <tr>\n",
       "      <th>4</th>\n",
       "      <td>11</td>\n",
       "      <td>NaN</td>\n",
       "      <td>NaN</td>\n",
       "      <td>Typhoon Soudelor kills 28 in China and Taiwan</td>\n",
       "    </tr>\n",
       "  </tbody>\n",
       "</table>\n",
       "</div>"
      ],
      "text/plain": [
       "   id keyword location                                               text\n",
       "0   0     NaN      NaN                 Just happened a terrible car crash\n",
       "1   2     NaN      NaN  Heard about #earthquake is different cities, s...\n",
       "2   3     NaN      NaN  there is a forest fire at spot pond, geese are...\n",
       "3   9     NaN      NaN           Apocalypse lighting. #Spokane #wildfires\n",
       "4  11     NaN      NaN      Typhoon Soudelor kills 28 in China and Taiwan"
      ]
     },
     "execution_count": 10,
     "metadata": {},
     "output_type": "execute_result"
    }
   ],
   "source": [
    "test.head()"
   ]
  },
  {
   "cell_type": "code",
   "execution_count": null,
   "metadata": {},
   "outputs": [],
   "source": [
    "# Se leen las abreviaturas \n",
    "file = open('abreviaturas.pkl','rb')\n",
    "abbreviations = pickle.load(file)\n",
    "file.close()"
   ]
  },
  {
   "cell_type": "markdown",
   "metadata": {},
   "source": [
    " "
   ]
  },
  {
   "cell_type": "markdown",
   "metadata": {},
   "source": [
    "# Elaboración del modelo"
   ]
  },
  {
   "cell_type": "markdown",
   "metadata": {},
   "source": [
    "Para este modelo se aplicará NLP para el procesamiento de los tweets y se utilizarán distintos árboles de decisión para realizar las predicciones:"
   ]
  },
  {
   "cell_type": "markdown",
   "metadata": {},
   "source": [
    "### Preparación del set de datos"
   ]
  },
  {
   "cell_type": "code",
   "execution_count": 11,
   "metadata": {
    "scrolled": true
   },
   "outputs": [
    {
     "name": "stdout",
     "output_type": "stream",
     "text": [
      "Requirement already satisfied: tensorflow>=1.7.0 in /home/gonzams/anaconda3/lib/python3.7/site-packages (2.3.0)\n",
      "Requirement already satisfied: termcolor>=1.1.0 in /home/gonzams/anaconda3/lib/python3.7/site-packages (from tensorflow>=1.7.0) (1.1.0)\n",
      "Requirement already satisfied: astunparse==1.6.3 in /home/gonzams/anaconda3/lib/python3.7/site-packages (from tensorflow>=1.7.0) (1.6.3)\n",
      "Requirement already satisfied: protobuf>=3.9.2 in /home/gonzams/.local/lib/python3.7/site-packages (from tensorflow>=1.7.0) (3.11.3)\n",
      "Requirement already satisfied: absl-py>=0.7.0 in /home/gonzams/anaconda3/lib/python3.7/site-packages (from tensorflow>=1.7.0) (0.9.0)\n",
      "Requirement already satisfied: scipy==1.4.1 in /home/gonzams/anaconda3/lib/python3.7/site-packages (from tensorflow>=1.7.0) (1.4.1)\n",
      "Requirement already satisfied: gast==0.3.3 in /home/gonzams/anaconda3/lib/python3.7/site-packages (from tensorflow>=1.7.0) (0.3.3)\n",
      "Requirement already satisfied: keras-preprocessing<1.2,>=1.1.1 in /home/gonzams/anaconda3/lib/python3.7/site-packages (from tensorflow>=1.7.0) (1.1.2)\n",
      "Requirement already satisfied: opt-einsum>=2.3.2 in /home/gonzams/anaconda3/lib/python3.7/site-packages (from tensorflow>=1.7.0) (3.2.1)\n",
      "Requirement already satisfied: tensorboard<3,>=2.3.0 in /home/gonzams/anaconda3/lib/python3.7/site-packages (from tensorflow>=1.7.0) (2.3.0)\n",
      "Requirement already satisfied: wrapt>=1.11.1 in /home/gonzams/anaconda3/lib/python3.7/site-packages (from tensorflow>=1.7.0) (1.11.2)\n",
      "Requirement already satisfied: wheel>=0.26 in /home/gonzams/anaconda3/lib/python3.7/site-packages (from tensorflow>=1.7.0) (0.34.2)\n",
      "Requirement already satisfied: grpcio>=1.8.6 in /home/gonzams/anaconda3/lib/python3.7/site-packages (from tensorflow>=1.7.0) (1.30.0)\n",
      "Requirement already satisfied: numpy<1.19.0,>=1.16.0 in /home/gonzams/anaconda3/lib/python3.7/site-packages (from tensorflow>=1.7.0) (1.18.1)\n",
      "Requirement already satisfied: six>=1.12.0 in /home/gonzams/.local/lib/python3.7/site-packages (from tensorflow>=1.7.0) (1.12.0)\n",
      "Requirement already satisfied: google-pasta>=0.1.8 in /home/gonzams/anaconda3/lib/python3.7/site-packages (from tensorflow>=1.7.0) (0.2.0)\n",
      "Requirement already satisfied: tensorflow-estimator<2.4.0,>=2.3.0 in /home/gonzams/anaconda3/lib/python3.7/site-packages (from tensorflow>=1.7.0) (2.3.0)\n",
      "Requirement already satisfied: h5py<2.11.0,>=2.10.0 in /home/gonzams/anaconda3/lib/python3.7/site-packages (from tensorflow>=1.7.0) (2.10.0)\n",
      "Requirement already satisfied: setuptools in /home/gonzams/anaconda3/lib/python3.7/site-packages (from protobuf>=3.9.2->tensorflow>=1.7.0) (45.2.0.post20200210)\n",
      "Requirement already satisfied: werkzeug>=0.11.15 in /home/gonzams/anaconda3/lib/python3.7/site-packages (from tensorboard<3,>=2.3.0->tensorflow>=1.7.0) (1.0.0)\n",
      "Requirement already satisfied: google-auth-oauthlib<0.5,>=0.4.1 in /home/gonzams/anaconda3/lib/python3.7/site-packages (from tensorboard<3,>=2.3.0->tensorflow>=1.7.0) (0.4.1)\n",
      "Requirement already satisfied: requests<3,>=2.21.0 in /home/gonzams/.local/lib/python3.7/site-packages (from tensorboard<3,>=2.3.0->tensorflow>=1.7.0) (2.21.0)\n",
      "Requirement already satisfied: google-auth<2,>=1.6.3 in /home/gonzams/anaconda3/lib/python3.7/site-packages (from tensorboard<3,>=2.3.0->tensorflow>=1.7.0) (1.19.0)\n",
      "Requirement already satisfied: tensorboard-plugin-wit>=1.6.0 in /home/gonzams/anaconda3/lib/python3.7/site-packages (from tensorboard<3,>=2.3.0->tensorflow>=1.7.0) (1.7.0)\n",
      "Requirement already satisfied: markdown>=2.6.8 in /home/gonzams/anaconda3/lib/python3.7/site-packages (from tensorboard<3,>=2.3.0->tensorflow>=1.7.0) (3.2.2)\n",
      "Requirement already satisfied: requests-oauthlib>=0.7.0 in /home/gonzams/anaconda3/lib/python3.7/site-packages (from google-auth-oauthlib<0.5,>=0.4.1->tensorboard<3,>=2.3.0->tensorflow>=1.7.0) (1.3.0)\n",
      "Requirement already satisfied: certifi>=2017.4.17 in /home/gonzams/anaconda3/lib/python3.7/site-packages (from requests<3,>=2.21.0->tensorboard<3,>=2.3.0->tensorflow>=1.7.0) (2019.11.28)\n",
      "Requirement already satisfied: chardet<3.1.0,>=3.0.2 in /home/gonzams/anaconda3/lib/python3.7/site-packages (from requests<3,>=2.21.0->tensorboard<3,>=2.3.0->tensorflow>=1.7.0) (3.0.4)\n",
      "Requirement already satisfied: urllib3<1.25,>=1.21.1 in /home/gonzams/.local/lib/python3.7/site-packages (from requests<3,>=2.21.0->tensorboard<3,>=2.3.0->tensorflow>=1.7.0) (1.24.3)\n",
      "Requirement already satisfied: idna<2.9,>=2.5 in /home/gonzams/anaconda3/lib/python3.7/site-packages (from requests<3,>=2.21.0->tensorboard<3,>=2.3.0->tensorflow>=1.7.0) (2.8)\n",
      "Requirement already satisfied: pyasn1-modules>=0.2.1 in /home/gonzams/.local/lib/python3.7/site-packages (from google-auth<2,>=1.6.3->tensorboard<3,>=2.3.0->tensorflow>=1.7.0) (0.2.8)\n",
      "Requirement already satisfied: cachetools<5.0,>=2.0.0 in /home/gonzams/.local/lib/python3.7/site-packages (from google-auth<2,>=1.6.3->tensorboard<3,>=2.3.0->tensorflow>=1.7.0) (4.1.0)\n",
      "Requirement already satisfied: rsa<5,>=3.1.4; python_version >= \"3\" in /home/gonzams/.local/lib/python3.7/site-packages (from google-auth<2,>=1.6.3->tensorboard<3,>=2.3.0->tensorflow>=1.7.0) (4.0)\n",
      "Requirement already satisfied: importlib-metadata; python_version < \"3.8\" in /home/gonzams/anaconda3/lib/python3.7/site-packages (from markdown>=2.6.8->tensorboard<3,>=2.3.0->tensorflow>=1.7.0) (1.5.0)\n",
      "Requirement already satisfied: oauthlib>=3.0.0 in /home/gonzams/anaconda3/lib/python3.7/site-packages (from requests-oauthlib>=0.7.0->google-auth-oauthlib<0.5,>=0.4.1->tensorboard<3,>=2.3.0->tensorflow>=1.7.0) (3.1.0)\n",
      "Requirement already satisfied: pyasn1<0.5.0,>=0.4.6 in /home/gonzams/.local/lib/python3.7/site-packages (from pyasn1-modules>=0.2.1->google-auth<2,>=1.6.3->tensorboard<3,>=2.3.0->tensorflow>=1.7.0) (0.4.8)\n",
      "Requirement already satisfied: zipp>=0.5 in /home/gonzams/anaconda3/lib/python3.7/site-packages (from importlib-metadata; python_version < \"3.8\"->markdown>=2.6.8->tensorboard<3,>=2.3.0->tensorflow>=1.7.0) (2.2.0)\n",
      "Requirement already satisfied: tensorflow-hub in /home/gonzams/anaconda3/lib/python3.7/site-packages (0.8.0)\n",
      "Requirement already satisfied: six>=1.12.0 in /home/gonzams/.local/lib/python3.7/site-packages (from tensorflow-hub) (1.12.0)\n",
      "Requirement already satisfied: protobuf>=3.8.0 in /home/gonzams/.local/lib/python3.7/site-packages (from tensorflow-hub) (3.11.3)\n",
      "Requirement already satisfied: numpy>=1.12.0 in /home/gonzams/anaconda3/lib/python3.7/site-packages (from tensorflow-hub) (1.18.1)\n",
      "Requirement already satisfied: setuptools in /home/gonzams/anaconda3/lib/python3.7/site-packages (from protobuf>=3.8.0->tensorflow-hub) (45.2.0.post20200210)\n"
     ]
    }
   ],
   "source": [
    "!pip install \"tensorflow>=1.7.0\"\n",
    "!pip install tensorflow-hub"
   ]
  },
  {
   "cell_type": "code",
   "execution_count": 54,
   "metadata": {},
   "outputs": [],
   "source": [
    "# Devuelve lista de tweets con abreviaturas expandidas\n",
    "def expand_abbreviations(sentences):\n",
    "    expanded_sentences = []\n",
    "    \n",
    "    for sentence in sentences:\n",
    "        expanded_sentence = []\n",
    "        \n",
    "        for word in sentence:\n",
    "            if word in abbreviations:\n",
    "                word = word.replace(word,abbreviations[word])\n",
    "            expanded_sentence.append(word)\n",
    "            \n",
    "        tokenized = nltk.word_tokenize(\" \".join(expanded_sentence))\n",
    "        expanded_sentences.append(tokenized)\n",
    "        \n",
    "    return expanded_sentences"
   ]
  },
  {
   "cell_type": "code",
   "execution_count": 76,
   "metadata": {},
   "outputs": [],
   "source": [
    "#Devuelve los tweets en minuscula eliminando simbolos y numeros\n",
    "def remove_symbols_and_numbers(sentences):\n",
    "    clean_sentences = []\n",
    "\n",
    "    for sentence in sentences:\n",
    "        clean_sentence = []\n",
    "    \n",
    "        for word in sentence:\n",
    "            clean_word = re.sub('[^a-zA-Z]',' ', word)\n",
    "            if(clean_word != ' '):\n",
    "                clean_sentence.append(clean_word.lower())\n",
    "                \n",
    "        tokenized = nltk.word_tokenize(\" \".join(clean_sentence))\n",
    "        clean_sentences.append(tokenized)\n",
    "\n",
    "    return clean_sentences"
   ]
  },
  {
   "cell_type": "code",
   "execution_count": 104,
   "metadata": {},
   "outputs": [],
   "source": [
    "def remove_stopwords(sentences):\n",
    "    clean_sentences = []\n",
    "    for sentence in words:\n",
    "        clean_sentence = []\n",
    "        for word in sentence:\n",
    "            if word not in STOPWORDS:\n",
    "                clean_sentence.append(word)\n",
    "        clean_sentences.append(clean_sentence)\n",
    "    return clean_sentences"
   ]
  },
  {
   "cell_type": "code",
   "execution_count": 84,
   "metadata": {},
   "outputs": [],
   "source": [
    "# PARA QUE CORRA ESTA FUNCION HAY QUE PONER EN CONSOLA:\n",
    "# pip install spacy\n",
    "# spacy download en\n",
    "# Devuelve los tweets lematizados\n",
    "def lemmatize_tweets(sentences):\n",
    "    nlp = spacy.load('en')\n",
    "    lemmatized = []\n",
    "    \n",
    "    for sentence in sentences:\n",
    "        sentence = ' '.join(sentence)\n",
    "        doc = nlp(sentence)\n",
    "        lemmatized.append([token.lemma_ for token in doc])\n",
    "    \n",
    "    return lemmatized    "
   ]
  },
  {
   "cell_type": "code",
   "execution_count": 86,
   "metadata": {},
   "outputs": [],
   "source": [
    "#Devuelve una lista de tweets dejando solo letras y lematizando las palabras\n",
    "def clean_text(df):\n",
    "    \n",
    "    words = df['text'].str.split()\n",
    "    words = remove_symbols_and_numbers(words)\n",
    "    words = expand_abbreviations(words)\n",
    "    words = remove_stopwords(words)\n",
    "    \n",
    "    return lemmatize_tweets(words)"
   ]
  },
  {
   "cell_type": "code",
   "execution_count": 13,
   "metadata": {},
   "outputs": [
    {
     "data": {
      "text/html": [
       "<div>\n",
       "<style scoped>\n",
       "    .dataframe tbody tr th:only-of-type {\n",
       "        vertical-align: middle;\n",
       "    }\n",
       "\n",
       "    .dataframe tbody tr th {\n",
       "        vertical-align: top;\n",
       "    }\n",
       "\n",
       "    .dataframe thead th {\n",
       "        text-align: right;\n",
       "    }\n",
       "</style>\n",
       "<table border=\"1\" class=\"dataframe\">\n",
       "  <thead>\n",
       "    <tr style=\"text-align: right;\">\n",
       "      <th></th>\n",
       "      <th>id</th>\n",
       "      <th>target</th>\n",
       "      <th>clean_text</th>\n",
       "    </tr>\n",
       "  </thead>\n",
       "  <tbody>\n",
       "    <tr>\n",
       "      <th>0</th>\n",
       "      <td>1</td>\n",
       "      <td>1</td>\n",
       "      <td>our deeds reason earthquake may allah forgive</td>\n",
       "    </tr>\n",
       "    <tr>\n",
       "      <th>1</th>\n",
       "      <td>4</td>\n",
       "      <td>1</td>\n",
       "      <td>forest near la ronge sask canada</td>\n",
       "    </tr>\n",
       "    <tr>\n",
       "      <th>2</th>\n",
       "      <td>5</td>\n",
       "      <td>1</td>\n",
       "      <td>all residents asked shelter place notified off...</td>\n",
       "    </tr>\n",
       "    <tr>\n",
       "      <th>3</th>\n",
       "      <td>6</td>\n",
       "      <td>1</td>\n",
       "      <td>people receive wildfires evacuation orders cal...</td>\n",
       "    </tr>\n",
       "    <tr>\n",
       "      <th>4</th>\n",
       "      <td>7</td>\n",
       "      <td>1</td>\n",
       "      <td>just got sent photo ruby alaska smoke wildfire...</td>\n",
       "    </tr>\n",
       "  </tbody>\n",
       "</table>\n",
       "</div>"
      ],
      "text/plain": [
       "   id  target                                         clean_text\n",
       "0   1       1      our deeds reason earthquake may allah forgive\n",
       "1   4       1                   forest near la ronge sask canada\n",
       "2   5       1  all residents asked shelter place notified off...\n",
       "3   6       1  people receive wildfires evacuation orders cal...\n",
       "4   7       1  just got sent photo ruby alaska smoke wildfire..."
      ]
     },
     "execution_count": 13,
     "metadata": {},
     "output_type": "execute_result"
    }
   ],
   "source": [
    "train['clean_text'] = clean_text(train)\n",
    "train.head()"
   ]
  },
  {
   "cell_type": "code",
   "execution_count": 14,
   "metadata": {},
   "outputs": [
    {
     "data": {
      "text/html": [
       "<div>\n",
       "<style scoped>\n",
       "    .dataframe tbody tr th:only-of-type {\n",
       "        vertical-align: middle;\n",
       "    }\n",
       "\n",
       "    .dataframe tbody tr th {\n",
       "        vertical-align: top;\n",
       "    }\n",
       "\n",
       "    .dataframe thead th {\n",
       "        text-align: right;\n",
       "    }\n",
       "</style>\n",
       "<table border=\"1\" class=\"dataframe\">\n",
       "  <thead>\n",
       "    <tr style=\"text-align: right;\">\n",
       "      <th></th>\n",
       "      <th>id</th>\n",
       "      <th>clean_text</th>\n",
       "    </tr>\n",
       "  </thead>\n",
       "  <tbody>\n",
       "    <tr>\n",
       "      <th>0</th>\n",
       "      <td>0</td>\n",
       "      <td>just happened terrible car crash</td>\n",
       "    </tr>\n",
       "    <tr>\n",
       "      <th>1</th>\n",
       "      <td>2</td>\n",
       "      <td>heard earthquake different cities stay safe</td>\n",
       "    </tr>\n",
       "    <tr>\n",
       "      <th>2</th>\n",
       "      <td>3</td>\n",
       "      <td>forest spot pond geese fleeing street i save</td>\n",
       "    </tr>\n",
       "    <tr>\n",
       "      <th>3</th>\n",
       "      <td>9</td>\n",
       "      <td>apocalypse lighting spokane wildfires</td>\n",
       "    </tr>\n",
       "    <tr>\n",
       "      <th>4</th>\n",
       "      <td>11</td>\n",
       "      <td>typhoon soudelor kills china taiwan</td>\n",
       "    </tr>\n",
       "  </tbody>\n",
       "</table>\n",
       "</div>"
      ],
      "text/plain": [
       "   id                                    clean_text\n",
       "0   0              just happened terrible car crash\n",
       "1   2   heard earthquake different cities stay safe\n",
       "2   3  forest spot pond geese fleeing street i save\n",
       "3   9         apocalypse lighting spokane wildfires\n",
       "4  11           typhoon soudelor kills china taiwan"
      ]
     },
     "execution_count": 14,
     "metadata": {},
     "output_type": "execute_result"
    }
   ],
   "source": [
    "test['clean_text'] = clean_text(test)\n",
    "test.head()"
   ]
  },
  {
   "cell_type": "markdown",
   "metadata": {},
   "source": [
    "### Embedding de los tweets con ELMo"
   ]
  },
  {
   "cell_type": "code",
   "execution_count": 15,
   "metadata": {},
   "outputs": [],
   "source": [
    "# tf.compat.v1.disable_eager_execution()\n",
    "# elmo = hub.Module(\"https://tfhub.dev/google/elmo/2\", trainable=True)"
   ]
  },
  {
   "cell_type": "code",
   "execution_count": 16,
   "metadata": {},
   "outputs": [],
   "source": [
    "# def elmo_vectoring(tweets):\n",
    "    \n",
    "#     embeddings = elmo(tweets.tolist(), signature=\"default\", as_dict=True)[\"elmo\"]\n",
    "    \n",
    "#     tf_session = tf.compat.v1.Session()\n",
    "#     tf_session.run(tf.compat.v1.global_variables_initializer())\n",
    "#     tf_session.run(tf.compat.v1.tables_initializer())\n",
    "    \n",
    "#     return tf_session.run(tf.reduce_mean(embeddings,1))"
   ]
  },
  {
   "cell_type": "code",
   "execution_count": 17,
   "metadata": {},
   "outputs": [],
   "source": [
    "# list_train = [train[i:i+100] for i in range(0,train.shape[0],100)]\n",
    "# list_test = [test[i:i+100] for i in range(0,test.shape[0],100)]"
   ]
  },
  {
   "cell_type": "code",
   "execution_count": 18,
   "metadata": {},
   "outputs": [],
   "source": [
    "# elmo_train = [elmo_vectoring(x['clean_text']) for x in list_train]\n",
    "# elmo_test = [elmo_vectoring(x['clean_text']) for x in list_test]"
   ]
  },
  {
   "cell_type": "code",
   "execution_count": 19,
   "metadata": {},
   "outputs": [],
   "source": [
    "# elmo_train_new = np.concatenate(elmo_train, axis = 0)\n",
    "# elmo_test_new = np.concatenate(elmo_test, axis = 0)"
   ]
  },
  {
   "cell_type": "code",
   "execution_count": 20,
   "metadata": {},
   "outputs": [],
   "source": [
    "# train_embedding_file = open(\"train_embedding_file.txt\", \"w\")\n",
    "\n",
    "# for i in elmo_train_new:\n",
    "#     np.savetxt(train_embedding_file, i)\n",
    "\n",
    "# train_embedding_file.close()"
   ]
  },
  {
   "cell_type": "code",
   "execution_count": 21,
   "metadata": {},
   "outputs": [],
   "source": [
    "# test_embedding_file = open(\"test_embedding_file.txt\", \"w\")\n",
    "\n",
    "# for i in elmo_test_new:\n",
    "#     np.savetxt(test_embedding_file, i)\n",
    "\n",
    "# test_embedding_file.close()"
   ]
  },
  {
   "cell_type": "code",
   "execution_count": 22,
   "metadata": {},
   "outputs": [
    {
     "data": {
      "text/plain": [
       "(7613, 1024)"
      ]
     },
     "execution_count": 22,
     "metadata": {},
     "output_type": "execute_result"
    }
   ],
   "source": [
    "elmo_train = np.loadtxt(\"train_embedding_file.txt\").reshape(len(train.index),1024)\n",
    "elmo_train.shape"
   ]
  },
  {
   "cell_type": "code",
   "execution_count": 23,
   "metadata": {},
   "outputs": [
    {
     "data": {
      "text/plain": [
       "(3263, 1024)"
      ]
     },
     "execution_count": 23,
     "metadata": {},
     "output_type": "execute_result"
    }
   ],
   "source": [
    "elmo_test = np.loadtxt(\"test_embedding_file.txt\").reshape(len(test.index),1024)\n",
    "elmo_test.shape"
   ]
  },
  {
   "cell_type": "markdown",
   "metadata": {},
   "source": [
    "### Se entrena el modelo"
   ]
  },
  {
   "cell_type": "code",
   "execution_count": 24,
   "metadata": {},
   "outputs": [],
   "source": [
    "X, y = elmo_train, train.iloc[:,1].to_frame()\n",
    "X_train, X_test, y_train, y_test = train_test_split(X, y, test_size=0.1, random_state=13)"
   ]
  },
  {
   "cell_type": "code",
   "execution_count": 25,
   "metadata": {},
   "outputs": [
    {
     "name": "stdout",
     "output_type": "stream",
     "text": [
      "Accuracy Score : 0.7742782152230971\n",
      "Precision Score : 0.797752808988764\n",
      "Recall Score : 0.6435045317220544\n",
      "F1 Score : 0.7123745819397992\n"
     ]
    }
   ],
   "source": [
    "xg_reg = xgb.XGBRegressor(objective ='binary:logistic', \n",
    "                colsample_bytree = 0.3, learning_rate = 0.1,\n",
    "                max_depth = 10, alpha = 10, n_estimators = 5)\n",
    "\n",
    "xg_reg.fit(X_train,y_train)\n",
    "preds = xg_reg.predict(X_test)\n",
    "print('Accuracy Score : ' + str(accuracy_score(y_test,preds.round())))\n",
    "print('Precision Score : ' + str(precision_score(y_test,preds.round())))\n",
    "print('Recall Score : ' + str(recall_score(y_test,preds.round())))\n",
    "print('F1 Score : ' + str(f1_score(y_test,preds.round())))"
   ]
  },
  {
   "cell_type": "code",
   "execution_count": 26,
   "metadata": {},
   "outputs": [
    {
     "name": "stderr",
     "output_type": "stream",
     "text": [
      "/home/gonzams/anaconda3/lib/python3.7/site-packages/ipykernel_launcher.py:2: DataConversionWarning: A column-vector y was passed when a 1d array was expected. Please change the shape of y to (n_samples,), for example using ravel().\n",
      "  \n"
     ]
    },
    {
     "name": "stdout",
     "output_type": "stream",
     "text": [
      "Accuracy Score : 0.7637795275590551\n",
      "Precision Score : 0.7594501718213058\n",
      "Recall Score : 0.6676737160120846\n",
      "F1 Score : 0.7106109324758842\n"
     ]
    }
   ],
   "source": [
    "rf_model = RandomForestRegressor(random_state=13, n_estimators=5, max_depth=10)\n",
    "rf_model.fit(X_train, y_train)\n",
    "preds = rf_model.predict(X_test)\n",
    "\n",
    "print('Accuracy Score : ' + str(accuracy_score(y_test,preds.round())))\n",
    "print('Precision Score : ' + str(precision_score(y_test,preds.round())))\n",
    "print('Recall Score : ' + str(recall_score(y_test,preds.round())))\n",
    "print('F1 Score : ' + str(f1_score(y_test,preds.round())))"
   ]
  },
  {
   "cell_type": "code",
   "execution_count": 27,
   "metadata": {},
   "outputs": [
    {
     "name": "stderr",
     "output_type": "stream",
     "text": [
      "/home/gonzams/anaconda3/lib/python3.7/site-packages/sklearn/utils/validation.py:760: DataConversionWarning: A column-vector y was passed when a 1d array was expected. Please change the shape of y to (n_samples, ), for example using ravel().\n",
      "  y = column_or_1d(y, warn=True)\n"
     ]
    },
    {
     "name": "stdout",
     "output_type": "stream",
     "text": [
      "Accuracy Score : 0.7598425196850394\n",
      "Precision Score : 0.8425925925925926\n",
      "Recall Score : 0.5498489425981873\n",
      "F1 Score : 0.6654478976234003\n"
     ]
    }
   ],
   "source": [
    "lgb_class = lgb.LGBMRegressor(learning_rate = 0.1,\n",
    "                max_depth = 10, alpha = 10, n_estimators = 5)\n",
    "lgb_class.fit(X_train, y_train)\n",
    "preds = lgb_class.predict(X_test)\n",
    "\n",
    "print('Accuracy Score : ' + str(accuracy_score(y_test,preds.round())))\n",
    "print('Precision Score : ' + str(precision_score(y_test,preds.round())))\n",
    "print('Recall Score : ' + str(recall_score(y_test,preds.round())))\n",
    "print('F1 Score : ' + str(f1_score(y_test,preds.round())))"
   ]
  },
  {
   "cell_type": "code",
   "execution_count": 28,
   "metadata": {},
   "outputs": [
    {
     "name": "stdout",
     "output_type": "stream",
     "text": [
      "Learning rate set to 0.5\n",
      "0:\tlearn: 0.4371077\ttotal: 2.35s\tremaining: 9.39s\n",
      "1:\tlearn: 0.3975722\ttotal: 4.8s\tremaining: 7.2s\n",
      "2:\tlearn: 0.3725510\ttotal: 7.16s\tremaining: 4.77s\n",
      "3:\tlearn: 0.3535919\ttotal: 9.53s\tremaining: 2.38s\n",
      "4:\tlearn: 0.3346758\ttotal: 11.9s\tremaining: 0us\n",
      "Accuracy Score : 0.7545931758530183\n",
      "Precision Score : 0.7608695652173914\n",
      "Recall Score : 0.6344410876132931\n",
      "F1 Score : 0.6919275123558485\n"
     ]
    }
   ],
   "source": [
    "catb = CatBoostRegressor(iterations=5, depth=10)\n",
    "catb.fit(X_train, y_train)\n",
    "preds = catb.predict(X_test)\n",
    "\n",
    "print('Accuracy Score : ' + str(accuracy_score(y_test,preds.round())))\n",
    "print('Precision Score : ' + str(precision_score(y_test,preds.round())))\n",
    "print('Recall Score : ' + str(recall_score(y_test,preds.round())))\n",
    "print('F1 Score : ' + str(f1_score(y_test,preds.round())))"
   ]
  },
  {
   "cell_type": "code",
   "execution_count": 29,
   "metadata": {},
   "outputs": [
    {
     "name": "stdout",
     "output_type": "stream",
     "text": [
      "Accuracy Score : 0.7191601049868767\n",
      "Precision Score : 0.806282722513089\n",
      "Recall Score : 0.4652567975830816\n",
      "F1 Score : 0.5900383141762452\n"
     ]
    },
    {
     "name": "stderr",
     "output_type": "stream",
     "text": [
      "/home/gonzams/anaconda3/lib/python3.7/site-packages/sklearn/ensemble/_gb.py:1454: DataConversionWarning: A column-vector y was passed when a 1d array was expected. Please change the shape of y to (n_samples, ), for example using ravel().\n",
      "  y = column_or_1d(y, warn=True)\n"
     ]
    }
   ],
   "source": [
    "gb = GradientBoostingRegressor(n_estimators=5, learning_rate=0.1, \n",
    "                                max_features=2, max_depth = 10, random_state = 0)\n",
    "gb.fit(X_train, y_train)\n",
    "preds = gb.predict(X_test)\n",
    "\n",
    "print('Accuracy Score : ' + str(accuracy_score(y_test,preds.round())))\n",
    "print('Precision Score : ' + str(precision_score(y_test,preds.round())))\n",
    "print('Recall Score : ' + str(recall_score(y_test,preds.round())))\n",
    "print('F1 Score : ' + str(f1_score(y_test,preds.round())))"
   ]
  },
  {
   "cell_type": "code",
   "execution_count": 30,
   "metadata": {},
   "outputs": [
    {
     "name": "stderr",
     "output_type": "stream",
     "text": [
      "/home/gonzams/anaconda3/lib/python3.7/site-packages/sklearn/ensemble/_voting.py:406: DataConversionWarning: A column-vector y was passed when a 1d array was expected. Please change the shape of y to (n_samples, ), for example using ravel().\n",
      "  y = column_or_1d(y, warn=True)\n"
     ]
    },
    {
     "name": "stdout",
     "output_type": "stream",
     "text": [
      "Learning rate set to 0.5\n",
      "0:\tlearn: 0.4391880\ttotal: 2.31s\tremaining: 9.25s\n",
      "1:\tlearn: 0.4003186\ttotal: 4.64s\tremaining: 6.96s\n",
      "2:\tlearn: 0.3760340\ttotal: 7.06s\tremaining: 4.71s\n",
      "3:\tlearn: 0.3597639\ttotal: 9.46s\tremaining: 2.37s\n",
      "4:\tlearn: 0.3446684\ttotal: 11.8s\tremaining: 0us\n",
      "Accuracy Score : 0.8976377952755905\n",
      "Precision Score : 0.966789667896679\n",
      "Recall Score : 0.7915407854984894\n",
      "F1 Score : 0.8704318936877076\n"
     ]
    }
   ],
   "source": [
    "eclf2 = VotingRegressor(estimators=[\n",
    "         ('xgb', xg_reg), ('rf', rf_model), ('catb', catb), ('gb', gb), ('lgbm',lgb_class)])\n",
    "\n",
    "eclf2 = eclf2.fit(X, y)\n",
    "preds = eclf2.predict(X_test)\n",
    "\n",
    "print('Accuracy Score : ' + str(accuracy_score(y_test,preds.round())))\n",
    "print('Precision Score : ' + str(precision_score(y_test,preds.round())))\n",
    "print('Recall Score : ' + str(recall_score(y_test,preds.round())))\n",
    "print('F1 Score : ' + str(f1_score(y_test,preds.round())))"
   ]
  },
  {
   "cell_type": "code",
   "execution_count": 31,
   "metadata": {},
   "outputs": [
    {
     "data": {
      "text/html": [
       "<div>\n",
       "<style scoped>\n",
       "    .dataframe tbody tr th:only-of-type {\n",
       "        vertical-align: middle;\n",
       "    }\n",
       "\n",
       "    .dataframe tbody tr th {\n",
       "        vertical-align: top;\n",
       "    }\n",
       "\n",
       "    .dataframe thead th {\n",
       "        text-align: right;\n",
       "    }\n",
       "</style>\n",
       "<table border=\"1\" class=\"dataframe\">\n",
       "  <thead>\n",
       "    <tr style=\"text-align: right;\">\n",
       "      <th></th>\n",
       "      <th>elmo_score</th>\n",
       "    </tr>\n",
       "  </thead>\n",
       "  <tbody>\n",
       "    <tr>\n",
       "      <th>0</th>\n",
       "      <td>0.522046</td>\n",
       "    </tr>\n",
       "    <tr>\n",
       "      <th>1</th>\n",
       "      <td>0.538970</td>\n",
       "    </tr>\n",
       "    <tr>\n",
       "      <th>2</th>\n",
       "      <td>0.583167</td>\n",
       "    </tr>\n",
       "    <tr>\n",
       "      <th>3</th>\n",
       "      <td>0.650540</td>\n",
       "    </tr>\n",
       "    <tr>\n",
       "      <th>4</th>\n",
       "      <td>0.570466</td>\n",
       "    </tr>\n",
       "  </tbody>\n",
       "</table>\n",
       "</div>"
      ],
      "text/plain": [
       "   elmo_score\n",
       "0    0.522046\n",
       "1    0.538970\n",
       "2    0.583167\n",
       "3    0.650540\n",
       "4    0.570466"
      ]
     },
     "execution_count": 31,
     "metadata": {},
     "output_type": "execute_result"
    }
   ],
   "source": [
    "df = pd.DataFrame(eclf2.predict(X),columns=[\"elmo_score\"])\n",
    "df.head()"
   ]
  },
  {
   "cell_type": "code",
   "execution_count": 32,
   "metadata": {},
   "outputs": [],
   "source": [
    "final = df.to_csv('csv/solo_embedding_elmo_train.csv')"
   ]
  },
  {
   "cell_type": "markdown",
   "metadata": {},
   "source": [
    "### Predicciones"
   ]
  },
  {
   "cell_type": "code",
   "execution_count": 33,
   "metadata": {},
   "outputs": [],
   "source": [
    "test['target'] = eclf2.predict(elmo_test)"
   ]
  },
  {
   "cell_type": "code",
   "execution_count": 37,
   "metadata": {},
   "outputs": [
    {
     "data": {
      "text/html": [
       "<div>\n",
       "<style scoped>\n",
       "    .dataframe tbody tr th:only-of-type {\n",
       "        vertical-align: middle;\n",
       "    }\n",
       "\n",
       "    .dataframe tbody tr th {\n",
       "        vertical-align: top;\n",
       "    }\n",
       "\n",
       "    .dataframe thead th {\n",
       "        text-align: right;\n",
       "    }\n",
       "</style>\n",
       "<table border=\"1\" class=\"dataframe\">\n",
       "  <thead>\n",
       "    <tr style=\"text-align: right;\">\n",
       "      <th></th>\n",
       "      <th>id</th>\n",
       "      <th>clean_text</th>\n",
       "      <th>target</th>\n",
       "    </tr>\n",
       "  </thead>\n",
       "  <tbody>\n",
       "    <tr>\n",
       "      <th>0</th>\n",
       "      <td>0</td>\n",
       "      <td>just happened terrible car crash</td>\n",
       "      <td>0.379233</td>\n",
       "    </tr>\n",
       "    <tr>\n",
       "      <th>1</th>\n",
       "      <td>2</td>\n",
       "      <td>heard earthquake different cities stay safe</td>\n",
       "      <td>0.367322</td>\n",
       "    </tr>\n",
       "    <tr>\n",
       "      <th>2</th>\n",
       "      <td>3</td>\n",
       "      <td>forest spot pond geese fleeing street i save</td>\n",
       "      <td>0.678700</td>\n",
       "    </tr>\n",
       "    <tr>\n",
       "      <th>3</th>\n",
       "      <td>9</td>\n",
       "      <td>apocalypse lighting spokane wildfires</td>\n",
       "      <td>0.430616</td>\n",
       "    </tr>\n",
       "    <tr>\n",
       "      <th>4</th>\n",
       "      <td>11</td>\n",
       "      <td>typhoon soudelor kills china taiwan</td>\n",
       "      <td>0.584599</td>\n",
       "    </tr>\n",
       "    <tr>\n",
       "      <th>5</th>\n",
       "      <td>12</td>\n",
       "      <td>were shakingits earthquake</td>\n",
       "      <td>0.442172</td>\n",
       "    </tr>\n",
       "    <tr>\n",
       "      <th>6</th>\n",
       "      <td>21</td>\n",
       "      <td>theyd probably life arsenal yesterday eh eh</td>\n",
       "      <td>0.338432</td>\n",
       "    </tr>\n",
       "    <tr>\n",
       "      <th>7</th>\n",
       "      <td>22</td>\n",
       "      <td>hey how</td>\n",
       "      <td>0.224773</td>\n",
       "    </tr>\n",
       "    <tr>\n",
       "      <th>8</th>\n",
       "      <td>27</td>\n",
       "      <td>what nice hat</td>\n",
       "      <td>0.254261</td>\n",
       "    </tr>\n",
       "    <tr>\n",
       "      <th>9</th>\n",
       "      <td>29</td>\n",
       "      <td>fuck</td>\n",
       "      <td>0.228584</td>\n",
       "    </tr>\n",
       "  </tbody>\n",
       "</table>\n",
       "</div>"
      ],
      "text/plain": [
       "   id                                    clean_text    target\n",
       "0   0              just happened terrible car crash  0.379233\n",
       "1   2   heard earthquake different cities stay safe  0.367322\n",
       "2   3  forest spot pond geese fleeing street i save  0.678700\n",
       "3   9         apocalypse lighting spokane wildfires  0.430616\n",
       "4  11           typhoon soudelor kills china taiwan  0.584599\n",
       "5  12                    were shakingits earthquake  0.442172\n",
       "6  21   theyd probably life arsenal yesterday eh eh  0.338432\n",
       "7  22                                       hey how  0.224773\n",
       "8  27                                 what nice hat  0.254261\n",
       "9  29                                          fuck  0.228584"
      ]
     },
     "execution_count": 37,
     "metadata": {},
     "output_type": "execute_result"
    }
   ],
   "source": [
    "test.drop(columns=['clean_text'], inplace=True)\n",
    "test.set_index('id', inplace=True)\n",
    "test.head(10)"
   ]
  },
  {
   "cell_type": "code",
   "execution_count": 38,
   "metadata": {},
   "outputs": [],
   "source": [
    "final = test.to_csv('csv/submission_elmo.csv')"
   ]
  },
  {
   "cell_type": "code",
   "execution_count": 39,
   "metadata": {},
   "outputs": [],
   "source": [
    "df = pd.DataFrame(eclf2.predict(elmo_test),columns=[\"elmo_score\"])\n",
    "df.head()\n",
    "final = df.to_csv('csv/solo_embedding_elmo_test.csv')"
   ]
  }
 ],
 "metadata": {
  "kernelspec": {
   "display_name": "Python 3",
   "language": "python",
   "name": "python3"
  },
  "language_info": {
   "codemirror_mode": {
    "name": "ipython",
    "version": 3
   },
   "file_extension": ".py",
   "mimetype": "text/x-python",
   "name": "python",
   "nbconvert_exporter": "python",
   "pygments_lexer": "ipython3",
   "version": "3.7.6"
  }
 },
 "nbformat": 4,
 "nbformat_minor": 4
}
