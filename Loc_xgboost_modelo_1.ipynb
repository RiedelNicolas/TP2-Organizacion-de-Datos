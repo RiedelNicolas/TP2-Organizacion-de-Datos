{
 "cells": [
  {
   "cell_type": "code",
   "execution_count": 2,
   "metadata": {},
   "outputs": [],
   "source": [
    "import pandas as pd\n",
    "import re\n",
    "import numpy as np\n",
    "import xgboost as xgb\n",
    "import matplotlib.pyplot as plt\n",
    "from sklearn.model_selection import train_test_split,GridSearchCV\n",
    "from sklearn.ensemble import RandomForestRegressor, GradientBoostingRegressor, VotingRegressor\n",
    "from sklearn.metrics import accuracy_score,recall_score,precision_score,f1_score\n",
    "from sklearn.metrics import mean_squared_error\n",
    "import lightgbm as lgb\n",
    "from catboost import CatBoostRegressor\n",
    "from gensim.models import KeyedVectors\n",
    "from gensim.parsing.preprocessing import STOPWORDS\n",
    "%matplotlib inline"
   ]
  },
  {
   "cell_type": "markdown",
   "metadata": {},
   "source": [
    "### ACA VOY A USAR WORD2VEC PARA EL TEXTO Y PARA LAS LOCATIONS. CON AMBOS PARAMETROS VOY A HACER UN ARBOL CON XGBOOST"
   ]
  },
  {
   "cell_type": "code",
   "execution_count": 4,
   "metadata": {},
   "outputs": [
    {
     "name": "stdout",
     "output_type": "stream",
     "text": [
      "<class 'pandas.core.frame.DataFrame'>\n",
      "RangeIndex: 7613 entries, 0 to 7612\n",
      "Data columns (total 5 columns):\n",
      " #   Column    Non-Null Count  Dtype \n",
      "---  ------    --------------  ----- \n",
      " 0   id        7613 non-null   int64 \n",
      " 1   keyword   7552 non-null   object\n",
      " 2   location  5080 non-null   object\n",
      " 3   text      7613 non-null   object\n",
      " 4   target    7613 non-null   int64 \n",
      "dtypes: int64(2), object(3)\n",
      "memory usage: 297.5+ KB\n"
     ]
    }
   ],
   "source": [
    "train = pd.read_csv('csv/train.csv')\n",
    "train.info()"
   ]
  },
  {
   "cell_type": "code",
   "execution_count": 5,
   "metadata": {},
   "outputs": [],
   "source": [
    "ids_with_target_error = [328,443,513,2619,3640,3900,4342,5781,6552,6554,6570,6701,6702,6729,6861,7226]\n",
    "train.loc[train['id'].isin(ids_with_target_error),'target'] = 0"
   ]
  },
  {
   "cell_type": "code",
   "execution_count": 6,
   "metadata": {
    "scrolled": true
   },
   "outputs": [
    {
     "name": "stdout",
     "output_type": "stream",
     "text": [
      "<class 'pandas.core.frame.DataFrame'>\n",
      "RangeIndex: 3263 entries, 0 to 3262\n",
      "Data columns (total 4 columns):\n",
      " #   Column    Non-Null Count  Dtype \n",
      "---  ------    --------------  ----- \n",
      " 0   id        3263 non-null   int64 \n",
      " 1   keyword   3237 non-null   object\n",
      " 2   location  2158 non-null   object\n",
      " 3   text      3263 non-null   object\n",
      "dtypes: int64(1), object(3)\n",
      "memory usage: 102.1+ KB\n"
     ]
    }
   ],
   "source": [
    "test = pd.read_csv('csv/test.csv')\n",
    "test.info()"
   ]
  },
  {
   "cell_type": "code",
   "execution_count": 7,
   "metadata": {},
   "outputs": [],
   "source": [
    "\n",
    "test['location'] = test['location'].fillna(\"0\")\n",
    "train['location'] = train['location'].fillna(\"0\")"
   ]
  },
  {
   "cell_type": "markdown",
   "metadata": {},
   "source": [
    "## Cargo los embedings pre_entrenados en memoria"
   ]
  },
  {
   "cell_type": "code",
   "execution_count": 6,
   "metadata": {},
   "outputs": [],
   "source": [
    "EMBEDDING_FILE = 'GoogleNews-vectors-negative300.bin.gz'\n",
    "word2vec = KeyedVectors.load_word2vec_format(EMBEDDING_FILE, binary=True)"
   ]
  },
  {
   "cell_type": "code",
   "execution_count": 7,
   "metadata": {},
   "outputs": [],
   "source": [
    "#Devuelve una lista de tweets dejando solo caracteres alfanumericos\n",
    "def clean_text(df, columna):\n",
    "    words = df[columna].str.split()\n",
    "    clean_words = []\n",
    "\n",
    "    for sentence in words:\n",
    "        clean_sentence = []\n",
    "        for word in sentence:\n",
    "            clean_word = re.sub('[^a-zA-Z]','', word)\n",
    "            if(clean_word != '')&(clean_word not in STOPWORDS):\n",
    "                clean_sentence.append(clean_word.lower())\n",
    "        clean_words.append(clean_sentence)\n",
    "    \n",
    "    return clean_words"
   ]
  },
  {
   "cell_type": "code",
   "execution_count": 8,
   "metadata": {},
   "outputs": [],
   "source": [
    "def tweets_embeddings(df,columna):\n",
    "\n",
    "    long_embedding = 300\n",
    "    embeddings = np.zeros((len(df.index),long_embedding), dtype='float32') \n",
    "    normalized_embeddings = np.zeros((len(df.index),long_embedding),dtype='float32')\n",
    "\n",
    "    contador = 0\n",
    "    for tweet in df[columna]:\n",
    "        cant_palabras = 0\n",
    "        embedded_tweet = np.zeros((long_embedding,), dtype='float32')\n",
    "\n",
    "        for word in tweet:\n",
    "            if word in word2vec.vocab:\n",
    "                embedded_tweet = np.add(word2vec[word],embedded_tweet)\n",
    "                cant_palabras += 1     \n",
    "\n",
    "        embeddings[contador] = embedded_tweet\n",
    "\n",
    "        if cant_palabras!=0:\n",
    "            normalized_embeddings[contador] = np.divide(embedded_tweet,cant_palabras)\n",
    "        else:\n",
    "            normalized_embeddings[contador] = embedded_tweet\n",
    "\n",
    "        contador += 1    \n",
    "        \n",
    "    return embeddings, normalized_embeddings"
   ]
  },
  {
   "cell_type": "code",
   "execution_count": 9,
   "metadata": {},
   "outputs": [],
   "source": [
    "# Devuelve un dataframe con todos los features considerados para el modelo\n",
    "def generate_embeddings(df,columna,nueva):\n",
    "    \n",
    "    df[nueva] = clean_text(df,columna)\n",
    "    df.drop(columns=['keyword','location','text'], inplace=True)\n",
    "    df.set_index('id', inplace=True)\n",
    "    \n",
    "    return tweets_embeddings(df,nueva)"
   ]
  },
  {
   "cell_type": "code",
   "execution_count": 10,
   "metadata": {
    "scrolled": true
   },
   "outputs": [],
   "source": [
    "embeddings_train_text, normalized_embeddings_train_text = generate_embeddings(train.copy(), 'text', 'clean_text')"
   ]
  },
  {
   "cell_type": "code",
   "execution_count": 11,
   "metadata": {},
   "outputs": [],
   "source": [
    "embeddings_train_loc, normalized_embeddings_train_loc = generate_embeddings(train.copy(),'location', 'clean_loc')"
   ]
  },
  {
   "cell_type": "code",
   "execution_count": 17,
   "metadata": {},
   "outputs": [],
   "source": [
    "def generar_txt(path,serie):\n",
    "    file = open(path, \"w\")\n",
    "    for i in serie:\n",
    "        np.savetxt(file, i)\n",
    "\n",
    "    file.close()"
   ]
  },
  {
   "cell_type": "code",
   "execution_count": 18,
   "metadata": {},
   "outputs": [],
   "source": [
    "generar_txt(\"mios/w2v_train_text.txt\",embeddings_train_text)\n",
    "generar_txt(\"mios/w2v_train_text(norm).txt\",normalized_embeddings_train_text)"
   ]
  },
  {
   "cell_type": "code",
   "execution_count": 19,
   "metadata": {},
   "outputs": [],
   "source": [
    "generar_txt(\"mios/w2v_train_loc.txt\",embeddings_train_loc)\n",
    "generar_txt(\"mios/w2v_train_loc(norm).txt\",normalized_embeddings_train_loc)"
   ]
  },
  {
   "cell_type": "code",
   "execution_count": 21,
   "metadata": {},
   "outputs": [],
   "source": [
    "embeddings_test_text, normalized_embeddings_test_text = generate_embeddings(test.copy(), 'text', 'clean_text')\n",
    "embeddings_test_loc, normalized_embeddings_test_loc = generate_embeddings(test.copy(),'location', 'clean_loc')"
   ]
  },
  {
   "cell_type": "code",
   "execution_count": 22,
   "metadata": {},
   "outputs": [],
   "source": [
    "generar_txt(\"mios/w2v_test_text.txt\",embeddings_test_text)\n",
    "generar_txt(\"mios/w2v_test_text(norm).txt\",normalized_embeddings_test_text)"
   ]
  },
  {
   "cell_type": "code",
   "execution_count": 23,
   "metadata": {},
   "outputs": [],
   "source": [
    "generar_txt(\"mios/w2v_test_text.txt\",embeddings_test_text)\n",
    "generar_txt(\"mios/w2v_test_text(norm).txt\",normalized_embeddings_test_text)"
   ]
  },
  {
   "cell_type": "code",
   "execution_count": 11,
   "metadata": {},
   "outputs": [],
   "source": [
    "w2v_train_text = np.loadtxt(\"mios/w2v_train_text.txt\").reshape(len(train.index),300)\n",
    "w2v_train_text_norm = np.loadtxt(\"mios/w2v_train_text(norm).txt\").reshape(len(train.index),300)\n",
    "w2v_train_loc       = np.loadtxt(\"mios/w2v_train_loc.txt\").reshape(len(train.index),300)\n",
    "w2v_train_loc_norm  = np.loadtxt(\"mios/w2v_train_loc(norm).txt\").reshape(len(train.index),300)\n",
    "\n",
    "w2v_test_text       = np.loadtxt(\"mios/w2v_test_text.txt\").reshape(len(test.index),300)\n",
    "w2v_test_text_norm  = np.loadtxt(\"mios/w2v_test_text(norm).txt\").reshape(len(test.index),300)\n",
    "w2v_test_loc        = np.loadtxt(\"mios/w2v_test_text.txt\").reshape(len(test.index),300)\n",
    "w2v_test_loc_norm   = np.loadtxt(\"mios/w2v_test_text(norm).txt\").reshape(len(test.index),300)"
   ]
  },
  {
   "cell_type": "code",
   "execution_count": 16,
   "metadata": {},
   "outputs": [
    {
     "data": {
      "text/plain": [
       "(3263, 300)"
      ]
     },
     "execution_count": 16,
     "metadata": {},
     "output_type": "execute_result"
    }
   ],
   "source": [
    "w2v_test_loc_norm.shape"
   ]
  },
  {
   "cell_type": "markdown",
   "metadata": {},
   "source": [
    "#### entreno mi set de datos usando los sin normalizar"
   ]
  },
  {
   "cell_type": "code",
   "execution_count": 36,
   "metadata": {},
   "outputs": [],
   "source": [
    "X, y = np.concatenate( (w2v_train_text,w2v_train_loc) , axis=1) , train['target'].to_frame()\n",
    "X_train, X_test, y_train, y_test = train_test_split(X, y, test_size=0.1, random_state=13)"
   ]
  },
  {
   "cell_type": "code",
   "execution_count": 38,
   "metadata": {},
   "outputs": [
    {
     "name": "stdout",
     "output_type": "stream",
     "text": [
      "Accuracy Score : 0.7782152230971129\n",
      "Precision Score : 0.8045112781954887\n",
      "Recall Score : 0.6465256797583081\n",
      "F1 Score : 0.7169179229480735\n"
     ]
    }
   ],
   "source": [
    "xg_reg = xgb.XGBRegressor(objective ='binary:logistic', \n",
    "                colsample_bytree = 0.3, learning_rate = 0.1,\n",
    "                max_depth = 10, alpha = 15, n_estimators = 5)\n",
    "\n",
    "xg_reg.fit(X_train,y_train)\n",
    "preds = xg_reg.predict(X_test)\n",
    "print('Accuracy Score : ' + str(accuracy_score(y_test,preds.round())))\n",
    "print('Precision Score : ' + str(precision_score(y_test,preds.round())))\n",
    "print('Recall Score : ' + str(recall_score(y_test,preds.round())))\n",
    "print('F1 Score : ' + str(f1_score(y_test,preds.round())))"
   ]
  },
  {
   "cell_type": "markdown",
   "metadata": {},
   "source": [
    "### ahora lo hago con los datos normalizados\n",
    "\n"
   ]
  },
  {
   "cell_type": "code",
   "execution_count": 41,
   "metadata": {},
   "outputs": [],
   "source": [
    "X, y = np.concatenate( (w2v_train_loc_norm,w2v_train_text_norm) , axis=1) , train['target'].to_frame()\n",
    "X_train, X_test, y_train, y_test = train_test_split(X, y, test_size=0.1, random_state=13)"
   ]
  },
  {
   "cell_type": "code",
   "execution_count": 42,
   "metadata": {},
   "outputs": [
    {
     "name": "stdout",
     "output_type": "stream",
     "text": [
      "Accuracy Score : 0.7716535433070866\n",
      "Precision Score : 0.8054474708171206\n",
      "Recall Score : 0.6253776435045317\n",
      "F1 Score : 0.7040816326530612\n"
     ]
    }
   ],
   "source": [
    "xg_reg = xgb.XGBRegressor(objective ='binary:logistic', \n",
    "                colsample_bytree = 0.3, learning_rate = 0.1,\n",
    "                max_depth = 10, alpha = 15, n_estimators = 5)\n",
    "\n",
    "xg_reg.fit(X_train,y_train)\n",
    "preds = xg_reg.predict(X_test)\n",
    "print('Accuracy Score : ' + str(accuracy_score(y_test,preds.round())))\n",
    "print('Precision Score : ' + str(precision_score(y_test,preds.round())))\n",
    "print('Recall Score : ' + str(recall_score(y_test,preds.round())))\n",
    "print('F1 Score : ' + str(f1_score(y_test,preds.round())))"
   ]
  }
 ],
 "metadata": {
  "kernelspec": {
   "display_name": "Python 3",
   "language": "python",
   "name": "python3"
  },
  "language_info": {
   "codemirror_mode": {
    "name": "ipython",
    "version": 3
   },
   "file_extension": ".py",
   "mimetype": "text/x-python",
   "name": "python",
   "nbconvert_exporter": "python",
   "pygments_lexer": "ipython3",
   "version": "3.7.6"
  }
 },
 "nbformat": 4,
 "nbformat_minor": 4
}
