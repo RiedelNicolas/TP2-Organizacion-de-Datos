{
 "cells": [
  {
   "cell_type": "code",
   "execution_count": 1,
   "metadata": {},
   "outputs": [],
   "source": [
    "import pandas as pd\n",
    "import re\n",
    "import numpy as np\n",
    "import xgboost as xgb\n",
    "import matplotlib.pyplot as plt\n",
    "from sklearn.model_selection import train_test_split\n",
    "from sklearn.ensemble import RandomForestRegressor, VotingRegressor, GradientBoostingRegressor\n",
    "from sklearn.metrics import accuracy_score,recall_score,precision_score,f1_score\n",
    "from sklearn.linear_model import LogisticRegression\n",
    "from gensim.parsing.preprocessing import STOPWORDS\n",
    "import lightgbm as lgb\n",
    "from catboost import CatBoostRegressor\n",
    "import tensorflow_hub as hub\n",
    "import tensorflow as tf\n",
    "from keras.models import Sequential\n",
    "from keras.layers import Embedding, LSTM, Dense, SpatialDropout1D, Dropout\n",
    "from keras import layers\n",
    "%matplotlib inline"
   ]
  },
  {
   "cell_type": "code",
   "execution_count": 2,
   "metadata": {},
   "outputs": [],
   "source": [
    "geo_train = pd.read_csv('csv/test_con_geo.csv')\n",
    "geo_test = pd.read_csv('csv/train_con_geo.csv')\n",
    "test = pd.read_csv('csv/results_trees_nets_tf_keyw_test.csv')\n",
    "train = pd.read_csv('csv/results_trees_nets_tf_keyw_train.csv')\n",
    "test_red = pd.read_csv('eze_pulido/submission3000float.csv')\n",
    "train_red = pd.read_csv('eze_pulido/submission3000_train_float.csv')\n",
    "train_target = pd.read_csv('csv/train.csv')"
   ]
  },
  {
   "cell_type": "code",
   "execution_count": 3,
   "metadata": {},
   "outputs": [],
   "source": [
    "test['best'] = test_red['target'].copy()\n",
    "train['best'] = train_red['target'].copy()"
   ]
  },
  {
   "cell_type": "code",
   "execution_count": 4,
   "metadata": {
    "scrolled": true
   },
   "outputs": [
    {
     "data": {
      "text/html": [
       "<div>\n",
       "<style scoped>\n",
       "    .dataframe tbody tr th:only-of-type {\n",
       "        vertical-align: middle;\n",
       "    }\n",
       "\n",
       "    .dataframe tbody tr th {\n",
       "        vertical-align: top;\n",
       "    }\n",
       "\n",
       "    .dataframe thead th {\n",
       "        text-align: right;\n",
       "    }\n",
       "</style>\n",
       "<table border=\"1\" class=\"dataframe\">\n",
       "  <thead>\n",
       "    <tr style=\"text-align: right;\">\n",
       "      <th></th>\n",
       "      <th>Unnamed: 0</th>\n",
       "      <th>id</th>\n",
       "      <th>keyword</th>\n",
       "      <th>location</th>\n",
       "      <th>text</th>\n",
       "      <th>loc_nula</th>\n",
       "      <th>loc_valida</th>\n",
       "      <th>coordenadas</th>\n",
       "      <th>latitud</th>\n",
       "      <th>longitud</th>\n",
       "    </tr>\n",
       "  </thead>\n",
       "  <tbody>\n",
       "    <tr>\n",
       "      <th>2856</th>\n",
       "      <td>2856</td>\n",
       "      <td>9473</td>\n",
       "      <td>terrorism</td>\n",
       "      <td>Washington, DC</td>\n",
       "      <td>New US counter #terrorism program urges #Musli...</td>\n",
       "      <td>0</td>\n",
       "      <td>1</td>\n",
       "      <td>(38.8949855, -77.0365708)</td>\n",
       "      <td>38.894985</td>\n",
       "      <td>-77.036571</td>\n",
       "    </tr>\n",
       "  </tbody>\n",
       "</table>\n",
       "</div>"
      ],
      "text/plain": [
       "      Unnamed: 0    id    keyword        location  \\\n",
       "2856        2856  9473  terrorism  Washington, DC   \n",
       "\n",
       "                                                   text  loc_nula  loc_valida  \\\n",
       "2856  New US counter #terrorism program urges #Musli...         0           1   \n",
       "\n",
       "                    coordenadas    latitud   longitud  \n",
       "2856  (38.8949855, -77.0365708)  38.894985 -77.036571  "
      ]
     },
     "execution_count": 4,
     "metadata": {},
     "output_type": "execute_result"
    }
   ],
   "source": [
    "geo_train.sample()"
   ]
  },
  {
   "cell_type": "code",
   "execution_count": 5,
   "metadata": {},
   "outputs": [],
   "source": [
    "train['latitud']  = geo_train['latitud']\n",
    "train['longitud'] = geo_train['longitud']\n",
    "test['latitud']  = geo_test['latitud']\n",
    "test['longitud'] = geo_test['longitud']\n"
   ]
  },
  {
   "cell_type": "code",
   "execution_count": 6,
   "metadata": {},
   "outputs": [
    {
     "data": {
      "text/html": [
       "<div>\n",
       "<style scoped>\n",
       "    .dataframe tbody tr th:only-of-type {\n",
       "        vertical-align: middle;\n",
       "    }\n",
       "\n",
       "    .dataframe tbody tr th {\n",
       "        vertical-align: top;\n",
       "    }\n",
       "\n",
       "    .dataframe thead th {\n",
       "        text-align: right;\n",
       "    }\n",
       "</style>\n",
       "<table border=\"1\" class=\"dataframe\">\n",
       "  <thead>\n",
       "    <tr style=\"text-align: right;\">\n",
       "      <th></th>\n",
       "      <th>id</th>\n",
       "      <th>word2vec_tree</th>\n",
       "      <th>elmo_tree</th>\n",
       "      <th>glove_tree</th>\n",
       "      <th>bert_tree</th>\n",
       "      <th>elmo_net</th>\n",
       "      <th>bert_net</th>\n",
       "      <th>w2v_net</th>\n",
       "      <th>glove_net</th>\n",
       "      <th>tf_uni</th>\n",
       "      <th>tf_bi</th>\n",
       "      <th>tf_tri</th>\n",
       "      <th>keyword_veracity</th>\n",
       "      <th>best</th>\n",
       "      <th>latitud</th>\n",
       "      <th>longitud</th>\n",
       "    </tr>\n",
       "  </thead>\n",
       "  <tbody>\n",
       "    <tr>\n",
       "      <th>2847</th>\n",
       "      <td>4093</td>\n",
       "      <td>0.532221</td>\n",
       "      <td>0.422672</td>\n",
       "      <td>0.412649</td>\n",
       "      <td>0.464573</td>\n",
       "      <td>0.034943</td>\n",
       "      <td>0.037549</td>\n",
       "      <td>0.465988</td>\n",
       "      <td>0.323211</td>\n",
       "      <td>0.184584</td>\n",
       "      <td>0.268707</td>\n",
       "      <td>0.302611</td>\n",
       "      <td>0.722222</td>\n",
       "      <td>0.053023</td>\n",
       "      <td>52.795479</td>\n",
       "      <td>-0.54024</td>\n",
       "    </tr>\n",
       "  </tbody>\n",
       "</table>\n",
       "</div>"
      ],
      "text/plain": [
       "        id  word2vec_tree  elmo_tree  glove_tree  bert_tree  elmo_net  \\\n",
       "2847  4093       0.532221   0.422672    0.412649   0.464573  0.034943   \n",
       "\n",
       "      bert_net   w2v_net  glove_net    tf_uni     tf_bi    tf_tri  \\\n",
       "2847  0.037549  0.465988   0.323211  0.184584  0.268707  0.302611   \n",
       "\n",
       "      keyword_veracity      best    latitud  longitud  \n",
       "2847          0.722222  0.053023  52.795479  -0.54024  "
      ]
     },
     "execution_count": 6,
     "metadata": {},
     "output_type": "execute_result"
    }
   ],
   "source": [
    "train.sample()"
   ]
  },
  {
   "cell_type": "code",
   "execution_count": 7,
   "metadata": {},
   "outputs": [
    {
     "data": {
      "text/html": [
       "<div>\n",
       "<style scoped>\n",
       "    .dataframe tbody tr th:only-of-type {\n",
       "        vertical-align: middle;\n",
       "    }\n",
       "\n",
       "    .dataframe tbody tr th {\n",
       "        vertical-align: top;\n",
       "    }\n",
       "\n",
       "    .dataframe thead th {\n",
       "        text-align: right;\n",
       "    }\n",
       "</style>\n",
       "<table border=\"1\" class=\"dataframe\">\n",
       "  <thead>\n",
       "    <tr style=\"text-align: right;\">\n",
       "      <th></th>\n",
       "      <th>id</th>\n",
       "      <th>word2vec_tree</th>\n",
       "      <th>elmo_tree</th>\n",
       "      <th>glove_tree</th>\n",
       "      <th>bert_tree</th>\n",
       "      <th>elmo_net</th>\n",
       "      <th>bert_net</th>\n",
       "      <th>w2v_net</th>\n",
       "      <th>glove_net</th>\n",
       "      <th>tf_uni</th>\n",
       "      <th>tf_bi</th>\n",
       "      <th>tf_tri</th>\n",
       "      <th>keyword_veracity</th>\n",
       "      <th>best</th>\n",
       "      <th>latitud</th>\n",
       "      <th>longitud</th>\n",
       "    </tr>\n",
       "  </thead>\n",
       "  <tbody>\n",
       "    <tr>\n",
       "      <th>533</th>\n",
       "      <td>1743</td>\n",
       "      <td>0.624515</td>\n",
       "      <td>0.506749</td>\n",
       "      <td>0.392414</td>\n",
       "      <td>0.330172</td>\n",
       "      <td>0.537293</td>\n",
       "      <td>0.291364</td>\n",
       "      <td>0.629312</td>\n",
       "      <td>0.511867</td>\n",
       "      <td>0.488266</td>\n",
       "      <td>0.648541</td>\n",
       "      <td>0.572929</td>\n",
       "      <td>0.685714</td>\n",
       "      <td>0.78509</td>\n",
       "      <td>NaN</td>\n",
       "      <td>NaN</td>\n",
       "    </tr>\n",
       "  </tbody>\n",
       "</table>\n",
       "</div>"
      ],
      "text/plain": [
       "       id  word2vec_tree  elmo_tree  glove_tree  bert_tree  elmo_net  \\\n",
       "533  1743       0.624515   0.506749    0.392414   0.330172  0.537293   \n",
       "\n",
       "     bert_net   w2v_net  glove_net    tf_uni     tf_bi    tf_tri  \\\n",
       "533  0.291364  0.629312   0.511867  0.488266  0.648541  0.572929   \n",
       "\n",
       "     keyword_veracity     best  latitud  longitud  \n",
       "533          0.685714  0.78509      NaN       NaN  "
      ]
     },
     "execution_count": 7,
     "metadata": {},
     "output_type": "execute_result"
    }
   ],
   "source": [
    "test.sample()"
   ]
  },
  {
   "cell_type": "code",
   "execution_count": 8,
   "metadata": {},
   "outputs": [],
   "source": [
    "del test ['id']\n",
    "del train ['id']\n",
    "train  = train.fillna( 0.00)\n",
    "test = test.fillna ( 0.00 )"
   ]
  },
  {
   "cell_type": "markdown",
   "metadata": {},
   "source": [
    "# Árboles"
   ]
  },
  {
   "cell_type": "code",
   "execution_count": 9,
   "metadata": {},
   "outputs": [],
   "source": [
    "X, y = train, train_target['target']\n",
    "X_train, X_test, y_train, y_test = train_test_split(X, y, test_size=0.25, random_state=18)"
   ]
  },
  {
   "cell_type": "code",
   "execution_count": 10,
   "metadata": {},
   "outputs": [
    {
     "name": "stdout",
     "output_type": "stream",
     "text": [
      "Accuracy Score : 0.9149159663865546\n",
      "Precision Score : 0.9288486416558862\n",
      "Recall Score : 0.8703030303030304\n",
      "F1 Score : 0.8986232790988735\n"
     ]
    }
   ],
   "source": [
    "xg_reg = xgb.XGBRegressor(objective ='binary:logistic', \n",
    "                colsample_bytree = 0.3, learning_rate = 0.1,\n",
    "                max_depth = 10, alpha = 10, n_estimators = 5)\n",
    "\n",
    "xg_reg.fit(X_train,y_train)\n",
    "preds = xg_reg.predict(X_test)\n",
    "print('Accuracy Score : ' + str(accuracy_score(y_test,preds.round())))\n",
    "print('Precision Score : ' + str(precision_score(y_test,preds.round())))\n",
    "print('Recall Score : ' + str(recall_score(y_test,preds.round())))\n",
    "print('F1 Score : ' + str(f1_score(y_test,preds.round())))"
   ]
  },
  {
   "cell_type": "markdown",
   "metadata": {},
   "source": [
    "# Redes"
   ]
  },
  {
   "cell_type": "code",
   "execution_count": 11,
   "metadata": {},
   "outputs": [],
   "source": [
    "model = Sequential()\n",
    "model.add(layers.Dense(7, input_dim=train.shape[1], activation='relu'))\n",
    "model.add(layers.Dropout(0.25))\n",
    "model.add(layers.Dense(1, input_dim=train.shape[1], activation='sigmoid'))"
   ]
  },
  {
   "cell_type": "code",
   "execution_count": 12,
   "metadata": {
    "scrolled": true
   },
   "outputs": [
    {
     "name": "stdout",
     "output_type": "stream",
     "text": [
      "Model: \"sequential\"\n",
      "_________________________________________________________________\n",
      "Layer (type)                 Output Shape              Param #   \n",
      "=================================================================\n",
      "dense (Dense)                (None, 7)                 112       \n",
      "_________________________________________________________________\n",
      "dropout (Dropout)            (None, 7)                 0         \n",
      "_________________________________________________________________\n",
      "dense_1 (Dense)              (None, 1)                 8         \n",
      "=================================================================\n",
      "Total params: 120\n",
      "Trainable params: 120\n",
      "Non-trainable params: 0\n",
      "_________________________________________________________________\n"
     ]
    }
   ],
   "source": [
    "model.compile(loss='binary_crossentropy', \n",
    "              optimizer='adam', \n",
    "              metrics=['accuracy'])\n",
    "model.summary()"
   ]
  },
  {
   "cell_type": "code",
   "execution_count": 13,
   "metadata": {},
   "outputs": [
    {
     "name": "stdout",
     "output_type": "stream",
     "text": [
      "Epoch 1/5\n",
      "1142/1142 [==============================] - 2s 1ms/step - loss: 0.6870 - accuracy: 0.7669 - val_loss: 0.3878 - val_accuracy: 0.8745\n",
      "Epoch 2/5\n",
      "1142/1142 [==============================] - 1s 1ms/step - loss: 0.4664 - accuracy: 0.8439 - val_loss: 0.2682 - val_accuracy: 0.8871\n",
      "Epoch 3/5\n",
      "1142/1142 [==============================] - 1s 1ms/step - loss: 0.3407 - accuracy: 0.8672 - val_loss: 0.2231 - val_accuracy: 0.8981\n",
      "Epoch 4/5\n",
      "1142/1142 [==============================] - 1s 1ms/step - loss: 0.3085 - accuracy: 0.8784 - val_loss: 0.2030 - val_accuracy: 0.9044\n",
      "Epoch 5/5\n",
      "1142/1142 [==============================] - 1s 1ms/step - loss: 0.2782 - accuracy: 0.8840 - val_loss: 0.1970 - val_accuracy: 0.9028\n"
     ]
    }
   ],
   "source": [
    "history = model.fit(X_train, y_train,\n",
    "                    epochs=5,\n",
    "                    verbose=True,\n",
    "                    validation_data=(X_test, y_test),\n",
    "                    batch_size=5)"
   ]
  },
  {
   "cell_type": "code",
   "execution_count": 14,
   "metadata": {
    "scrolled": true
   },
   "outputs": [
    {
     "name": "stdout",
     "output_type": "stream",
     "text": [
      "Accuracy Score : 0.9028361344537815\n",
      "Precision Score : 0.9481792717086834\n",
      "Recall Score : 0.8206060606060606\n",
      "F1 Score : 0.8797920727745289\n"
     ]
    }
   ],
   "source": [
    "preds = model.predict(X_test)\n",
    "print('Accuracy Score : ' + str(accuracy_score(y_test,preds.round())))\n",
    "print('Precision Score : ' + str(precision_score(y_test,preds.round())))\n",
    "print('Recall Score : ' + str(recall_score(y_test,preds.round())))\n",
    "print('F1 Score : ' + str(f1_score(y_test,preds.round())))"
   ]
  },
  {
   "cell_type": "code",
   "execution_count": 18,
   "metadata": {},
   "outputs": [
    {
     "data": {
      "text/plain": [
       "3263"
      ]
     },
     "execution_count": 18,
     "metadata": {},
     "output_type": "execute_result"
    }
   ],
   "source": [
    "preds = model.predict(test) #me quedo con la de la red\n",
    "len(preds)"
   ]
  },
  {
   "cell_type": "code",
   "execution_count": 29,
   "metadata": {},
   "outputs": [],
   "source": [
    "real_test = pd.read_csv('csv/test.csv')\n",
    "real_test['target'] = preds.round().astype(int)\n",
    "real_test.set_index('id', inplace=True)\n",
    "real_test = real_test['target']\n",
    "real_test.to_csv('submission_red_con_geo.csv')"
   ]
  },
  {
   "cell_type": "code",
   "execution_count": 30,
   "metadata": {},
   "outputs": [
    {
     "data": {
      "text/plain": [
       "id\n",
       "0        1\n",
       "2        1\n",
       "3        1\n",
       "9        1\n",
       "11       1\n",
       "        ..\n",
       "10861    1\n",
       "10865    1\n",
       "10868    0\n",
       "10874    1\n",
       "10875    0\n",
       "Name: target, Length: 3263, dtype: int64"
      ]
     },
     "execution_count": 30,
     "metadata": {},
     "output_type": "execute_result"
    }
   ],
   "source": [
    "real_test"
   ]
  }
 ],
 "metadata": {
  "kernelspec": {
   "display_name": "Python 3",
   "language": "python",
   "name": "python3"
  },
  "language_info": {
   "codemirror_mode": {
    "name": "ipython",
    "version": 3
   },
   "file_extension": ".py",
   "mimetype": "text/x-python",
   "name": "python",
   "nbconvert_exporter": "python",
   "pygments_lexer": "ipython3",
   "version": "3.7.6"
  }
 },
 "nbformat": 4,
 "nbformat_minor": 4
}
