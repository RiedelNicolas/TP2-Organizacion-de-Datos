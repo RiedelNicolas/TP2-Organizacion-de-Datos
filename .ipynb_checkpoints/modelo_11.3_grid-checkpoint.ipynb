{
 "cells": [
  {
   "cell_type": "markdown",
   "metadata": {},
   "source": [
    "# Same modelo 10 pero con TF-IDF"
   ]
  },
  {
   "cell_type": "code",
   "execution_count": 1,
   "metadata": {},
   "outputs": [],
   "source": [
    "import pandas as pd\n",
    "import re\n",
    "import numpy as np\n",
    "import xgboost as xgb\n",
    "import matplotlib.pyplot as plt\n",
    "import seaborn as sns\n",
    "from sklearn.model_selection import train_test_split,GridSearchCV\n",
    "from sklearn.ensemble import RandomForestClassifier, VotingClassifier, GradientBoostingClassifier\n",
    "from sklearn.metrics import accuracy_score,recall_score,precision_score,f1_score\n",
    "from sklearn.metrics import mean_squared_error\n",
    "import lightgbm as lgb\n",
    "from catboost import CatBoostClassifier\n",
    "%matplotlib inline"
   ]
  },
  {
   "cell_type": "markdown",
   "metadata": {},
   "source": [
    " "
   ]
  },
  {
   "cell_type": "markdown",
   "metadata": {},
   "source": [
    "# Se lee el .csv"
   ]
  },
  {
   "cell_type": "code",
   "execution_count": 2,
   "metadata": {},
   "outputs": [
    {
     "name": "stdout",
     "output_type": "stream",
     "text": [
      "<class 'pandas.core.frame.DataFrame'>\n",
      "RangeIndex: 7613 entries, 0 to 7612\n",
      "Data columns (total 5 columns):\n",
      " #   Column    Non-Null Count  Dtype \n",
      "---  ------    --------------  ----- \n",
      " 0   id        7613 non-null   int64 \n",
      " 1   keyword   7552 non-null   object\n",
      " 2   location  5080 non-null   object\n",
      " 3   text      7613 non-null   object\n",
      " 4   target    7613 non-null   int64 \n",
      "dtypes: int64(2), object(3)\n",
      "memory usage: 297.5+ KB\n"
     ]
    }
   ],
   "source": [
    "train = pd.read_csv('csv/train.csv')\n",
    "train.info()"
   ]
  },
  {
   "cell_type": "code",
   "execution_count": 3,
   "metadata": {},
   "outputs": [
    {
     "data": {
      "text/html": [
       "<div>\n",
       "<style scoped>\n",
       "    .dataframe tbody tr th:only-of-type {\n",
       "        vertical-align: middle;\n",
       "    }\n",
       "\n",
       "    .dataframe tbody tr th {\n",
       "        vertical-align: top;\n",
       "    }\n",
       "\n",
       "    .dataframe thead th {\n",
       "        text-align: right;\n",
       "    }\n",
       "</style>\n",
       "<table border=\"1\" class=\"dataframe\">\n",
       "  <thead>\n",
       "    <tr style=\"text-align: right;\">\n",
       "      <th></th>\n",
       "      <th>id</th>\n",
       "      <th>keyword</th>\n",
       "      <th>location</th>\n",
       "      <th>text</th>\n",
       "      <th>target</th>\n",
       "    </tr>\n",
       "  </thead>\n",
       "  <tbody>\n",
       "    <tr>\n",
       "      <th>0</th>\n",
       "      <td>1</td>\n",
       "      <td>NaN</td>\n",
       "      <td>NaN</td>\n",
       "      <td>Our Deeds are the Reason of this #earthquake M...</td>\n",
       "      <td>1</td>\n",
       "    </tr>\n",
       "    <tr>\n",
       "      <th>1</th>\n",
       "      <td>4</td>\n",
       "      <td>NaN</td>\n",
       "      <td>NaN</td>\n",
       "      <td>Forest fire near La Ronge Sask. Canada</td>\n",
       "      <td>1</td>\n",
       "    </tr>\n",
       "    <tr>\n",
       "      <th>2</th>\n",
       "      <td>5</td>\n",
       "      <td>NaN</td>\n",
       "      <td>NaN</td>\n",
       "      <td>All residents asked to 'shelter in place' are ...</td>\n",
       "      <td>1</td>\n",
       "    </tr>\n",
       "    <tr>\n",
       "      <th>3</th>\n",
       "      <td>6</td>\n",
       "      <td>NaN</td>\n",
       "      <td>NaN</td>\n",
       "      <td>13,000 people receive #wildfires evacuation or...</td>\n",
       "      <td>1</td>\n",
       "    </tr>\n",
       "    <tr>\n",
       "      <th>4</th>\n",
       "      <td>7</td>\n",
       "      <td>NaN</td>\n",
       "      <td>NaN</td>\n",
       "      <td>Just got sent this photo from Ruby #Alaska as ...</td>\n",
       "      <td>1</td>\n",
       "    </tr>\n",
       "  </tbody>\n",
       "</table>\n",
       "</div>"
      ],
      "text/plain": [
       "   id keyword location                                               text  \\\n",
       "0   1     NaN      NaN  Our Deeds are the Reason of this #earthquake M...   \n",
       "1   4     NaN      NaN             Forest fire near La Ronge Sask. Canada   \n",
       "2   5     NaN      NaN  All residents asked to 'shelter in place' are ...   \n",
       "3   6     NaN      NaN  13,000 people receive #wildfires evacuation or...   \n",
       "4   7     NaN      NaN  Just got sent this photo from Ruby #Alaska as ...   \n",
       "\n",
       "   target  \n",
       "0       1  \n",
       "1       1  \n",
       "2       1  \n",
       "3       1  \n",
       "4       1  "
      ]
     },
     "execution_count": 3,
     "metadata": {},
     "output_type": "execute_result"
    }
   ],
   "source": [
    "train.head()"
   ]
  },
  {
   "cell_type": "code",
   "execution_count": 4,
   "metadata": {},
   "outputs": [],
   "source": [
    "test = pd.read_csv('csv/test.csv')"
   ]
  },
  {
   "cell_type": "code",
   "execution_count": 5,
   "metadata": {},
   "outputs": [],
   "source": [
    "word2vec_score = pd.read_csv('csv/solo_embedding_word2vec_train.csv', usecols=['word2vec_score'])\n",
    "word2vec_score_test = pd.read_csv('csv/solo_embedding_word2vec_test.csv', usecols=['word2vec_score'])"
   ]
  },
  {
   "cell_type": "code",
   "execution_count": 6,
   "metadata": {},
   "outputs": [],
   "source": [
    "elmo_score = pd.read_csv('csv/solo_embedding_elmo_train.csv', usecols=['elmo_score'])\n",
    "elmo_score_test = pd.read_csv('csv/solo_embedding_elmo_test.csv', usecols=['elmo_score'])"
   ]
  },
  {
   "cell_type": "code",
   "execution_count": 7,
   "metadata": {},
   "outputs": [],
   "source": [
    "glove_score = pd.read_csv('csv/solo_embedding_glove_train.csv', usecols=['glove_score'])\n",
    "glove_score_test = pd.read_csv('csv/solo_embedding_glove_test.csv', usecols=['glove_score'])"
   ]
  },
  {
   "cell_type": "code",
   "execution_count": 8,
   "metadata": {},
   "outputs": [],
   "source": [
    "bert_score = pd.read_csv('csv/solo_embedding_bert_train.csv', usecols=['bert_score'])\n",
    "bert_score_test = pd.read_csv('csv/solo_embedding_bert_test.csv', usecols=['bert_score'])"
   ]
  },
  {
   "cell_type": "code",
   "execution_count": 9,
   "metadata": {},
   "outputs": [],
   "source": [
    "word2vec_net = pd.read_csv('csv/train_red_w2v.csv', usecols=['w2v_net'])\n",
    "word2vec_net_test = pd.read_csv('csv/test_red_w2v.csv', usecols=['w2v_net'])"
   ]
  },
  {
   "cell_type": "code",
   "execution_count": 10,
   "metadata": {},
   "outputs": [],
   "source": [
    "glove_net = pd.read_csv('csv/train_red_glove.csv', usecols=['glove_net'])\n",
    "glove_net_test = pd.read_csv('csv/test_red_glove.csv', usecols=['glove_net'])"
   ]
  },
  {
   "cell_type": "code",
   "execution_count": 11,
   "metadata": {},
   "outputs": [],
   "source": [
    "bert_net = pd.read_csv('csv/train_red_bert.csv', usecols=['bert_net'])\n",
    "bert_net_test = pd.read_csv('csv/test_red_bert.csv', usecols=['bert_net'])"
   ]
  },
  {
   "cell_type": "code",
   "execution_count": 12,
   "metadata": {},
   "outputs": [],
   "source": [
    "elmo_net = pd.read_csv('csv/train_red_elmo.csv', usecols=['elmo_net'])\n",
    "elmo_net_test = pd.read_csv('csv/test_red_elmo.csv', usecols=['elmo_net'])"
   ]
  },
  {
   "cell_type": "code",
   "execution_count": 13,
   "metadata": {},
   "outputs": [],
   "source": [
    "tf_train = pd.read_csv('csv/train_TFIDF.csv', usecols=['tfidf_net'])\n",
    "tf_test = pd.read_csv('csv/test_TFIDF.csv', usecols=['tfidf_net'])"
   ]
  },
  {
   "cell_type": "code",
   "execution_count": 14,
   "metadata": {},
   "outputs": [],
   "source": [
    "tf_uni_train = pd.read_csv('csv/train_TFIDF_unigramas.csv', usecols=['tfidf_net_uni'])\n",
    "tf_uni_test = pd.read_csv('csv/test_TFIDF_unigramas.csv', usecols=['tfidf_net_uni'])"
   ]
  },
  {
   "cell_type": "code",
   "execution_count": 15,
   "metadata": {},
   "outputs": [],
   "source": [
    "tf_bi_train = pd.read_csv('csv/train_TFIDF_bigramas.csv', usecols=['tfidf_net_bi'])\n",
    "tf_bi_test = pd.read_csv('csv/test_TFIDF_bigramas.csv', usecols=['tfidf_net_bi'])"
   ]
  },
  {
   "cell_type": "code",
   "execution_count": 16,
   "metadata": {},
   "outputs": [],
   "source": [
    "tf_tri_train = pd.read_csv('csv/train_TFIDF_trigramas.csv', usecols=['tfidf_net_tri'])\n",
    "tf_tri_test = pd.read_csv('csv/test_TFIDF_trigamas.csv', usecols=['tfidf_net_tri'])"
   ]
  },
  {
   "cell_type": "code",
   "execution_count": 17,
   "metadata": {},
   "outputs": [],
   "source": [
    "trans_bert_train = pd.read_csv('eze_pulido/submission3000_train_float.csv', usecols=['target'])\n",
    "trans_bert_test = pd.read_csv('eze_pulido/submission3000float.csv', usecols=['target'])"
   ]
  },
  {
   "cell_type": "code",
   "execution_count": 18,
   "metadata": {},
   "outputs": [],
   "source": [
    "train['word2vec_tree'] = word2vec_score\n",
    "train['elmo_tree'] = elmo_score\n",
    "train['glove_tree'] = glove_score\n",
    "train['bert_tree'] = bert_score\n",
    "train['bert_net'] = bert_net\n",
    "train['elmo_net'] = elmo_net\n",
    "train['w2v_net'] = word2vec_net\n",
    "train['glove_net'] = glove_net\n",
    "train['tf_train'] = tf_train\n",
    "train['tf_uni'] = tf_uni_train\n",
    "train['tf_bi'] = tf_bi_train\n",
    "train['tf_tri'] = tf_tri_train\n",
    "train['trans_bert'] = trans_bert_train"
   ]
  },
  {
   "cell_type": "code",
   "execution_count": 19,
   "metadata": {},
   "outputs": [],
   "source": [
    "train.drop(columns=['keyword','location','text'],inplace=True)"
   ]
  },
  {
   "cell_type": "code",
   "execution_count": 20,
   "metadata": {},
   "outputs": [
    {
     "data": {
      "text/html": [
       "<div>\n",
       "<style scoped>\n",
       "    .dataframe tbody tr th:only-of-type {\n",
       "        vertical-align: middle;\n",
       "    }\n",
       "\n",
       "    .dataframe tbody tr th {\n",
       "        vertical-align: top;\n",
       "    }\n",
       "\n",
       "    .dataframe thead th {\n",
       "        text-align: right;\n",
       "    }\n",
       "</style>\n",
       "<table border=\"1\" class=\"dataframe\">\n",
       "  <thead>\n",
       "    <tr style=\"text-align: right;\">\n",
       "      <th></th>\n",
       "      <th>id</th>\n",
       "      <th>target</th>\n",
       "      <th>word2vec_tree</th>\n",
       "      <th>elmo_tree</th>\n",
       "      <th>glove_tree</th>\n",
       "      <th>bert_tree</th>\n",
       "      <th>bert_net</th>\n",
       "      <th>elmo_net</th>\n",
       "      <th>w2v_net</th>\n",
       "      <th>glove_net</th>\n",
       "      <th>tf_train</th>\n",
       "      <th>tf_uni</th>\n",
       "      <th>tf_bi</th>\n",
       "      <th>tf_tri</th>\n",
       "      <th>trans_bert</th>\n",
       "    </tr>\n",
       "  </thead>\n",
       "  <tbody>\n",
       "    <tr>\n",
       "      <th>0</th>\n",
       "      <td>1</td>\n",
       "      <td>1</td>\n",
       "      <td>0.667608</td>\n",
       "      <td>0.715482</td>\n",
       "      <td>0.635028</td>\n",
       "      <td>0.640565</td>\n",
       "      <td>0.242175</td>\n",
       "      <td>0.450090</td>\n",
       "      <td>0.992572</td>\n",
       "      <td>0.651780</td>\n",
       "      <td>0.587438</td>\n",
       "      <td>0.580922</td>\n",
       "      <td>0.564173</td>\n",
       "      <td>0.607627</td>\n",
       "      <td>0.996106</td>\n",
       "    </tr>\n",
       "    <tr>\n",
       "      <th>1</th>\n",
       "      <td>4</td>\n",
       "      <td>1</td>\n",
       "      <td>0.855877</td>\n",
       "      <td>0.783273</td>\n",
       "      <td>0.877394</td>\n",
       "      <td>0.751214</td>\n",
       "      <td>0.237999</td>\n",
       "      <td>0.297658</td>\n",
       "      <td>0.999871</td>\n",
       "      <td>0.966338</td>\n",
       "      <td>0.967136</td>\n",
       "      <td>0.986876</td>\n",
       "      <td>0.982303</td>\n",
       "      <td>0.934687</td>\n",
       "      <td>0.993173</td>\n",
       "    </tr>\n",
       "    <tr>\n",
       "      <th>2</th>\n",
       "      <td>5</td>\n",
       "      <td>1</td>\n",
       "      <td>0.892648</td>\n",
       "      <td>0.814854</td>\n",
       "      <td>0.870452</td>\n",
       "      <td>0.796551</td>\n",
       "      <td>0.653434</td>\n",
       "      <td>0.809174</td>\n",
       "      <td>0.967203</td>\n",
       "      <td>0.971955</td>\n",
       "      <td>0.712390</td>\n",
       "      <td>0.788277</td>\n",
       "      <td>0.812960</td>\n",
       "      <td>0.705970</td>\n",
       "      <td>0.994093</td>\n",
       "    </tr>\n",
       "    <tr>\n",
       "      <th>3</th>\n",
       "      <td>6</td>\n",
       "      <td>1</td>\n",
       "      <td>0.946222</td>\n",
       "      <td>0.838757</td>\n",
       "      <td>0.860857</td>\n",
       "      <td>0.900976</td>\n",
       "      <td>0.901097</td>\n",
       "      <td>0.930959</td>\n",
       "      <td>0.999996</td>\n",
       "      <td>0.934217</td>\n",
       "      <td>0.976515</td>\n",
       "      <td>0.982410</td>\n",
       "      <td>0.983006</td>\n",
       "      <td>0.953801</td>\n",
       "      <td>0.998561</td>\n",
       "    </tr>\n",
       "    <tr>\n",
       "      <th>4</th>\n",
       "      <td>7</td>\n",
       "      <td>1</td>\n",
       "      <td>0.829571</td>\n",
       "      <td>0.830163</td>\n",
       "      <td>0.758754</td>\n",
       "      <td>0.694989</td>\n",
       "      <td>0.713383</td>\n",
       "      <td>0.484619</td>\n",
       "      <td>0.998377</td>\n",
       "      <td>0.607170</td>\n",
       "      <td>0.525771</td>\n",
       "      <td>0.531229</td>\n",
       "      <td>0.498404</td>\n",
       "      <td>0.558009</td>\n",
       "      <td>0.994882</td>\n",
       "    </tr>\n",
       "  </tbody>\n",
       "</table>\n",
       "</div>"
      ],
      "text/plain": [
       "   id  target  word2vec_tree  elmo_tree  glove_tree  bert_tree  bert_net  \\\n",
       "0   1       1       0.667608   0.715482    0.635028   0.640565  0.242175   \n",
       "1   4       1       0.855877   0.783273    0.877394   0.751214  0.237999   \n",
       "2   5       1       0.892648   0.814854    0.870452   0.796551  0.653434   \n",
       "3   6       1       0.946222   0.838757    0.860857   0.900976  0.901097   \n",
       "4   7       1       0.829571   0.830163    0.758754   0.694989  0.713383   \n",
       "\n",
       "   elmo_net   w2v_net  glove_net  tf_train    tf_uni     tf_bi    tf_tri  \\\n",
       "0  0.450090  0.992572   0.651780  0.587438  0.580922  0.564173  0.607627   \n",
       "1  0.297658  0.999871   0.966338  0.967136  0.986876  0.982303  0.934687   \n",
       "2  0.809174  0.967203   0.971955  0.712390  0.788277  0.812960  0.705970   \n",
       "3  0.930959  0.999996   0.934217  0.976515  0.982410  0.983006  0.953801   \n",
       "4  0.484619  0.998377   0.607170  0.525771  0.531229  0.498404  0.558009   \n",
       "\n",
       "   trans_bert  \n",
       "0    0.996106  \n",
       "1    0.993173  \n",
       "2    0.994093  \n",
       "3    0.998561  \n",
       "4    0.994882  "
      ]
     },
     "execution_count": 20,
     "metadata": {},
     "output_type": "execute_result"
    }
   ],
   "source": [
    "train.head()"
   ]
  },
  {
   "cell_type": "code",
   "execution_count": 21,
   "metadata": {},
   "outputs": [],
   "source": [
    "test['word2vec_tree'] = word2vec_score_test\n",
    "test['elmo_tree'] = elmo_score_test\n",
    "test['glove_tree'] = glove_score_test\n",
    "test['bert_tree'] = bert_score_test\n",
    "test['bert_net'] = bert_net_test\n",
    "test['elmo_net'] = elmo_net_test\n",
    "test['w2v_net'] = word2vec_net_test\n",
    "test['glove_net'] = glove_net_test\n",
    "test['tf_test'] = tf_test\n",
    "test['tf_uni'] = tf_uni_test\n",
    "test['tf_bi'] = tf_bi_test\n",
    "test['tf_tri'] = tf_tri_test\n",
    "test['trans_bert'] = trans_bert_test"
   ]
  },
  {
   "cell_type": "code",
   "execution_count": 22,
   "metadata": {},
   "outputs": [],
   "source": [
    "test.drop(columns=['keyword','location','text'],inplace=True)"
   ]
  },
  {
   "cell_type": "code",
   "execution_count": 23,
   "metadata": {},
   "outputs": [
    {
     "data": {
      "text/html": [
       "<div>\n",
       "<style scoped>\n",
       "    .dataframe tbody tr th:only-of-type {\n",
       "        vertical-align: middle;\n",
       "    }\n",
       "\n",
       "    .dataframe tbody tr th {\n",
       "        vertical-align: top;\n",
       "    }\n",
       "\n",
       "    .dataframe thead th {\n",
       "        text-align: right;\n",
       "    }\n",
       "</style>\n",
       "<table border=\"1\" class=\"dataframe\">\n",
       "  <thead>\n",
       "    <tr style=\"text-align: right;\">\n",
       "      <th></th>\n",
       "      <th>id</th>\n",
       "      <th>word2vec_tree</th>\n",
       "      <th>elmo_tree</th>\n",
       "      <th>glove_tree</th>\n",
       "      <th>bert_tree</th>\n",
       "      <th>bert_net</th>\n",
       "      <th>elmo_net</th>\n",
       "      <th>w2v_net</th>\n",
       "      <th>glove_net</th>\n",
       "      <th>tf_test</th>\n",
       "      <th>tf_uni</th>\n",
       "      <th>tf_bi</th>\n",
       "      <th>tf_tri</th>\n",
       "      <th>trans_bert</th>\n",
       "    </tr>\n",
       "  </thead>\n",
       "  <tbody>\n",
       "    <tr>\n",
       "      <th>0</th>\n",
       "      <td>0</td>\n",
       "      <td>0.699924</td>\n",
       "      <td>0.323115</td>\n",
       "      <td>0.729142</td>\n",
       "      <td>0.634452</td>\n",
       "      <td>0.925312</td>\n",
       "      <td>0.707569</td>\n",
       "      <td>0.921463</td>\n",
       "      <td>0.743638</td>\n",
       "      <td>0.591726</td>\n",
       "      <td>0.587112</td>\n",
       "      <td>0.731684</td>\n",
       "      <td>0.610922</td>\n",
       "      <td>0.970841</td>\n",
       "    </tr>\n",
       "    <tr>\n",
       "      <th>1</th>\n",
       "      <td>2</td>\n",
       "      <td>0.835608</td>\n",
       "      <td>0.397249</td>\n",
       "      <td>0.628241</td>\n",
       "      <td>0.562603</td>\n",
       "      <td>0.956846</td>\n",
       "      <td>0.889106</td>\n",
       "      <td>0.970476</td>\n",
       "      <td>0.864992</td>\n",
       "      <td>0.417002</td>\n",
       "      <td>0.552427</td>\n",
       "      <td>0.675684</td>\n",
       "      <td>0.454667</td>\n",
       "      <td>0.998173</td>\n",
       "    </tr>\n",
       "    <tr>\n",
       "      <th>2</th>\n",
       "      <td>3</td>\n",
       "      <td>0.658962</td>\n",
       "      <td>0.933304</td>\n",
       "      <td>0.463600</td>\n",
       "      <td>0.477252</td>\n",
       "      <td>0.631169</td>\n",
       "      <td>0.751230</td>\n",
       "      <td>0.975260</td>\n",
       "      <td>0.609823</td>\n",
       "      <td>0.793878</td>\n",
       "      <td>0.618961</td>\n",
       "      <td>0.806482</td>\n",
       "      <td>0.786749</td>\n",
       "      <td>0.985128</td>\n",
       "    </tr>\n",
       "    <tr>\n",
       "      <th>3</th>\n",
       "      <td>9</td>\n",
       "      <td>0.828614</td>\n",
       "      <td>0.695115</td>\n",
       "      <td>0.854859</td>\n",
       "      <td>0.828960</td>\n",
       "      <td>0.995054</td>\n",
       "      <td>0.952858</td>\n",
       "      <td>0.999825</td>\n",
       "      <td>0.909378</td>\n",
       "      <td>0.531445</td>\n",
       "      <td>0.488030</td>\n",
       "      <td>0.757723</td>\n",
       "      <td>0.559148</td>\n",
       "      <td>0.996822</td>\n",
       "    </tr>\n",
       "    <tr>\n",
       "      <th>4</th>\n",
       "      <td>11</td>\n",
       "      <td>0.853753</td>\n",
       "      <td>0.741110</td>\n",
       "      <td>1.039749</td>\n",
       "      <td>0.806881</td>\n",
       "      <td>0.971665</td>\n",
       "      <td>0.958400</td>\n",
       "      <td>0.999997</td>\n",
       "      <td>0.994435</td>\n",
       "      <td>0.974716</td>\n",
       "      <td>0.983036</td>\n",
       "      <td>0.997448</td>\n",
       "      <td>0.948272</td>\n",
       "      <td>0.994723</td>\n",
       "    </tr>\n",
       "  </tbody>\n",
       "</table>\n",
       "</div>"
      ],
      "text/plain": [
       "   id  word2vec_tree  elmo_tree  glove_tree  bert_tree  bert_net  elmo_net  \\\n",
       "0   0       0.699924   0.323115    0.729142   0.634452  0.925312  0.707569   \n",
       "1   2       0.835608   0.397249    0.628241   0.562603  0.956846  0.889106   \n",
       "2   3       0.658962   0.933304    0.463600   0.477252  0.631169  0.751230   \n",
       "3   9       0.828614   0.695115    0.854859   0.828960  0.995054  0.952858   \n",
       "4  11       0.853753   0.741110    1.039749   0.806881  0.971665  0.958400   \n",
       "\n",
       "    w2v_net  glove_net   tf_test    tf_uni     tf_bi    tf_tri  trans_bert  \n",
       "0  0.921463   0.743638  0.591726  0.587112  0.731684  0.610922    0.970841  \n",
       "1  0.970476   0.864992  0.417002  0.552427  0.675684  0.454667    0.998173  \n",
       "2  0.975260   0.609823  0.793878  0.618961  0.806482  0.786749    0.985128  \n",
       "3  0.999825   0.909378  0.531445  0.488030  0.757723  0.559148    0.996822  \n",
       "4  0.999997   0.994435  0.974716  0.983036  0.997448  0.948272    0.994723  "
      ]
     },
     "execution_count": 23,
     "metadata": {},
     "output_type": "execute_result"
    }
   ],
   "source": [
    "test.head()"
   ]
  },
  {
   "cell_type": "markdown",
   "metadata": {},
   "source": [
    "# Me quedo con resultados de red"
   ]
  },
  {
   "cell_type": "code",
   "execution_count": 24,
   "metadata": {},
   "outputs": [
    {
     "data": {
      "text/html": [
       "<div>\n",
       "<style scoped>\n",
       "    .dataframe tbody tr th:only-of-type {\n",
       "        vertical-align: middle;\n",
       "    }\n",
       "\n",
       "    .dataframe tbody tr th {\n",
       "        vertical-align: top;\n",
       "    }\n",
       "\n",
       "    .dataframe thead th {\n",
       "        text-align: right;\n",
       "    }\n",
       "</style>\n",
       "<table border=\"1\" class=\"dataframe\">\n",
       "  <thead>\n",
       "    <tr style=\"text-align: right;\">\n",
       "      <th></th>\n",
       "      <th>bert_net</th>\n",
       "      <th>elmo_net</th>\n",
       "      <th>w2v_net</th>\n",
       "      <th>glove_net</th>\n",
       "      <th>tf_train</th>\n",
       "      <th>tf_uni</th>\n",
       "      <th>tf_bi</th>\n",
       "      <th>tf_tri</th>\n",
       "      <th>trans_bert</th>\n",
       "    </tr>\n",
       "  </thead>\n",
       "  <tbody>\n",
       "    <tr>\n",
       "      <th>0</th>\n",
       "      <td>0.242175</td>\n",
       "      <td>0.450090</td>\n",
       "      <td>0.992572</td>\n",
       "      <td>0.651780</td>\n",
       "      <td>0.587438</td>\n",
       "      <td>0.580922</td>\n",
       "      <td>0.564173</td>\n",
       "      <td>0.607627</td>\n",
       "      <td>0.996106</td>\n",
       "    </tr>\n",
       "    <tr>\n",
       "      <th>1</th>\n",
       "      <td>0.237999</td>\n",
       "      <td>0.297658</td>\n",
       "      <td>0.999871</td>\n",
       "      <td>0.966338</td>\n",
       "      <td>0.967136</td>\n",
       "      <td>0.986876</td>\n",
       "      <td>0.982303</td>\n",
       "      <td>0.934687</td>\n",
       "      <td>0.993173</td>\n",
       "    </tr>\n",
       "    <tr>\n",
       "      <th>2</th>\n",
       "      <td>0.653434</td>\n",
       "      <td>0.809174</td>\n",
       "      <td>0.967203</td>\n",
       "      <td>0.971955</td>\n",
       "      <td>0.712390</td>\n",
       "      <td>0.788277</td>\n",
       "      <td>0.812960</td>\n",
       "      <td>0.705970</td>\n",
       "      <td>0.994093</td>\n",
       "    </tr>\n",
       "    <tr>\n",
       "      <th>3</th>\n",
       "      <td>0.901097</td>\n",
       "      <td>0.930959</td>\n",
       "      <td>0.999996</td>\n",
       "      <td>0.934217</td>\n",
       "      <td>0.976515</td>\n",
       "      <td>0.982410</td>\n",
       "      <td>0.983006</td>\n",
       "      <td>0.953801</td>\n",
       "      <td>0.998561</td>\n",
       "    </tr>\n",
       "    <tr>\n",
       "      <th>4</th>\n",
       "      <td>0.713383</td>\n",
       "      <td>0.484619</td>\n",
       "      <td>0.998377</td>\n",
       "      <td>0.607170</td>\n",
       "      <td>0.525771</td>\n",
       "      <td>0.531229</td>\n",
       "      <td>0.498404</td>\n",
       "      <td>0.558009</td>\n",
       "      <td>0.994882</td>\n",
       "    </tr>\n",
       "  </tbody>\n",
       "</table>\n",
       "</div>"
      ],
      "text/plain": [
       "   bert_net  elmo_net   w2v_net  glove_net  tf_train    tf_uni     tf_bi  \\\n",
       "0  0.242175  0.450090  0.992572   0.651780  0.587438  0.580922  0.564173   \n",
       "1  0.237999  0.297658  0.999871   0.966338  0.967136  0.986876  0.982303   \n",
       "2  0.653434  0.809174  0.967203   0.971955  0.712390  0.788277  0.812960   \n",
       "3  0.901097  0.930959  0.999996   0.934217  0.976515  0.982410  0.983006   \n",
       "4  0.713383  0.484619  0.998377   0.607170  0.525771  0.531229  0.498404   \n",
       "\n",
       "     tf_tri  trans_bert  \n",
       "0  0.607627    0.996106  \n",
       "1  0.934687    0.993173  \n",
       "2  0.705970    0.994093  \n",
       "3  0.953801    0.998561  \n",
       "4  0.558009    0.994882  "
      ]
     },
     "execution_count": 24,
     "metadata": {},
     "output_type": "execute_result"
    }
   ],
   "source": [
    "aux3 = train.iloc[:,6:15]\n",
    "div = aux3.shape[1]\n",
    "aux3.head()"
   ]
  },
  {
   "cell_type": "code",
   "execution_count": 25,
   "metadata": {},
   "outputs": [],
   "source": [
    "aux_train = train.iloc[:,6:15]"
   ]
  },
  {
   "cell_type": "markdown",
   "metadata": {},
   "source": [
    "### Realizo un Grid Search "
   ]
  },
  {
   "cell_type": "code",
   "execution_count": 26,
   "metadata": {},
   "outputs": [],
   "source": [
    "a = aux_train.columns\n",
    "import itertools \n",
    "best_solo = 0\n",
    "best_items = []\n",
    "for j in range(2, len(a)+1):\n",
    "    m = list(itertools.combinations(a, j))\n",
    "    len(m)\n",
    "    contador = 0 \n",
    "    for i in range (0, len(m)):\n",
    "        lista = list(m[i])\n",
    "        \n",
    "        grid = aux_train.filter(items= lista)\n",
    "        div = grid.shape[1]\n",
    "        grid['suma'] = grid.sum(axis=1)\n",
    "        train['prediction'] = (grid['suma']/div)\n",
    "        train['prediction'] = train['prediction'].round().astype(int)  \n",
    "        \n",
    "        if (accuracy_score(train['target'],train['prediction'])> best_solo): \n",
    "            best_solo = accuracy_score(train['prediction'],train['target'])\n",
    "            best_items = lista "
   ]
  },
  {
   "cell_type": "code",
   "execution_count": 27,
   "metadata": {},
   "outputs": [
    {
     "name": "stdout",
     "output_type": "stream",
     "text": [
      "Mejor: 0.9259161959805595 obtenido con: ['w2v_net', 'trans_bert']\n"
     ]
    }
   ],
   "source": [
    "print('Mejor: ' + str(best_solo) +  ' obtenido con: ' + str(best_items))"
   ]
  },
  {
   "cell_type": "markdown",
   "metadata": {},
   "source": [
    "### Predigo con los mejores modelos"
   ]
  },
  {
   "cell_type": "code",
   "execution_count": 28,
   "metadata": {},
   "outputs": [],
   "source": [
    "aux = test.iloc[:,5:14]"
   ]
  },
  {
   "cell_type": "code",
   "execution_count": 29,
   "metadata": {},
   "outputs": [],
   "source": [
    "aux = aux.filter(items= best_items)\n",
    "div = aux.shape[1]\n",
    "aux['suma'] = aux.sum(axis=1)\n",
    "test['prediction'] = (aux['suma']/div)\n",
    "test['prediction'] = test['prediction'].round().astype(int) "
   ]
  },
  {
   "cell_type": "code",
   "execution_count": 30,
   "metadata": {},
   "outputs": [],
   "source": [
    "aux = test.filter(items= ['id', 'prediction'])\n",
    "aux.rename(columns = {'prediction': 'target'}, inplace=True)"
   ]
  },
  {
   "cell_type": "code",
   "execution_count": 32,
   "metadata": {},
   "outputs": [],
   "source": [
    "aux.set_index('id',inplace = True)"
   ]
  },
  {
   "cell_type": "code",
   "execution_count": 33,
   "metadata": {},
   "outputs": [],
   "source": [
    "aux.to_csv(\"submit_11_grid.csv\")"
   ]
  }
 ],
 "metadata": {
  "kernelspec": {
   "display_name": "Python 3",
   "language": "python",
   "name": "python3"
  },
  "language_info": {
   "codemirror_mode": {
    "name": "ipython",
    "version": 3
   },
   "file_extension": ".py",
   "mimetype": "text/x-python",
   "name": "python",
   "nbconvert_exporter": "python",
   "pygments_lexer": "ipython3",
   "version": "3.8.3"
  }
 },
 "nbformat": 4,
 "nbformat_minor": 4
}
