{
 "cells": [
  {
   "cell_type": "markdown",
   "metadata": {},
   "source": [
    "# Se importan las bibliotecas necesarias"
   ]
  },
  {
   "cell_type": "code",
   "execution_count": null,
   "metadata": {},
   "outputs": [],
   "source": [
    "import pandas as pd\n",
    "import re\n",
    "import numpy as np\n",
    "import xgboost as xgb\n",
    "import matplotlib.pyplot as plt\n",
    "from sklearn.model_selection import train_test_split,GridSearchCV\n",
    "from sklearn.ensemble import RandomForestRegressor\n",
    "from sklearn.metrics import accuracy_score,recall_score,precision_score,f1_score\n",
    "from sklearn.metrics import mean_squared_error\n",
    "import lightgbm as lgb\n",
    "from catboost import CatBoostRegressor\n",
    "from sklearn.linear_model import LogisticRegression\n",
    "from gensim.models import KeyedVectors\n",
    "from gensim.parsing.preprocessing import STOPWORDS\n",
    "%matplotlib inline"
   ]
  },
  {
   "cell_type": "markdown",
   "metadata": {},
   "source": [
    " "
   ]
  },
  {
   "cell_type": "markdown",
   "metadata": {},
   "source": [
    "# Se lee el .csv"
   ]
  },
  {
   "cell_type": "code",
   "execution_count": null,
   "metadata": {},
   "outputs": [],
   "source": [
    "test = pd.read_csv('csv/test.csv')\n",
    "test.info()"
   ]
  },
  {
   "cell_type": "code",
   "execution_count": null,
   "metadata": {},
   "outputs": [],
   "source": [
    "test.head()"
   ]
  },
  {
   "cell_type": "markdown",
   "metadata": {},
   "source": [
    "# Se cargan los embeddings pre-entrenados"
   ]
  },
  {
   "cell_type": "code",
   "execution_count": 4,
   "metadata": {},
   "outputs": [],
   "source": [
    "#descargar de aca https://s3.amazonaws.com/dl4j-distribution/GoogleNews-vectors-negative300.bin.gz, pesa 1.5gb\n",
    "EMBEDDING_FILE = '../GoogleNews-vectors-negative300.bin.gz'\n",
    "word2vec = KeyedVectors.load_word2vec_format(EMBEDDING_FILE, binary=True)"
   ]
  },
  {
   "cell_type": "markdown",
   "metadata": {},
   "source": [
    "# Elaboración del modelo"
   ]
  },
  {
   "cell_type": "markdown",
   "metadata": {},
   "source": [
    "Para este modelo se aplicará NLP para el procesamiento de los tweets y se utilizarán distintos árboles de decisión para realizar las predicciones:"
   ]
  },
  {
   "cell_type": "markdown",
   "metadata": {},
   "source": [
    "### Preparación del set de datos"
   ]
  },
  {
   "cell_type": "code",
   "execution_count": 5,
   "metadata": {},
   "outputs": [],
   "source": [
    "#Palabras con mayor y menor porcentaje de veracidad\n",
    "tweets = train['text'].str.split()\n",
    "clean_tweets = []\n",
    "\n",
    "for tweet in tweets:\n",
    "    clean_tweet = []\n",
    "    for word in tweet:\n",
    "        clean_word = re.sub('[^a-zA-Z]','', word)\n",
    "        if(clean_word != '')&(clean_word not in STOPWORDS):\n",
    "            clean_tweet.append(clean_word.lower())\n",
    "    clean_tweets.append(clean_tweet)"
   ]
  },
  {
   "cell_type": "code",
   "execution_count": 6,
   "metadata": {},
   "outputs": [
    {
     "data": {
      "text/html": [
       "<div>\n",
       "<style scoped>\n",
       "    .dataframe tbody tr th:only-of-type {\n",
       "        vertical-align: middle;\n",
       "    }\n",
       "\n",
       "    .dataframe tbody tr th {\n",
       "        vertical-align: top;\n",
       "    }\n",
       "\n",
       "    .dataframe thead th {\n",
       "        text-align: right;\n",
       "    }\n",
       "</style>\n",
       "<table border=\"1\" class=\"dataframe\">\n",
       "  <thead>\n",
       "    <tr style=\"text-align: right;\">\n",
       "      <th></th>\n",
       "      <th>target</th>\n",
       "      <th>clean_text</th>\n",
       "    </tr>\n",
       "    <tr>\n",
       "      <th>id</th>\n",
       "      <th></th>\n",
       "      <th></th>\n",
       "    </tr>\n",
       "  </thead>\n",
       "  <tbody>\n",
       "    <tr>\n",
       "      <th>1</th>\n",
       "      <td>1</td>\n",
       "      <td>[our, deeds, reason, earthquake, may, allah, f...</td>\n",
       "    </tr>\n",
       "    <tr>\n",
       "      <th>4</th>\n",
       "      <td>1</td>\n",
       "      <td>[forest, near, la, ronge, sask, canada]</td>\n",
       "    </tr>\n",
       "    <tr>\n",
       "      <th>5</th>\n",
       "      <td>1</td>\n",
       "      <td>[all, residents, asked, shelter, place, notifi...</td>\n",
       "    </tr>\n",
       "    <tr>\n",
       "      <th>6</th>\n",
       "      <td>1</td>\n",
       "      <td>[people, receive, wildfires, evacuation, order...</td>\n",
       "    </tr>\n",
       "    <tr>\n",
       "      <th>7</th>\n",
       "      <td>1</td>\n",
       "      <td>[just, got, sent, photo, ruby, alaska, smoke, ...</td>\n",
       "    </tr>\n",
       "  </tbody>\n",
       "</table>\n",
       "</div>"
      ],
      "text/plain": [
       "    target                                         clean_text\n",
       "id                                                           \n",
       "1        1  [our, deeds, reason, earthquake, may, allah, f...\n",
       "4        1            [forest, near, la, ronge, sask, canada]\n",
       "5        1  [all, residents, asked, shelter, place, notifi...\n",
       "6        1  [people, receive, wildfires, evacuation, order...\n",
       "7        1  [just, got, sent, photo, ruby, alaska, smoke, ..."
      ]
     },
     "execution_count": 6,
     "metadata": {},
     "output_type": "execute_result"
    }
   ],
   "source": [
    "train['clean_text'] = clean_tweets\n",
    "train.set_index('id', inplace=True)\n",
    "train.drop(columns=['keyword','location','text'], inplace=True)\n",
    "train.head()"
   ]
  },
  {
   "cell_type": "code",
   "execution_count": 30,
   "metadata": {},
   "outputs": [],
   "source": [
    "embeddings = np.zeros((len(train.index),300),dtype='float32') # 300 es la longitud del embedding\n",
    "normalized_embeddings = np.zeros((len(train.index),300),dtype='float32')\n",
    "\n",
    "contador = 0\n",
    "for tweet in clean_tweets:\n",
    "    cant_palabras = 0\n",
    "    embedded_tweet = np.zeros((300,), dtype='float32')\n",
    "    \n",
    "    for word in tweet:\n",
    "        \n",
    "        if word in word2vec.vocab:\n",
    "            embedded_tweet = np.add(word2vec[word],embedded_tweet)\n",
    "            cant_palabras += 1     \n",
    "        \n",
    "    embeddings[contador] = embedded_tweet\n",
    "    \n",
    "    if cant_palabras!=0:\n",
    "        normalized_embeddings[contador] = np.divide(embedded_tweet,cant_palabras)\n",
    "    else:\n",
    "        normalized_embeddings[contador] = embedded_tweet\n",
    "        \n",
    "    contador += 1    "
   ]
  },
  {
   "cell_type": "code",
   "execution_count": 34,
   "metadata": {},
   "outputs": [],
   "source": [
    "train['embeddings'] = embeddings.tolist()\n",
    "train['normalized_embeddings'] = normalized_embeddings.tolist()"
   ]
  },
  {
   "cell_type": "code",
   "execution_count": 35,
   "metadata": {},
   "outputs": [
    {
     "data": {
      "text/html": [
       "<div>\n",
       "<style scoped>\n",
       "    .dataframe tbody tr th:only-of-type {\n",
       "        vertical-align: middle;\n",
       "    }\n",
       "\n",
       "    .dataframe tbody tr th {\n",
       "        vertical-align: top;\n",
       "    }\n",
       "\n",
       "    .dataframe thead th {\n",
       "        text-align: right;\n",
       "    }\n",
       "</style>\n",
       "<table border=\"1\" class=\"dataframe\">\n",
       "  <thead>\n",
       "    <tr style=\"text-align: right;\">\n",
       "      <th></th>\n",
       "      <th>target</th>\n",
       "      <th>clean_text</th>\n",
       "      <th>embeddings</th>\n",
       "      <th>normalized_embeddings</th>\n",
       "    </tr>\n",
       "    <tr>\n",
       "      <th>id</th>\n",
       "      <th></th>\n",
       "      <th></th>\n",
       "      <th></th>\n",
       "      <th></th>\n",
       "    </tr>\n",
       "  </thead>\n",
       "  <tbody>\n",
       "    <tr>\n",
       "      <th>1</th>\n",
       "      <td>1</td>\n",
       "      <td>[our, deeds, reason, earthquake, may, allah, f...</td>\n",
       "      <td>[0.748291015625, 0.62420654296875, 1.207519531...</td>\n",
       "      <td>[0.1068987175822258, 0.08917236328125, 0.17250...</td>\n",
       "    </tr>\n",
       "    <tr>\n",
       "      <th>4</th>\n",
       "      <td>1</td>\n",
       "      <td>[forest, near, la, ronge, sask, canada]</td>\n",
       "      <td>[0.07080078125, -0.23956298828125, -0.13565063...</td>\n",
       "      <td>[0.0177001953125, -0.0598907470703125, -0.0339...</td>\n",
       "    </tr>\n",
       "    <tr>\n",
       "      <th>5</th>\n",
       "      <td>1</td>\n",
       "      <td>[all, residents, asked, shelter, place, notifi...</td>\n",
       "      <td>[0.127685546875, 0.06494140625, 1.075439453125...</td>\n",
       "      <td>[0.009821965359151363, 0.0049954927526414394, ...</td>\n",
       "    </tr>\n",
       "    <tr>\n",
       "      <th>6</th>\n",
       "      <td>1</td>\n",
       "      <td>[people, receive, wildfires, evacuation, order...</td>\n",
       "      <td>[1.033935546875, -0.5733642578125, 0.087036132...</td>\n",
       "      <td>[0.1723225861787796, -0.0955607071518898, 0.01...</td>\n",
       "    </tr>\n",
       "    <tr>\n",
       "      <th>7</th>\n",
       "      <td>1</td>\n",
       "      <td>[just, got, sent, photo, ruby, alaska, smoke, ...</td>\n",
       "      <td>[0.7109375, 0.258026123046875, -0.57470703125,...</td>\n",
       "      <td>[0.07109375298023224, 0.0258026123046875, -0.0...</td>\n",
       "    </tr>\n",
       "  </tbody>\n",
       "</table>\n",
       "</div>"
      ],
      "text/plain": [
       "    target                                         clean_text  \\\n",
       "id                                                              \n",
       "1        1  [our, deeds, reason, earthquake, may, allah, f...   \n",
       "4        1            [forest, near, la, ronge, sask, canada]   \n",
       "5        1  [all, residents, asked, shelter, place, notifi...   \n",
       "6        1  [people, receive, wildfires, evacuation, order...   \n",
       "7        1  [just, got, sent, photo, ruby, alaska, smoke, ...   \n",
       "\n",
       "                                           embeddings  \\\n",
       "id                                                      \n",
       "1   [0.748291015625, 0.62420654296875, 1.207519531...   \n",
       "4   [0.07080078125, -0.23956298828125, -0.13565063...   \n",
       "5   [0.127685546875, 0.06494140625, 1.075439453125...   \n",
       "6   [1.033935546875, -0.5733642578125, 0.087036132...   \n",
       "7   [0.7109375, 0.258026123046875, -0.57470703125,...   \n",
       "\n",
       "                                normalized_embeddings  \n",
       "id                                                     \n",
       "1   [0.1068987175822258, 0.08917236328125, 0.17250...  \n",
       "4   [0.0177001953125, -0.0598907470703125, -0.0339...  \n",
       "5   [0.009821965359151363, 0.0049954927526414394, ...  \n",
       "6   [0.1723225861787796, -0.0955607071518898, 0.01...  \n",
       "7   [0.07109375298023224, 0.0258026123046875, -0.0...  "
      ]
     },
     "execution_count": 35,
     "metadata": {},
     "output_type": "execute_result"
    }
   ],
   "source": [
    "train.head()"
   ]
  },
  {
   "cell_type": "markdown",
   "metadata": {},
   "source": [
    "### Entrenamiento del set de datos considerando sólo 'embeddings'"
   ]
  },
  {
   "cell_type": "code",
   "execution_count": 57,
   "metadata": {},
   "outputs": [],
   "source": [
    "X, y = normalized_embeddings, train.iloc[:,0].to_frame()\n",
    "X_train, X_test, y_train, y_test = train_test_split(X, y, test_size=0.15, random_state=482)"
   ]
  },
  {
   "cell_type": "code",
   "execution_count": 62,
   "metadata": {},
   "outputs": [
    {
     "name": "stdout",
     "output_type": "stream",
     "text": [
      "Accuracy Score : 0.8222416812609457\n",
      "Precision Score : 0.837708830548926\n",
      "Recall Score : 0.7222222222222222\n",
      "F1 Score : 0.7756906077348067\n"
     ]
    }
   ],
   "source": [
    "xg_reg = xgb.XGBRegressor(objective ='binary:logistic', \n",
    "                colsample_bytree = 0.3, learning_rate = 0.1,\n",
    "                max_depth = 20, alpha = 10, n_estimators = 80)\n",
    "\n",
    "xg_reg.fit(X_train,y_train)\n",
    "preds = xg_reg.predict(X_test)\n",
    "print('Accuracy Score : ' + str(accuracy_score(y_test,preds.round())))\n",
    "print('Precision Score : ' + str(precision_score(y_test,preds.round())))\n",
    "print('Recall Score : ' + str(recall_score(y_test,preds.round())))\n",
    "print('F1 Score : ' + str(f1_score(y_test,preds.round())))"
   ]
  }
 ],
 "metadata": {
  "kernelspec": {
   "display_name": "Python 3",
   "language": "python",
   "name": "python3"
  },
  "language_info": {
   "codemirror_mode": {
    "name": "ipython",
    "version": 3
   },
   "file_extension": ".py",
   "mimetype": "text/x-python",
   "name": "python",
   "nbconvert_exporter": "python",
   "pygments_lexer": "ipython3",
   "version": "3.7.6"
  }
 },
 "nbformat": 4,
 "nbformat_minor": 4
}
