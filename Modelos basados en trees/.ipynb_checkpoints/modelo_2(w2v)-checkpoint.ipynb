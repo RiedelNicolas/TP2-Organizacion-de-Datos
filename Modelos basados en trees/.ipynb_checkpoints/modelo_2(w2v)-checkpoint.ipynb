{
 "cells": [
  {
   "cell_type": "markdown",
   "metadata": {},
   "source": [
    "# Se importan las bibliotecas necesarias"
   ]
  },
  {
   "cell_type": "code",
   "execution_count": 1,
   "metadata": {},
   "outputs": [],
   "source": [
    "import pandas as pd\n",
    "import re\n",
    "import numpy as np\n",
    "import xgboost as xgb\n",
    "import matplotlib.pyplot as plt\n",
    "from sklearn.model_selection import train_test_split,GridSearchCV\n",
    "from sklearn.ensemble import RandomForestRegressor, GradientBoostingRegressor, VotingRegressor\n",
    "from sklearn.metrics import accuracy_score,recall_score,precision_score,f1_score\n",
    "from sklearn.metrics import mean_squared_error\n",
    "import lightgbm as lgb\n",
    "from catboost import CatBoostRegressor\n",
    "from gensim.models import KeyedVectors\n",
    "from gensim.parsing.preprocessing import STOPWORDS\n",
    "%matplotlib inline"
   ]
  },
  {
   "cell_type": "markdown",
   "metadata": {},
   "source": [
    " "
   ]
  },
  {
   "cell_type": "markdown",
   "metadata": {},
   "source": [
    "# Se lee el .csv"
   ]
  },
  {
   "cell_type": "code",
   "execution_count": 2,
   "metadata": {},
   "outputs": [
    {
     "name": "stdout",
     "output_type": "stream",
     "text": [
      "<class 'pandas.core.frame.DataFrame'>\n",
      "RangeIndex: 7613 entries, 0 to 7612\n",
      "Data columns (total 5 columns):\n",
      " #   Column    Non-Null Count  Dtype \n",
      "---  ------    --------------  ----- \n",
      " 0   id        7613 non-null   int64 \n",
      " 1   keyword   7552 non-null   object\n",
      " 2   location  5080 non-null   object\n",
      " 3   text      7613 non-null   object\n",
      " 4   target    7613 non-null   int64 \n",
      "dtypes: int64(2), object(3)\n",
      "memory usage: 297.5+ KB\n"
     ]
    }
   ],
   "source": [
    "train = pd.read_csv('../csv/train.csv')\n",
    "train.info()"
   ]
  },
  {
   "cell_type": "code",
   "execution_count": 3,
   "metadata": {},
   "outputs": [
    {
     "data": {
      "text/html": [
       "<div>\n",
       "<style scoped>\n",
       "    .dataframe tbody tr th:only-of-type {\n",
       "        vertical-align: middle;\n",
       "    }\n",
       "\n",
       "    .dataframe tbody tr th {\n",
       "        vertical-align: top;\n",
       "    }\n",
       "\n",
       "    .dataframe thead th {\n",
       "        text-align: right;\n",
       "    }\n",
       "</style>\n",
       "<table border=\"1\" class=\"dataframe\">\n",
       "  <thead>\n",
       "    <tr style=\"text-align: right;\">\n",
       "      <th></th>\n",
       "      <th>id</th>\n",
       "      <th>keyword</th>\n",
       "      <th>location</th>\n",
       "      <th>text</th>\n",
       "      <th>target</th>\n",
       "    </tr>\n",
       "  </thead>\n",
       "  <tbody>\n",
       "    <tr>\n",
       "      <th>0</th>\n",
       "      <td>1</td>\n",
       "      <td>NaN</td>\n",
       "      <td>NaN</td>\n",
       "      <td>Our Deeds are the Reason of this #earthquake M...</td>\n",
       "      <td>1</td>\n",
       "    </tr>\n",
       "    <tr>\n",
       "      <th>1</th>\n",
       "      <td>4</td>\n",
       "      <td>NaN</td>\n",
       "      <td>NaN</td>\n",
       "      <td>Forest fire near La Ronge Sask. Canada</td>\n",
       "      <td>1</td>\n",
       "    </tr>\n",
       "    <tr>\n",
       "      <th>2</th>\n",
       "      <td>5</td>\n",
       "      <td>NaN</td>\n",
       "      <td>NaN</td>\n",
       "      <td>All residents asked to 'shelter in place' are ...</td>\n",
       "      <td>1</td>\n",
       "    </tr>\n",
       "    <tr>\n",
       "      <th>3</th>\n",
       "      <td>6</td>\n",
       "      <td>NaN</td>\n",
       "      <td>NaN</td>\n",
       "      <td>13,000 people receive #wildfires evacuation or...</td>\n",
       "      <td>1</td>\n",
       "    </tr>\n",
       "    <tr>\n",
       "      <th>4</th>\n",
       "      <td>7</td>\n",
       "      <td>NaN</td>\n",
       "      <td>NaN</td>\n",
       "      <td>Just got sent this photo from Ruby #Alaska as ...</td>\n",
       "      <td>1</td>\n",
       "    </tr>\n",
       "  </tbody>\n",
       "</table>\n",
       "</div>"
      ],
      "text/plain": [
       "   id keyword location                                               text  \\\n",
       "0   1     NaN      NaN  Our Deeds are the Reason of this #earthquake M...   \n",
       "1   4     NaN      NaN             Forest fire near La Ronge Sask. Canada   \n",
       "2   5     NaN      NaN  All residents asked to 'shelter in place' are ...   \n",
       "3   6     NaN      NaN  13,000 people receive #wildfires evacuation or...   \n",
       "4   7     NaN      NaN  Just got sent this photo from Ruby #Alaska as ...   \n",
       "\n",
       "   target  \n",
       "0       1  \n",
       "1       1  \n",
       "2       1  \n",
       "3       1  \n",
       "4       1  "
      ]
     },
     "execution_count": 3,
     "metadata": {},
     "output_type": "execute_result"
    }
   ],
   "source": [
    "train.head()"
   ]
  },
  {
   "cell_type": "code",
   "execution_count": 4,
   "metadata": {},
   "outputs": [
    {
     "name": "stdout",
     "output_type": "stream",
     "text": [
      "<class 'pandas.core.frame.DataFrame'>\n",
      "RangeIndex: 3263 entries, 0 to 3262\n",
      "Data columns (total 4 columns):\n",
      " #   Column    Non-Null Count  Dtype \n",
      "---  ------    --------------  ----- \n",
      " 0   id        3263 non-null   int64 \n",
      " 1   keyword   3237 non-null   object\n",
      " 2   location  2158 non-null   object\n",
      " 3   text      3263 non-null   object\n",
      "dtypes: int64(1), object(3)\n",
      "memory usage: 102.1+ KB\n"
     ]
    }
   ],
   "source": [
    "test = pd.read_csv('../csv/test.csv')\n",
    "test.info()"
   ]
  },
  {
   "cell_type": "markdown",
   "metadata": {},
   "source": [
    "# Se cargan los embeddings pre-entrenados"
   ]
  },
  {
   "cell_type": "code",
   "execution_count": 5,
   "metadata": {},
   "outputs": [],
   "source": [
    "# #descargar de aca https://s3.amazonaws.com/dl4j-distribution/GoogleNews-vectors-negative300.bin.gz, pesa 1.5gb\n",
    "# EMBEDDING_FILE = '../GoogleNews-vectors-negative300.bin.gz'\n",
    "# word2vec = KeyedVectors.load_word2vec_format(EMBEDDING_FILE, binary=True)"
   ]
  },
  {
   "cell_type": "markdown",
   "metadata": {},
   "source": [
    "# Elaboración del modelo"
   ]
  },
  {
   "cell_type": "markdown",
   "metadata": {},
   "source": [
    "Para este modelo se aplicará NLP para el procesamiento de los tweets y se utilizarán distintos árboles de decisión para realizar las predicciones:"
   ]
  },
  {
   "cell_type": "markdown",
   "metadata": {},
   "source": [
    "### Preparación del set de datos"
   ]
  },
  {
   "cell_type": "code",
   "execution_count": 6,
   "metadata": {},
   "outputs": [],
   "source": [
    "long_embedding = 300"
   ]
  },
  {
   "cell_type": "markdown",
   "metadata": {},
   "source": [
    "#### Generación de embeddings"
   ]
  },
  {
   "cell_type": "code",
   "execution_count": 7,
   "metadata": {},
   "outputs": [],
   "source": [
    "#Devuelve una lista de tweets dejando solo caracteres alfanumericos\n",
    "def clean_text(df):\n",
    "    words = df['text'].str.split()\n",
    "    clean_words = []\n",
    "\n",
    "    for sentence in words:\n",
    "        clean_sentence = []\n",
    "        for word in sentence:\n",
    "            clean_word = re.sub('[^a-zA-Z]','', word)\n",
    "            if(clean_word != '')&(clean_word not in STOPWORDS):\n",
    "                clean_sentence.append(clean_word.lower())\n",
    "        clean_words.append(clean_sentence)\n",
    "    \n",
    "    return clean_words3"
   ]
  },
  {
   "cell_type": "code",
   "execution_count": 8,
   "metadata": {},
   "outputs": [],
   "source": [
    "# def tweets_embeddings(df):\n",
    "\n",
    "#     embeddings = np.zeros((len(df.index),long_embedding), dtype='float32') \n",
    "#     normalized_embeddings = np.zeros((len(df.index),long_embedding),dtype='float32')\n",
    "\n",
    "#     contador = 0\n",
    "#     for tweet in df['clean_text']:\n",
    "#         cant_palabras = 0\n",
    "#         embedded_tweet = np.zeros((long_embedding,), dtype='float32')\n",
    "\n",
    "#         for word in tweet:\n",
    "#             if word in word2vec.vocab:\n",
    "#                 embedded_tweet = np.add(word2vec[word],embedded_tweet)\n",
    "#                 cant_palabras += 1     \n",
    "\n",
    "#         embeddings[contador] = embedded_tweet\n",
    "\n",
    "#         if cant_palabras!=0:\n",
    "#             normalized_embeddings[contador] = np.divide(embedded_tweet,cant_palabras)\n",
    "#         else:\n",
    "#             normalized_embeddings[contador] = embedded_tweet\n",
    "\n",
    "#         contador += 1    \n",
    "        \n",
    "#     return embeddings, normalized_embeddings\n"
   ]
  },
  {
   "cell_type": "code",
   "execution_count": 9,
   "metadata": {},
   "outputs": [],
   "source": [
    "# # Devuelve un dataframe con todos los features considerados para el modelo\n",
    "# def generate_embeddings(df):\n",
    "    \n",
    "#     df['clean_text'] = clean_text(df)\n",
    "#     df.drop(columns=['keyword','location','text'], inplace=True)\n",
    "#     df.set_index('id', inplace=True)\n",
    "    \n",
    "#     return tweets_embeddings(df)\n",
    "    "
   ]
  },
  {
   "cell_type": "code",
   "execution_count": 10,
   "metadata": {},
   "outputs": [],
   "source": [
    "# embeddings_train, normalized_embeddings_train = generate_embeddings(train)"
   ]
  },
  {
   "cell_type": "code",
   "execution_count": 11,
   "metadata": {},
   "outputs": [],
   "source": [
    "# train_embedding_file = open(\"../train_embedding_file_w2v.txt\", \"w\")\n",
    "\n",
    "# for i in embeddings_train:\n",
    "#     np.savetxt(train_embedding_file, i)\n",
    "\n",
    "# train_embedding_file.close()"
   ]
  },
  {
   "cell_type": "code",
   "execution_count": 12,
   "metadata": {},
   "outputs": [],
   "source": [
    "# train_embedding_file = open(\"../train_embedding_file_w2v(norm).txt\", \"w\")\n",
    "\n",
    "# for i in normalized_embeddings_train:\n",
    "#     np.savetxt(train_embedding_file, i)\n",
    "\n",
    "# train_embedding_file.close()"
   ]
  },
  {
   "cell_type": "code",
   "execution_count": 13,
   "metadata": {},
   "outputs": [],
   "source": [
    "# embeddings_test, normalized_embeddings_test = generate_embeddings(test)"
   ]
  },
  {
   "cell_type": "code",
   "execution_count": 14,
   "metadata": {},
   "outputs": [],
   "source": [
    "# test_embedding_file = open(\"../test_embedding_file_w2v.txt\", \"w\")\n",
    "\n",
    "# for i in embeddings_test:\n",
    "#     np.savetxt(test_embedding_file, i)\n",
    "\n",
    "# test_embedding_file.close()"
   ]
  },
  {
   "cell_type": "code",
   "execution_count": 15,
   "metadata": {},
   "outputs": [],
   "source": [
    "# test_embedding_file = open(\"../test_embedding_file_w2v(norm).txt\", \"w\")\n",
    "\n",
    "# for i in normalized_embeddings_test:\n",
    "#     np.savetxt(test_embedding_file, i)\n",
    "\n",
    "# test_embedding_file.close()"
   ]
  },
  {
   "cell_type": "markdown",
   "metadata": {},
   "source": [
    "#### Lectura de embeddings"
   ]
  },
  {
   "cell_type": "code",
   "execution_count": 16,
   "metadata": {},
   "outputs": [],
   "source": [
    "# embeddings_train = np.loadtxt(\"../train_embedding_file_w2v.txt\").reshape(len(train.index),300)\n",
    "# embeddings_train.shape"
   ]
  },
  {
   "cell_type": "code",
   "execution_count": 17,
   "metadata": {},
   "outputs": [
    {
     "data": {
      "text/plain": [
       "(7613, 300)"
      ]
     },
     "execution_count": 17,
     "metadata": {},
     "output_type": "execute_result"
    }
   ],
   "source": [
    "normalized_embeddings_train = np.loadtxt(\"../train_embedding_file_w2v(norm).txt\").reshape(len(train.index),300)\n",
    "normalized_embeddings_train.shape"
   ]
  },
  {
   "cell_type": "code",
   "execution_count": 18,
   "metadata": {},
   "outputs": [],
   "source": [
    "# embeddings_test = np.loadtxt(\"../test_embedding_file_w2v.txt\").reshape(len(test.index),300)\n",
    "# embeddings_test.shape"
   ]
  },
  {
   "cell_type": "code",
   "execution_count": 19,
   "metadata": {},
   "outputs": [
    {
     "data": {
      "text/plain": [
       "(3263, 300)"
      ]
     },
     "execution_count": 19,
     "metadata": {},
     "output_type": "execute_result"
    }
   ],
   "source": [
    "normalized_embeddings_test = np.loadtxt(\"../test_embedding_file_w2v(norm).txt\").reshape(len(test.index),300)\n",
    "normalized_embeddings_test.shape"
   ]
  },
  {
   "cell_type": "markdown",
   "metadata": {},
   "source": [
    "### Entrenamiento del set de datos considerando sólo 'embeddings'"
   ]
  },
  {
   "cell_type": "code",
   "execution_count": 56,
   "metadata": {},
   "outputs": [],
   "source": [
    "X, y = normalized_embeddings_train, train['target']\n",
    "X_train, X_test, y_train, y_test = train_test_split(X, y, test_size=0.3, random_state=13)"
   ]
  },
  {
   "cell_type": "code",
   "execution_count": 57,
   "metadata": {},
   "outputs": [
    {
     "name": "stdout",
     "output_type": "stream",
     "text": [
      "Accuracy Score : 0.7863397548161121\n",
      "Precision Score : 0.8007159904534606\n",
      "Recall Score : 0.6764112903225806\n",
      "F1 Score : 0.7333333333333333\n"
     ]
    }
   ],
   "source": [
    "xg_reg = xgb.XGBRegressor(objective ='binary:logistic', \n",
    "                colsample_bytree = 0.3, learning_rate = 0.1,\n",
    "                max_depth = 10, alpha = 15, n_estimators = 30)\n",
    "\n",
    "xg_reg.fit(X_train,y_train)\n",
    "preds = xg_reg.predict(X_test)\n",
    "print('Accuracy Score : ' + str(accuracy_score(y_test,preds.round())))\n",
    "print('Precision Score : ' + str(precision_score(y_test,preds.round())))\n",
    "print('Recall Score : ' + str(recall_score(y_test,preds.round())))\n",
    "print('F1 Score : ' + str(f1_score(y_test,preds.round())))"
   ]
  },
  {
   "cell_type": "code",
   "execution_count": 58,
   "metadata": {},
   "outputs": [
    {
     "name": "stdout",
     "output_type": "stream",
     "text": [
      "Accuracy Score : 0.7802101576182137\n",
      "Precision Score : 0.7951807228915663\n",
      "Recall Score : 0.6653225806451613\n",
      "F1 Score : 0.7244785949506038\n"
     ]
    }
   ],
   "source": [
    "rf_model = RandomForestRegressor(random_state=13, n_estimators=30, max_depth=10)\n",
    "rf_model.fit(X_train, y_train)\n",
    "preds = rf_model.predict(X_test)\n",
    "\n",
    "print('Accuracy Score : ' + str(accuracy_score(y_test,preds.round())))\n",
    "print('Precision Score : ' + str(precision_score(y_test,preds.round())))\n",
    "print('Recall Score : ' + str(recall_score(y_test,preds.round())))\n",
    "print('F1 Score : ' + str(f1_score(y_test,preds.round())))"
   ]
  },
  {
   "cell_type": "code",
   "execution_count": 59,
   "metadata": {},
   "outputs": [
    {
     "name": "stdout",
     "output_type": "stream",
     "text": [
      "Accuracy Score : 0.7841506129597198\n",
      "Precision Score : 0.8031591737545565\n",
      "Recall Score : 0.6663306451612904\n",
      "F1 Score : 0.7283746556473829\n"
     ]
    }
   ],
   "source": [
    "lgb_class = lgb.LGBMRegressor(learning_rate = 0.1,\n",
    "                max_depth = 10, alpha = 10, n_estimators = 30)\n",
    "lgb_class.fit(X_train, y_train)\n",
    "preds = lgb_class.predict(X_test)\n",
    "\n",
    "print('Accuracy Score : ' + str(accuracy_score(y_test,preds.round())))\n",
    "print('Precision Score : ' + str(precision_score(y_test,preds.round())))\n",
    "print('Recall Score : ' + str(recall_score(y_test,preds.round())))\n",
    "print('F1 Score : ' + str(f1_score(y_test,preds.round())))"
   ]
  },
  {
   "cell_type": "code",
   "execution_count": 60,
   "metadata": {},
   "outputs": [
    {
     "name": "stdout",
     "output_type": "stream",
     "text": [
      "Learning rate set to 0.5\n",
      "0:\tlearn: 0.4317063\ttotal: 679ms\tremaining: 19.7s\n",
      "1:\tlearn: 0.3910841\ttotal: 1.38s\tremaining: 19.3s\n",
      "2:\tlearn: 0.3602000\ttotal: 2.08s\tremaining: 18.7s\n",
      "3:\tlearn: 0.3377070\ttotal: 2.77s\tremaining: 18s\n",
      "4:\tlearn: 0.3200682\ttotal: 3.45s\tremaining: 17.3s\n",
      "5:\tlearn: 0.3046475\ttotal: 4.18s\tremaining: 16.7s\n",
      "6:\tlearn: 0.2915204\ttotal: 4.93s\tremaining: 16.2s\n",
      "7:\tlearn: 0.2847071\ttotal: 5.61s\tremaining: 15.4s\n",
      "8:\tlearn: 0.2772680\ttotal: 6.32s\tremaining: 14.8s\n",
      "9:\tlearn: 0.2670316\ttotal: 7.03s\tremaining: 14.1s\n",
      "10:\tlearn: 0.2573363\ttotal: 7.79s\tremaining: 13.5s\n",
      "11:\tlearn: 0.2497790\ttotal: 8.58s\tremaining: 12.9s\n",
      "12:\tlearn: 0.2427693\ttotal: 9.33s\tremaining: 12.2s\n",
      "13:\tlearn: 0.2360570\ttotal: 10.1s\tremaining: 11.5s\n",
      "14:\tlearn: 0.2315891\ttotal: 10.8s\tremaining: 10.8s\n",
      "15:\tlearn: 0.2278511\ttotal: 11.6s\tremaining: 10.1s\n",
      "16:\tlearn: 0.2218301\ttotal: 12.4s\tremaining: 9.46s\n",
      "17:\tlearn: 0.2150525\ttotal: 13.1s\tremaining: 8.76s\n",
      "18:\tlearn: 0.2074904\ttotal: 13.9s\tremaining: 8.05s\n",
      "19:\tlearn: 0.2016879\ttotal: 14.6s\tremaining: 7.3s\n",
      "20:\tlearn: 0.1976201\ttotal: 15.3s\tremaining: 6.56s\n",
      "21:\tlearn: 0.1920241\ttotal: 16s\tremaining: 5.81s\n",
      "22:\tlearn: 0.1839986\ttotal: 16.7s\tremaining: 5.07s\n",
      "23:\tlearn: 0.1761209\ttotal: 17.3s\tremaining: 4.33s\n",
      "24:\tlearn: 0.1710204\ttotal: 18s\tremaining: 3.6s\n",
      "25:\tlearn: 0.1658304\ttotal: 18.7s\tremaining: 2.87s\n",
      "26:\tlearn: 0.1596205\ttotal: 19.3s\tremaining: 2.15s\n",
      "27:\tlearn: 0.1558672\ttotal: 20s\tremaining: 1.43s\n",
      "28:\tlearn: 0.1500993\ttotal: 20.7s\tremaining: 714ms\n",
      "29:\tlearn: 0.1460936\ttotal: 21.4s\tremaining: 0us\n",
      "Accuracy Score : 0.7495621716287215\n",
      "Precision Score : 0.7413793103448276\n",
      "Recall Score : 0.6502016129032258\n",
      "F1 Score : 0.6928034371643395\n"
     ]
    }
   ],
   "source": [
    "catb = CatBoostRegressor(iterations=30, depth=10)\n",
    "catb.fit(X_train, y_train)\n",
    "preds = catb.predict(X_test)\n",
    "\n",
    "print('Accuracy Score : ' + str(accuracy_score(y_test,preds.round())))\n",
    "print('Precision Score : ' + str(precision_score(y_test,preds.round())))\n",
    "print('Recall Score : ' + str(recall_score(y_test,preds.round())))\n",
    "print('F1 Score : ' + str(f1_score(y_test,preds.round())))"
   ]
  },
  {
   "cell_type": "code",
   "execution_count": 61,
   "metadata": {},
   "outputs": [
    {
     "name": "stdout",
     "output_type": "stream",
     "text": [
      "Accuracy Score : 0.7530647985989493\n",
      "Precision Score : 0.7426303854875284\n",
      "Recall Score : 0.6602822580645161\n",
      "F1 Score : 0.6990394877267876\n"
     ]
    }
   ],
   "source": [
    "gb = GradientBoostingRegressor(n_estimators=30, learning_rate=0.1, \n",
    "                                max_depth = 10, random_state = 0)\n",
    "gb.fit(X_train, y_train)\n",
    "preds = gb.predict(X_test)\n",
    "\n",
    "print('Accuracy Score : ' + str(accuracy_score(y_test,preds.round())))\n",
    "print('Precision Score : ' + str(precision_score(y_test,preds.round())))\n",
    "print('Recall Score : ' + str(recall_score(y_test,preds.round())))\n",
    "print('F1 Score : ' + str(f1_score(y_test,preds.round())))"
   ]
  },
  {
   "cell_type": "code",
   "execution_count": 62,
   "metadata": {},
   "outputs": [
    {
     "name": "stdout",
     "output_type": "stream",
     "text": [
      "Learning rate set to 0.5\n",
      "0:\tlearn: 0.4339145\ttotal: 934ms\tremaining: 27.1s\n",
      "1:\tlearn: 0.3949470\ttotal: 1.79s\tremaining: 25s\n",
      "2:\tlearn: 0.3702802\ttotal: 2.67s\tremaining: 24s\n",
      "3:\tlearn: 0.3491851\ttotal: 3.57s\tremaining: 23.2s\n",
      "4:\tlearn: 0.3334044\ttotal: 4.37s\tremaining: 21.9s\n",
      "5:\tlearn: 0.3215564\ttotal: 5.2s\tremaining: 20.8s\n",
      "6:\tlearn: 0.3112869\ttotal: 5.99s\tremaining: 19.7s\n",
      "7:\tlearn: 0.3024755\ttotal: 6.85s\tremaining: 18.8s\n",
      "8:\tlearn: 0.2970200\ttotal: 7.67s\tremaining: 17.9s\n",
      "9:\tlearn: 0.2897154\ttotal: 8.5s\tremaining: 17s\n",
      "10:\tlearn: 0.2823977\ttotal: 9.41s\tremaining: 16.3s\n",
      "11:\tlearn: 0.2775503\ttotal: 10.3s\tremaining: 15.4s\n",
      "12:\tlearn: 0.2740458\ttotal: 11s\tremaining: 14.4s\n",
      "13:\tlearn: 0.2697189\ttotal: 11.9s\tremaining: 13.6s\n",
      "14:\tlearn: 0.2629776\ttotal: 12.7s\tremaining: 12.7s\n",
      "15:\tlearn: 0.2574541\ttotal: 13.5s\tremaining: 11.8s\n",
      "16:\tlearn: 0.2496999\ttotal: 14.4s\tremaining: 11s\n",
      "17:\tlearn: 0.2446372\ttotal: 15.2s\tremaining: 10.1s\n",
      "18:\tlearn: 0.2395233\ttotal: 16s\tremaining: 9.27s\n",
      "19:\tlearn: 0.2330959\ttotal: 16.8s\tremaining: 8.42s\n",
      "20:\tlearn: 0.2271434\ttotal: 17.6s\tremaining: 7.56s\n",
      "21:\tlearn: 0.2227941\ttotal: 18.4s\tremaining: 6.69s\n",
      "22:\tlearn: 0.2160854\ttotal: 19.3s\tremaining: 5.86s\n",
      "23:\tlearn: 0.2118118\ttotal: 20s\tremaining: 5.01s\n",
      "24:\tlearn: 0.2076402\ttotal: 20.8s\tremaining: 4.16s\n",
      "25:\tlearn: 0.2038867\ttotal: 21.6s\tremaining: 3.32s\n",
      "26:\tlearn: 0.1979621\ttotal: 22.3s\tremaining: 2.48s\n",
      "27:\tlearn: 0.1943728\ttotal: 23.2s\tremaining: 1.66s\n",
      "28:\tlearn: 0.1899490\ttotal: 24.1s\tremaining: 830ms\n",
      "29:\tlearn: 0.1858379\ttotal: 24.8s\tremaining: 0us\n",
      "Accuracy Score : 0.9632224168126094\n",
      "Precision Score : 0.9892241379310345\n",
      "Recall Score : 0.9254032258064516\n",
      "F1 Score : 0.9562499999999999\n"
     ]
    }
   ],
   "source": [
    "eclf2 = VotingRegressor(estimators=[\n",
    "         ('xgb', xg_reg), ('rf', rf_model), ('catb', catb), ('gb', gb), ('lgbm',lgb_class)])\n",
    "\n",
    "eclf2 = eclf2.fit(X, y)\n",
    "preds = eclf2.predict(X_test)\n",
    "\n",
    "print('Accuracy Score : ' + str(accuracy_score(y_test,preds.round())))\n",
    "print('Precision Score : ' + str(precision_score(y_test,preds.round())))\n",
    "print('Recall Score : ' + str(recall_score(y_test,preds.round())))\n",
    "print('F1 Score : ' + str(f1_score(y_test,preds.round())))"
   ]
  },
  {
   "cell_type": "code",
   "execution_count": 63,
   "metadata": {},
   "outputs": [
    {
     "data": {
      "text/html": [
       "<div>\n",
       "<style scoped>\n",
       "    .dataframe tbody tr th:only-of-type {\n",
       "        vertical-align: middle;\n",
       "    }\n",
       "\n",
       "    .dataframe tbody tr th {\n",
       "        vertical-align: top;\n",
       "    }\n",
       "\n",
       "    .dataframe thead th {\n",
       "        text-align: right;\n",
       "    }\n",
       "</style>\n",
       "<table border=\"1\" class=\"dataframe\">\n",
       "  <thead>\n",
       "    <tr style=\"text-align: right;\">\n",
       "      <th></th>\n",
       "      <th>word2vec_score</th>\n",
       "    </tr>\n",
       "  </thead>\n",
       "  <tbody>\n",
       "    <tr>\n",
       "      <th>0</th>\n",
       "      <td>0.667608</td>\n",
       "    </tr>\n",
       "    <tr>\n",
       "      <th>1</th>\n",
       "      <td>0.855877</td>\n",
       "    </tr>\n",
       "    <tr>\n",
       "      <th>2</th>\n",
       "      <td>0.892648</td>\n",
       "    </tr>\n",
       "    <tr>\n",
       "      <th>3</th>\n",
       "      <td>0.946222</td>\n",
       "    </tr>\n",
       "    <tr>\n",
       "      <th>4</th>\n",
       "      <td>0.829571</td>\n",
       "    </tr>\n",
       "  </tbody>\n",
       "</table>\n",
       "</div>"
      ],
      "text/plain": [
       "   word2vec_score\n",
       "0        0.667608\n",
       "1        0.855877\n",
       "2        0.892648\n",
       "3        0.946222\n",
       "4        0.829571"
      ]
     },
     "execution_count": 63,
     "metadata": {},
     "output_type": "execute_result"
    }
   ],
   "source": [
    "df = pd.DataFrame(eclf2.predict(X),columns=[\"word2vec_score\"])\n",
    "df.head()"
   ]
  },
  {
   "cell_type": "code",
   "execution_count": 64,
   "metadata": {},
   "outputs": [],
   "source": [
    "final = df.to_csv('../csv/solo_embedding_word2vec_train.csv')"
   ]
  },
  {
   "cell_type": "markdown",
   "metadata": {},
   "source": [
    "### Predicciones"
   ]
  },
  {
   "cell_type": "code",
   "execution_count": 65,
   "metadata": {},
   "outputs": [
    {
     "data": {
      "text/plain": [
       "(3263, 300)"
      ]
     },
     "execution_count": 65,
     "metadata": {},
     "output_type": "execute_result"
    }
   ],
   "source": [
    "normalized_embeddings_test.shape"
   ]
  },
  {
   "cell_type": "code",
   "execution_count": 66,
   "metadata": {},
   "outputs": [],
   "source": [
    "df = pd.DataFrame(eclf2.predict(normalized_embeddings_test),columns=[\"word2vec_score\"])\n",
    "df.head()\n",
    "final = df.to_csv('../csv/solo_embedding_word2vec_test.csv')"
   ]
  },
  {
   "cell_type": "markdown",
   "metadata": {},
   "source": [
    "# Averaging de los 5 árboles"
   ]
  },
  {
   "cell_type": "code",
   "execution_count": 67,
   "metadata": {},
   "outputs": [],
   "source": [
    "aux = pd.DataFrame()\n",
    "aux['xgboost'] = xg_reg.predict(normalized_embeddings_train)\n",
    "aux['random_forest'] = rf_model.predict(normalized_embeddings_train)\n",
    "aux['catboost'] = catb.predict(normalized_embeddings_train)\n",
    "aux['gradient_boosting'] = gb.predict(normalized_embeddings_train)\n",
    "aux['lightgbm'] = lgb_class.predict(normalized_embeddings_train)\n",
    "div = aux.shape[1]"
   ]
  },
  {
   "cell_type": "code",
   "execution_count": 68,
   "metadata": {},
   "outputs": [
    {
     "data": {
      "text/plain": [
       "0       0.682808\n",
       "1       0.835731\n",
       "2       0.929766\n",
       "3       0.977826\n",
       "4       0.830327\n",
       "          ...   \n",
       "7608    0.933017\n",
       "7609    0.929151\n",
       "7610    0.812793\n",
       "7611    0.922264\n",
       "7612    0.973906\n",
       "Length: 7613, dtype: float64"
      ]
     },
     "execution_count": 68,
     "metadata": {},
     "output_type": "execute_result"
    }
   ],
   "source": [
    "suma = aux.sum(axis=1)\n",
    "train_preds = (suma/div)      \n",
    "train_preds"
   ]
  },
  {
   "cell_type": "code",
   "execution_count": 69,
   "metadata": {},
   "outputs": [
    {
     "name": "stdout",
     "output_type": "stream",
     "text": [
      "Accuracy Score : 0.9197425456456062\n",
      "Precision Score : 0.9427430093209055\n",
      "Recall Score : 0.8657902782023846\n",
      "F1 Score : 0.9026294820717131\n"
     ]
    }
   ],
   "source": [
    "print('Accuracy Score : ' + str(accuracy_score(train['target'],train_preds.round())))\n",
    "print('Precision Score : ' + str(precision_score(train['target'],train_preds.round())))\n",
    "print('Recall Score : ' + str(recall_score(train['target'],train_preds.round())))\n",
    "print('F1 Score : ' + str(f1_score(train['target'],train_preds.round())))"
   ]
  },
  {
   "cell_type": "code",
   "execution_count": 70,
   "metadata": {},
   "outputs": [],
   "source": [
    "aux = pd.DataFrame()\n",
    "aux['xgboost'] = xg_reg.predict(normalized_embeddings_test)\n",
    "aux['random_forest'] = rf_model.predict(normalized_embeddings_test)\n",
    "aux['catboost'] = catb.predict(normalized_embeddings_test)\n",
    "aux['gradient_boosting'] = gb.predict(normalized_embeddings_test)\n",
    "aux['lightgbm'] = lgb_class.predict(normalized_embeddings_test)\n",
    "div = aux.shape[1]"
   ]
  },
  {
   "cell_type": "code",
   "execution_count": 71,
   "metadata": {},
   "outputs": [
    {
     "data": {
      "text/plain": [
       "0       0.672410\n",
       "1       0.674629\n",
       "2       0.651223\n",
       "3       0.822961\n",
       "4       0.872475\n",
       "          ...   \n",
       "3258    0.725044\n",
       "3259    0.688839\n",
       "3260    0.742857\n",
       "3261    0.799997\n",
       "3262    0.788248\n",
       "Name: target, Length: 3263, dtype: float64"
      ]
     },
     "execution_count": 71,
     "metadata": {},
     "output_type": "execute_result"
    }
   ],
   "source": [
    "suma = aux.sum(axis=1)\n",
    "test['target'] = (suma/div)\n",
    "test_preds = test['target']           \n",
    "test_preds"
   ]
  },
  {
   "cell_type": "code",
   "execution_count": 72,
   "metadata": {},
   "outputs": [],
   "source": [
    "aux['target'] = test_preds\n",
    "aux = aux['target'].to_frame()\n",
    "aux.to_csv('../csv/avg_w2v_test.csv')"
   ]
  }
 ],
 "metadata": {
  "kernelspec": {
   "display_name": "Python 3",
   "language": "python",
   "name": "python3"
  },
  "language_info": {
   "codemirror_mode": {
    "name": "ipython",
    "version": 3
   },
   "file_extension": ".py",
   "mimetype": "text/x-python",
   "name": "python",
   "nbconvert_exporter": "python",
   "pygments_lexer": "ipython3",
   "version": "3.7.3"
  }
 },
 "nbformat": 4,
 "nbformat_minor": 4
}
