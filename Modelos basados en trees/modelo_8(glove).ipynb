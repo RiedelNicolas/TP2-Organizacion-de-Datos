{
 "cells": [
  {
   "cell_type": "markdown",
   "metadata": {},
   "source": [
    "# Se importan las bibliotecas necesarias"
   ]
  },
  {
   "cell_type": "code",
   "execution_count": 1,
   "metadata": {},
   "outputs": [],
   "source": [
    "import pandas as pd\n",
    "import re\n",
    "import numpy as np\n",
    "import xgboost as xgb\n",
    "import matplotlib.pyplot as plt\n",
    "from sklearn.model_selection import train_test_split,GridSearchCV\n",
    "from sklearn.ensemble import RandomForestRegressor, GradientBoostingRegressor, VotingRegressor\n",
    "from sklearn.metrics import accuracy_score,recall_score,precision_score,f1_score\n",
    "from sklearn.metrics import mean_squared_error\n",
    "import lightgbm as lgb\n",
    "from catboost import CatBoostRegressor\n",
    "from gensim.models import KeyedVectors\n",
    "from gensim.scripts.glove2word2vec import glove2word2vec\n",
    "from gensim.parsing.preprocessing import STOPWORDS\n",
    "%matplotlib inline"
   ]
  },
  {
   "cell_type": "markdown",
   "metadata": {},
   "source": [
    " "
   ]
  },
  {
   "cell_type": "markdown",
   "metadata": {},
   "source": [
    "# Se lee el .csv"
   ]
  },
  {
   "cell_type": "code",
   "execution_count": 2,
   "metadata": {},
   "outputs": [
    {
     "name": "stdout",
     "output_type": "stream",
     "text": [
      "<class 'pandas.core.frame.DataFrame'>\n",
      "RangeIndex: 7613 entries, 0 to 7612\n",
      "Data columns (total 5 columns):\n",
      " #   Column    Non-Null Count  Dtype \n",
      "---  ------    --------------  ----- \n",
      " 0   id        7613 non-null   int64 \n",
      " 1   keyword   7552 non-null   object\n",
      " 2   location  5080 non-null   object\n",
      " 3   text      7613 non-null   object\n",
      " 4   target    7613 non-null   int64 \n",
      "dtypes: int64(2), object(3)\n",
      "memory usage: 297.5+ KB\n"
     ]
    }
   ],
   "source": [
    "train = pd.read_csv('../csv/train.csv')\n",
    "train.info()"
   ]
  },
  {
   "cell_type": "code",
   "execution_count": 3,
   "metadata": {},
   "outputs": [
    {
     "data": {
      "text/html": [
       "<div>\n",
       "<style scoped>\n",
       "    .dataframe tbody tr th:only-of-type {\n",
       "        vertical-align: middle;\n",
       "    }\n",
       "\n",
       "    .dataframe tbody tr th {\n",
       "        vertical-align: top;\n",
       "    }\n",
       "\n",
       "    .dataframe thead th {\n",
       "        text-align: right;\n",
       "    }\n",
       "</style>\n",
       "<table border=\"1\" class=\"dataframe\">\n",
       "  <thead>\n",
       "    <tr style=\"text-align: right;\">\n",
       "      <th></th>\n",
       "      <th>id</th>\n",
       "      <th>keyword</th>\n",
       "      <th>location</th>\n",
       "      <th>text</th>\n",
       "      <th>target</th>\n",
       "    </tr>\n",
       "  </thead>\n",
       "  <tbody>\n",
       "    <tr>\n",
       "      <th>0</th>\n",
       "      <td>1</td>\n",
       "      <td>NaN</td>\n",
       "      <td>NaN</td>\n",
       "      <td>Our Deeds are the Reason of this #earthquake M...</td>\n",
       "      <td>1</td>\n",
       "    </tr>\n",
       "    <tr>\n",
       "      <th>1</th>\n",
       "      <td>4</td>\n",
       "      <td>NaN</td>\n",
       "      <td>NaN</td>\n",
       "      <td>Forest fire near La Ronge Sask. Canada</td>\n",
       "      <td>1</td>\n",
       "    </tr>\n",
       "    <tr>\n",
       "      <th>2</th>\n",
       "      <td>5</td>\n",
       "      <td>NaN</td>\n",
       "      <td>NaN</td>\n",
       "      <td>All residents asked to 'shelter in place' are ...</td>\n",
       "      <td>1</td>\n",
       "    </tr>\n",
       "    <tr>\n",
       "      <th>3</th>\n",
       "      <td>6</td>\n",
       "      <td>NaN</td>\n",
       "      <td>NaN</td>\n",
       "      <td>13,000 people receive #wildfires evacuation or...</td>\n",
       "      <td>1</td>\n",
       "    </tr>\n",
       "    <tr>\n",
       "      <th>4</th>\n",
       "      <td>7</td>\n",
       "      <td>NaN</td>\n",
       "      <td>NaN</td>\n",
       "      <td>Just got sent this photo from Ruby #Alaska as ...</td>\n",
       "      <td>1</td>\n",
       "    </tr>\n",
       "  </tbody>\n",
       "</table>\n",
       "</div>"
      ],
      "text/plain": [
       "   id keyword location                                               text  \\\n",
       "0   1     NaN      NaN  Our Deeds are the Reason of this #earthquake M...   \n",
       "1   4     NaN      NaN             Forest fire near La Ronge Sask. Canada   \n",
       "2   5     NaN      NaN  All residents asked to 'shelter in place' are ...   \n",
       "3   6     NaN      NaN  13,000 people receive #wildfires evacuation or...   \n",
       "4   7     NaN      NaN  Just got sent this photo from Ruby #Alaska as ...   \n",
       "\n",
       "   target  \n",
       "0       1  \n",
       "1       1  \n",
       "2       1  \n",
       "3       1  \n",
       "4       1  "
      ]
     },
     "execution_count": 3,
     "metadata": {},
     "output_type": "execute_result"
    }
   ],
   "source": [
    "train.head()"
   ]
  },
  {
   "cell_type": "code",
   "execution_count": 4,
   "metadata": {},
   "outputs": [
    {
     "name": "stdout",
     "output_type": "stream",
     "text": [
      "<class 'pandas.core.frame.DataFrame'>\n",
      "RangeIndex: 3263 entries, 0 to 3262\n",
      "Data columns (total 4 columns):\n",
      " #   Column    Non-Null Count  Dtype \n",
      "---  ------    --------------  ----- \n",
      " 0   id        3263 non-null   int64 \n",
      " 1   keyword   3237 non-null   object\n",
      " 2   location  2158 non-null   object\n",
      " 3   text      3263 non-null   object\n",
      "dtypes: int64(1), object(3)\n",
      "memory usage: 102.1+ KB\n"
     ]
    }
   ],
   "source": [
    "test = pd.read_csv('../csv/test.csv')\n",
    "test.info()"
   ]
  },
  {
   "cell_type": "markdown",
   "metadata": {},
   "source": [
    "# Se cargan los embeddings pre-entrenados"
   ]
  },
  {
   "cell_type": "code",
   "execution_count": 5,
   "metadata": {},
   "outputs": [],
   "source": [
    "# # descargar glove.twitter.27B.zip de aca https://nlp.stanford.edu/projects/glove/ pesa 1.75gb\n",
    "# glove_input = '../glove.twitter.27B.200d.txt'\n",
    "# word2vec_output = '../glove.twitter.27B.200d.txt.word2vec'\n",
    "# glove2word2vec(glove_input, word2vec_output)"
   ]
  },
  {
   "cell_type": "code",
   "execution_count": 6,
   "metadata": {},
   "outputs": [],
   "source": [
    "# glove = KeyedVectors.load_word2vec_format(word2vec_output, binary=False)"
   ]
  },
  {
   "cell_type": "markdown",
   "metadata": {},
   "source": [
    "# Elaboración del modelo"
   ]
  },
  {
   "cell_type": "markdown",
   "metadata": {},
   "source": [
    "Para este modelo se aplicará NLP para el procesamiento de los tweets y se utilizarán distintos árboles de decisión para realizar las predicciones:"
   ]
  },
  {
   "cell_type": "markdown",
   "metadata": {},
   "source": [
    "### Preparación del set de datos"
   ]
  },
  {
   "cell_type": "code",
   "execution_count": 7,
   "metadata": {},
   "outputs": [],
   "source": [
    "long_embedding = 200"
   ]
  },
  {
   "cell_type": "markdown",
   "metadata": {},
   "source": [
    "#### Generación de embeddings"
   ]
  },
  {
   "cell_type": "code",
   "execution_count": 8,
   "metadata": {},
   "outputs": [],
   "source": [
    "# #Devuelve una lista de tweets dejando solo caracteres alfanumericos\n",
    "# def clean_text(df):\n",
    "#     words = df['text'].str.split()\n",
    "#     clean_words = []\n",
    "\n",
    "#     for sentence in words:\n",
    "#         clean_sentence = []\n",
    "#         for word in sentence:\n",
    "#             clean_word = re.sub('[^a-zA-Z]','', word)\n",
    "#             if(clean_word != '')&(clean_word not in STOPWORDS):\n",
    "#                 clean_sentence.append(clean_word.lower())\n",
    "#         clean_words.append(clean_sentence)\n",
    "    \n",
    "#     return clean_words"
   ]
  },
  {
   "cell_type": "code",
   "execution_count": 9,
   "metadata": {},
   "outputs": [],
   "source": [
    "# def tweets_embeddings(df):\n",
    "\n",
    "#     embeddings = np.zeros((len(df.index),long_embedding), dtype='float32') \n",
    "#     normalized_embeddings = np.zeros((len(df.index),long_embedding),dtype='float32')\n",
    "\n",
    "#     contador = 0\n",
    "#     for tweet in df['clean_text']:\n",
    "#         cant_palabras = 0\n",
    "#         embedded_tweet = np.zeros((long_embedding,), dtype='float32')\n",
    "\n",
    "#         for word in tweet:\n",
    "#             if word in glove.vocab:\n",
    "#                 embedded_tweet = np.add(glove[word],embedded_tweet)\n",
    "#                 cant_palabras += 1     \n",
    "\n",
    "#         embeddings[contador] = embedded_tweet\n",
    "\n",
    "#         if cant_palabras!=0:\n",
    "#             normalized_embeddings[contador] = np.divide(embedded_tweet,cant_palabras)\n",
    "#         else:\n",
    "#             normalized_embeddings[contador] = embedded_tweet\n",
    "\n",
    "#         contador += 1    \n",
    "        \n",
    "#     return embeddings, normalized_embeddings\n"
   ]
  },
  {
   "cell_type": "code",
   "execution_count": 10,
   "metadata": {},
   "outputs": [],
   "source": [
    "# # Devuelve un dataframe con todos los features considerados para el modelo\n",
    "# def generate_embeddings(df):\n",
    "    \n",
    "#     df['clean_text'] = clean_text(df)\n",
    "#     df.drop(columns=['keyword','location','text'], inplace=True)\n",
    "#     df.set_index('id', inplace=True)\n",
    "    \n",
    "#     return tweets_embeddings(df)\n",
    "    "
   ]
  },
  {
   "cell_type": "code",
   "execution_count": 11,
   "metadata": {},
   "outputs": [],
   "source": [
    "# embeddings_train, normalized_embeddings_train = generate_embeddings(train)"
   ]
  },
  {
   "cell_type": "code",
   "execution_count": 12,
   "metadata": {},
   "outputs": [],
   "source": [
    "# train_embedding_file = open(\"../train_embedding_file_glove.txt\", \"w\")\n",
    "\n",
    "# for i in embeddings_train:\n",
    "#     np.savetxt(train_embedding_file, i)\n",
    "\n",
    "# train_embedding_file.close()"
   ]
  },
  {
   "cell_type": "code",
   "execution_count": 13,
   "metadata": {},
   "outputs": [],
   "source": [
    "# train_embedding_file = open(\"../train_embedding_file_glove(norm).txt\", \"w\")\n",
    "\n",
    "# for i in normalized_embeddings_train:\n",
    "#     np.savetxt(train_embedding_file, i)\n",
    "\n",
    "# train_embedding_file.close()"
   ]
  },
  {
   "cell_type": "code",
   "execution_count": 14,
   "metadata": {},
   "outputs": [],
   "source": [
    "# embeddings_test, normalized_embeddings_test = generate_embeddings(test)"
   ]
  },
  {
   "cell_type": "code",
   "execution_count": 15,
   "metadata": {},
   "outputs": [],
   "source": [
    "# test_embedding_file = open(\"../test_embedding_file_glove.txt\", \"w\")\n",
    "\n",
    "# for i in embeddings_test:\n",
    "#     np.savetxt(test_embedding_file, i)\n",
    "\n",
    "# test_embedding_file.close()"
   ]
  },
  {
   "cell_type": "code",
   "execution_count": 16,
   "metadata": {},
   "outputs": [],
   "source": [
    "# test_embedding_file = open(\"../test_embedding_file_glove(norm).txt\", \"w\")\n",
    "\n",
    "# for i in normalized_embeddings_test:\n",
    "#     np.savetxt(test_embedding_file, i)\n",
    "\n",
    "# test_embedding_file.close()"
   ]
  },
  {
   "cell_type": "markdown",
   "metadata": {},
   "source": [
    "#### Lectura de embeddings"
   ]
  },
  {
   "cell_type": "code",
   "execution_count": 17,
   "metadata": {},
   "outputs": [],
   "source": [
    "# embeddings_train = np.loadtxt(\"../train_embedding_file_glove.txt\").reshape(len(train.index),long_embedding)\n",
    "# embeddings_train.shape"
   ]
  },
  {
   "cell_type": "code",
   "execution_count": 18,
   "metadata": {},
   "outputs": [
    {
     "data": {
      "text/plain": [
       "(7613, 200)"
      ]
     },
     "execution_count": 18,
     "metadata": {},
     "output_type": "execute_result"
    }
   ],
   "source": [
    "normalized_embeddings_train = np.loadtxt(\"../train_embedding_file_glove(norm).txt\").reshape(len(train.index),long_embedding)\n",
    "normalized_embeddings_train.shape"
   ]
  },
  {
   "cell_type": "code",
   "execution_count": 19,
   "metadata": {},
   "outputs": [],
   "source": [
    "# embeddings_test = np.loadtxt(\"../test_embedding_file_glove.txt\").reshape(len(test.index),long_embedding)\n",
    "# embeddings_test.shape"
   ]
  },
  {
   "cell_type": "code",
   "execution_count": 20,
   "metadata": {},
   "outputs": [
    {
     "data": {
      "text/plain": [
       "(3263, 200)"
      ]
     },
     "execution_count": 20,
     "metadata": {},
     "output_type": "execute_result"
    }
   ],
   "source": [
    "normalized_embeddings_test = np.loadtxt(\"../test_embedding_file_glove(norm).txt\").reshape(len(test.index),long_embedding)\n",
    "normalized_embeddings_test.shape"
   ]
  },
  {
   "cell_type": "markdown",
   "metadata": {},
   "source": [
    "### Entrenamiento del set de datos considerando sólo 'embeddings'"
   ]
  },
  {
   "cell_type": "code",
   "execution_count": 21,
   "metadata": {},
   "outputs": [],
   "source": [
    "X, y = normalized_embeddings_train, train['target']\n",
    "X_train, X_test, y_train, y_test = train_test_split(X, y, test_size=0.1, random_state=13)"
   ]
  },
  {
   "cell_type": "code",
   "execution_count": 68,
   "metadata": {},
   "outputs": [
    {
     "name": "stdout",
     "output_type": "stream",
     "text": [
      "Accuracy Score : 0.8241469816272966\n",
      "Precision Score : 0.8501742160278746\n",
      "Recall Score : 0.7283582089552239\n",
      "F1 Score : 0.7845659163987138\n"
     ]
    }
   ],
   "source": [
    "xg_reg = xgb.XGBRegressor(objective ='binary:logistic', \n",
    "                colsample_bytree = 0.3, learning_rate = 0.1,\n",
    "                max_depth = 10, alpha = 15, n_estimators = 30)\n",
    "\n",
    "xg_reg.fit(X_train,y_train)\n",
    "preds = xg_reg.predict(X_test)\n",
    "print('Accuracy Score : ' + str(accuracy_score(y_test,preds.round())))\n",
    "print('Precision Score : ' + str(precision_score(y_test,preds.round())))\n",
    "print('Recall Score : ' + str(recall_score(y_test,preds.round())))\n",
    "print('F1 Score : ' + str(f1_score(y_test,preds.round())))"
   ]
  },
  {
   "cell_type": "code",
   "execution_count": 69,
   "metadata": {},
   "outputs": [
    {
     "name": "stdout",
     "output_type": "stream",
     "text": [
      "Accuracy Score : 0.8149606299212598\n",
      "Precision Score : 0.8464285714285714\n",
      "Recall Score : 0.7074626865671642\n",
      "F1 Score : 0.7707317073170731\n"
     ]
    }
   ],
   "source": [
    "rf_model = RandomForestRegressor(random_state=13, n_estimators=30, max_depth=10)\n",
    "rf_model.fit(X_train, y_train)\n",
    "preds = rf_model.predict(X_test)\n",
    "\n",
    "print('Accuracy Score : ' + str(accuracy_score(y_test,preds.round())))\n",
    "print('Precision Score : ' + str(precision_score(y_test,preds.round())))\n",
    "print('Recall Score : ' + str(recall_score(y_test,preds.round())))\n",
    "print('F1 Score : ' + str(f1_score(y_test,preds.round())))"
   ]
  },
  {
   "cell_type": "code",
   "execution_count": 70,
   "metadata": {},
   "outputs": [
    {
     "name": "stdout",
     "output_type": "stream",
     "text": [
      "Accuracy Score : 0.8241469816272966\n",
      "Precision Score : 0.8477508650519031\n",
      "Recall Score : 0.7313432835820896\n",
      "F1 Score : 0.7852564102564102\n"
     ]
    }
   ],
   "source": [
    "lgb_class = lgb.LGBMRegressor(learning_rate = 0.1,\n",
    "                max_depth = 10, alpha = 10, n_estimators = 30)\n",
    "lgb_class.fit(X_train, y_train)\n",
    "preds = lgb_class.predict(X_test)\n",
    "\n",
    "print('Accuracy Score : ' + str(accuracy_score(y_test,preds.round())))\n",
    "print('Precision Score : ' + str(precision_score(y_test,preds.round())))\n",
    "print('Recall Score : ' + str(recall_score(y_test,preds.round())))\n",
    "print('F1 Score : ' + str(f1_score(y_test,preds.round())))"
   ]
  },
  {
   "cell_type": "code",
   "execution_count": 71,
   "metadata": {},
   "outputs": [
    {
     "name": "stdout",
     "output_type": "stream",
     "text": [
      "Learning rate set to 0.5\n",
      "0:\tlearn: 0.4278340\ttotal: 489ms\tremaining: 14.2s\n",
      "1:\tlearn: 0.3873108\ttotal: 1s\tremaining: 14s\n",
      "2:\tlearn: 0.3582024\ttotal: 1.49s\tremaining: 13.4s\n",
      "3:\tlearn: 0.3391276\ttotal: 1.98s\tremaining: 12.9s\n",
      "4:\tlearn: 0.3244853\ttotal: 2.48s\tremaining: 12.4s\n",
      "5:\tlearn: 0.3146681\ttotal: 2.97s\tremaining: 11.9s\n",
      "6:\tlearn: 0.3046408\ttotal: 3.46s\tremaining: 11.4s\n",
      "7:\tlearn: 0.2958682\ttotal: 3.95s\tremaining: 10.9s\n",
      "8:\tlearn: 0.2881414\ttotal: 4.43s\tremaining: 10.3s\n",
      "9:\tlearn: 0.2818054\ttotal: 4.93s\tremaining: 9.85s\n",
      "10:\tlearn: 0.2754219\ttotal: 5.42s\tremaining: 9.36s\n",
      "11:\tlearn: 0.2672088\ttotal: 5.89s\tremaining: 8.84s\n",
      "12:\tlearn: 0.2614297\ttotal: 6.38s\tremaining: 8.35s\n",
      "13:\tlearn: 0.2559497\ttotal: 6.88s\tremaining: 7.86s\n",
      "14:\tlearn: 0.2502706\ttotal: 7.37s\tremaining: 7.37s\n",
      "15:\tlearn: 0.2453379\ttotal: 7.86s\tremaining: 6.87s\n",
      "16:\tlearn: 0.2393525\ttotal: 8.34s\tremaining: 6.38s\n",
      "17:\tlearn: 0.2356625\ttotal: 8.83s\tremaining: 5.89s\n",
      "18:\tlearn: 0.2304089\ttotal: 9.33s\tremaining: 5.4s\n",
      "19:\tlearn: 0.2254712\ttotal: 9.81s\tremaining: 4.9s\n",
      "20:\tlearn: 0.2219649\ttotal: 10.3s\tremaining: 4.41s\n",
      "21:\tlearn: 0.2181467\ttotal: 10.8s\tremaining: 3.92s\n",
      "22:\tlearn: 0.2131459\ttotal: 11.3s\tremaining: 3.43s\n",
      "23:\tlearn: 0.2084859\ttotal: 11.8s\tremaining: 2.94s\n",
      "24:\tlearn: 0.2016307\ttotal: 12.3s\tremaining: 2.45s\n",
      "25:\tlearn: 0.1967531\ttotal: 12.8s\tremaining: 1.97s\n",
      "26:\tlearn: 0.1918160\ttotal: 13.3s\tremaining: 1.48s\n",
      "27:\tlearn: 0.1868496\ttotal: 13.8s\tremaining: 989ms\n",
      "28:\tlearn: 0.1817821\ttotal: 14.4s\tremaining: 495ms\n",
      "29:\tlearn: 0.1792285\ttotal: 14.9s\tremaining: 0us\n",
      "Accuracy Score : 0.7742782152230971\n",
      "Precision Score : 0.770764119601329\n",
      "Recall Score : 0.6925373134328359\n",
      "F1 Score : 0.729559748427673\n"
     ]
    }
   ],
   "source": [
    "catb = CatBoostRegressor(iterations=30, depth=10)\n",
    "catb.fit(X_train, y_train)\n",
    "preds = catb.predict(X_test)\n",
    "\n",
    "print('Accuracy Score : ' + str(accuracy_score(y_test,preds.round())))\n",
    "print('Precision Score : ' + str(precision_score(y_test,preds.round())))\n",
    "print('Recall Score : ' + str(recall_score(y_test,preds.round())))\n",
    "print('F1 Score : ' + str(f1_score(y_test,preds.round())))"
   ]
  },
  {
   "cell_type": "code",
   "execution_count": 72,
   "metadata": {},
   "outputs": [
    {
     "name": "stdout",
     "output_type": "stream",
     "text": [
      "Accuracy Score : 0.8018372703412073\n",
      "Precision Score : 0.8309352517985612\n",
      "Recall Score : 0.6895522388059702\n",
      "F1 Score : 0.7536704730831975\n"
     ]
    }
   ],
   "source": [
    "gb = GradientBoostingRegressor(n_estimators=30, learning_rate=0.1, \n",
    "                                 max_depth = 10, random_state = 0)\n",
    "gb.fit(X_train, y_train)\n",
    "preds = gb.predict(X_test)\n",
    "\n",
    "print('Accuracy Score : ' + str(accuracy_score(y_test,preds.round())))\n",
    "print('Precision Score : ' + str(precision_score(y_test,preds.round())))\n",
    "print('Recall Score : ' + str(recall_score(y_test,preds.round())))\n",
    "print('F1 Score : ' + str(f1_score(y_test,preds.round())))"
   ]
  },
  {
   "cell_type": "code",
   "execution_count": 74,
   "metadata": {},
   "outputs": [
    {
     "name": "stdout",
     "output_type": "stream",
     "text": [
      "Learning rate set to 0.5\n",
      "0:\tlearn: 0.4303131\ttotal: 484ms\tremaining: 14s\n",
      "1:\tlearn: 0.3886305\ttotal: 967ms\tremaining: 13.5s\n",
      "2:\tlearn: 0.3634779\ttotal: 1.48s\tremaining: 13.3s\n",
      "3:\tlearn: 0.3458650\ttotal: 1.98s\tremaining: 12.9s\n",
      "4:\tlearn: 0.3319806\ttotal: 2.5s\tremaining: 12.5s\n",
      "5:\tlearn: 0.3231858\ttotal: 3.06s\tremaining: 12.2s\n",
      "6:\tlearn: 0.3126361\ttotal: 3.58s\tremaining: 11.8s\n",
      "7:\tlearn: 0.3035727\ttotal: 4.09s\tremaining: 11.3s\n",
      "8:\tlearn: 0.2960302\ttotal: 4.6s\tremaining: 10.7s\n",
      "9:\tlearn: 0.2903933\ttotal: 5.11s\tremaining: 10.2s\n",
      "10:\tlearn: 0.2829280\ttotal: 5.63s\tremaining: 9.72s\n",
      "11:\tlearn: 0.2763947\ttotal: 6.17s\tremaining: 9.25s\n",
      "12:\tlearn: 0.2713997\ttotal: 6.7s\tremaining: 8.76s\n",
      "13:\tlearn: 0.2671406\ttotal: 7.22s\tremaining: 8.25s\n",
      "14:\tlearn: 0.2613672\ttotal: 7.7s\tremaining: 7.7s\n",
      "15:\tlearn: 0.2565396\ttotal: 8.16s\tremaining: 7.14s\n",
      "16:\tlearn: 0.2500948\ttotal: 8.63s\tremaining: 6.6s\n",
      "17:\tlearn: 0.2457449\ttotal: 9.12s\tremaining: 6.08s\n",
      "18:\tlearn: 0.2398815\ttotal: 9.61s\tremaining: 5.57s\n",
      "19:\tlearn: 0.2357633\ttotal: 10.1s\tremaining: 5.04s\n",
      "20:\tlearn: 0.2308728\ttotal: 10.6s\tremaining: 4.53s\n",
      "21:\tlearn: 0.2262159\ttotal: 11s\tremaining: 4.02s\n",
      "22:\tlearn: 0.2194688\ttotal: 11.5s\tremaining: 3.51s\n",
      "23:\tlearn: 0.2145811\ttotal: 12s\tremaining: 3s\n",
      "24:\tlearn: 0.2103582\ttotal: 12.5s\tremaining: 2.49s\n",
      "25:\tlearn: 0.2044640\ttotal: 12.9s\tremaining: 1.99s\n",
      "26:\tlearn: 0.1993580\ttotal: 13.4s\tremaining: 1.49s\n",
      "27:\tlearn: 0.1947125\ttotal: 13.9s\tremaining: 991ms\n",
      "28:\tlearn: 0.1892822\ttotal: 14.3s\tremaining: 494ms\n",
      "29:\tlearn: 0.1848294\ttotal: 14.8s\tremaining: 0us\n",
      "Accuracy Score : 0.9658792650918635\n",
      "Precision Score : 0.9843260188087775\n",
      "Recall Score : 0.9373134328358209\n",
      "F1 Score : 0.9602446483180428\n"
     ]
    }
   ],
   "source": [
    "eclf2 = VotingRegressor(estimators=[\n",
    "         ('xgb', xg_reg), ('rf', rf_model), ('catb', catb), ('gb', gb), ('lgbm',lgb_class)])\n",
    "\n",
    "eclf2 = eclf2.fit(X, y)\n",
    "preds = eclf2.predict(X_test)\n",
    "\n",
    "print('Accuracy Score : ' + str(accuracy_score(y_test,preds.round())))\n",
    "print('Precision Score : ' + str(precision_score(y_test,preds.round())))\n",
    "print('Recall Score : ' + str(recall_score(y_test,preds.round())))\n",
    "print('F1 Score : ' + str(f1_score(y_test,preds.round())))"
   ]
  },
  {
   "cell_type": "code",
   "execution_count": 75,
   "metadata": {},
   "outputs": [
    {
     "data": {
      "text/html": [
       "<div>\n",
       "<style scoped>\n",
       "    .dataframe tbody tr th:only-of-type {\n",
       "        vertical-align: middle;\n",
       "    }\n",
       "\n",
       "    .dataframe tbody tr th {\n",
       "        vertical-align: top;\n",
       "    }\n",
       "\n",
       "    .dataframe thead th {\n",
       "        text-align: right;\n",
       "    }\n",
       "</style>\n",
       "<table border=\"1\" class=\"dataframe\">\n",
       "  <thead>\n",
       "    <tr style=\"text-align: right;\">\n",
       "      <th></th>\n",
       "      <th>glove_score</th>\n",
       "    </tr>\n",
       "  </thead>\n",
       "  <tbody>\n",
       "    <tr>\n",
       "      <th>0</th>\n",
       "      <td>0.635028</td>\n",
       "    </tr>\n",
       "    <tr>\n",
       "      <th>1</th>\n",
       "      <td>0.877394</td>\n",
       "    </tr>\n",
       "    <tr>\n",
       "      <th>2</th>\n",
       "      <td>0.870452</td>\n",
       "    </tr>\n",
       "    <tr>\n",
       "      <th>3</th>\n",
       "      <td>0.860857</td>\n",
       "    </tr>\n",
       "    <tr>\n",
       "      <th>4</th>\n",
       "      <td>0.758754</td>\n",
       "    </tr>\n",
       "  </tbody>\n",
       "</table>\n",
       "</div>"
      ],
      "text/plain": [
       "   glove_score\n",
       "0     0.635028\n",
       "1     0.877394\n",
       "2     0.870452\n",
       "3     0.860857\n",
       "4     0.758754"
      ]
     },
     "execution_count": 75,
     "metadata": {},
     "output_type": "execute_result"
    }
   ],
   "source": [
    "df = pd.DataFrame(eclf2.predict(X),columns=[\"glove_score\"])\n",
    "df.head()"
   ]
  },
  {
   "cell_type": "code",
   "execution_count": 76,
   "metadata": {},
   "outputs": [],
   "source": [
    "final = df.to_csv('../csv/solo_embedding_glove_train.csv')"
   ]
  },
  {
   "cell_type": "markdown",
   "metadata": {},
   "source": [
    "### Predicciones"
   ]
  },
  {
   "cell_type": "code",
   "execution_count": 77,
   "metadata": {},
   "outputs": [],
   "source": [
    "df = pd.DataFrame(eclf2.predict(normalized_embeddings_test),columns=[\"glove_score\"])\n",
    "df.head()\n",
    "final = df.to_csv('../csv/solo_embedding_glove_test.csv')"
   ]
  },
  {
   "cell_type": "markdown",
   "metadata": {},
   "source": [
    "# Averaging de los 5 árboles"
   ]
  },
  {
   "cell_type": "code",
   "execution_count": 78,
   "metadata": {},
   "outputs": [],
   "source": [
    "aux = pd.DataFrame()\n",
    "aux['xgboost'] = xg_reg.predict(normalized_embeddings_train)\n",
    "aux['random_forest'] = rf_model.predict(normalized_embeddings_train)\n",
    "aux['catboost'] = catb.predict(normalized_embeddings_train)\n",
    "aux['gradient_boosting'] = gb.predict(normalized_embeddings_train)\n",
    "aux['lightgbm'] = lgb_class.predict(normalized_embeddings_train)\n",
    "div = aux.shape[1]"
   ]
  },
  {
   "cell_type": "code",
   "execution_count": 79,
   "metadata": {},
   "outputs": [
    {
     "data": {
      "text/plain": [
       "0       0.695463\n",
       "1       0.871951\n",
       "2       0.832953\n",
       "3       0.723936\n",
       "4       0.708244\n",
       "          ...   \n",
       "7608    0.964543\n",
       "7609    0.951521\n",
       "7610    0.899861\n",
       "7611    0.896397\n",
       "7612    0.958406\n",
       "Length: 7613, dtype: float64"
      ]
     },
     "execution_count": 79,
     "metadata": {},
     "output_type": "execute_result"
    }
   ],
   "source": [
    "suma = aux.sum(axis=1)\n",
    "train_preds = (suma/div)      \n",
    "train_preds"
   ]
  },
  {
   "cell_type": "code",
   "execution_count": 80,
   "metadata": {},
   "outputs": [
    {
     "name": "stdout",
     "output_type": "stream",
     "text": [
      "Accuracy Score : 0.9527124655195061\n",
      "Precision Score : 0.9727184150698278\n",
      "Recall Score : 0.9156221339040049\n",
      "F1 Score : 0.9433070866141732\n"
     ]
    }
   ],
   "source": [
    "print('Accuracy Score : ' + str(accuracy_score(train['target'],train_preds.round())))\n",
    "print('Precision Score : ' + str(precision_score(train['target'],train_preds.round())))\n",
    "print('Recall Score : ' + str(recall_score(train['target'],train_preds.round())))\n",
    "print('F1 Score : ' + str(f1_score(train['target'],train_preds.round())))"
   ]
  },
  {
   "cell_type": "code",
   "execution_count": 81,
   "metadata": {},
   "outputs": [],
   "source": [
    "aux = pd.DataFrame()\n",
    "aux['xgboost'] = xg_reg.predict(normalized_embeddings_test)\n",
    "aux['random_forest'] = rf_model.predict(normalized_embeddings_test)\n",
    "aux['catboost'] = catb.predict(normalized_embeddings_test)\n",
    "aux['gradient_boosting'] = gb.predict(normalized_embeddings_test)\n",
    "aux['lightgbm'] = lgb_class.predict(normalized_embeddings_test)\n",
    "div = aux.shape[1]"
   ]
  },
  {
   "cell_type": "code",
   "execution_count": 82,
   "metadata": {},
   "outputs": [
    {
     "data": {
      "text/plain": [
       "0       0.613861\n",
       "1       0.710942\n",
       "2       0.469730\n",
       "3       0.829392\n",
       "4       0.924767\n",
       "          ...   \n",
       "3258    0.620309\n",
       "3259    0.767147\n",
       "3260    0.658395\n",
       "3261    0.789026\n",
       "3262    0.404147\n",
       "Name: target, Length: 3263, dtype: float64"
      ]
     },
     "execution_count": 82,
     "metadata": {},
     "output_type": "execute_result"
    }
   ],
   "source": [
    "suma = aux.sum(axis=1)\n",
    "test['target'] = (suma/div)\n",
    "test_preds = test['target']           \n",
    "test_preds"
   ]
  },
  {
   "cell_type": "code",
   "execution_count": 83,
   "metadata": {},
   "outputs": [],
   "source": [
    "aux['target'] = test_preds\n",
    "aux = aux['target'].to_frame()\n",
    "aux.to_csv('../csv/avg_glove_test.csv')"
   ]
  }
 ],
 "metadata": {
  "kernelspec": {
   "display_name": "Python 3",
   "language": "python",
   "name": "python3"
  },
  "language_info": {
   "codemirror_mode": {
    "name": "ipython",
    "version": 3
   },
   "file_extension": ".py",
   "mimetype": "text/x-python",
   "name": "python",
   "nbconvert_exporter": "python",
   "pygments_lexer": "ipython3",
   "version": "3.7.3"
  }
 },
 "nbformat": 4,
 "nbformat_minor": 4
}
